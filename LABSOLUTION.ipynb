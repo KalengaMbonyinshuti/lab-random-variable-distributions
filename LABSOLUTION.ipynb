{
 "cells": [
  {
   "cell_type": "markdown",
   "id": "0b45dc31",
   "metadata": {},
   "source": [
    "Import the necessary libraries."
   ]
  },
  {
   "cell_type": "code",
   "execution_count": 1,
   "id": "b1642e76",
   "metadata": {},
   "outputs": [],
   "source": [
    "import pandas as pd\n",
    "import numpy as np\n",
    "import seaborn as sns\n",
    "import matplotlib.pyplot as plt\n",
    "from sklearn.preprocessing import OneHotEncoder\n",
    "from sklearn.model_selection import train_test_split\n",
    "from sklearn.preprocessing import PowerTransformer\n",
    "from sklearn.preprocessing import MinMaxScaler\n",
    "from sklearn.linear_model import LinearRegression\n",
    "from sklearn.neighbors import KNeighborsRegressor\n",
    "from sklearn.neural_network import MLPRegressor\n",
    "from sklearn.metrics import mean_absolute_error as mae\n",
    "from sklearn.metrics import mean_squared_error as mse\n",
    "from sklearn.metrics import mean_absolute_percentage_error as mape\n",
    "from sklearn.metrics import r2_score\n",
    "import warnings\n",
    "\n",
    "warnings.filterwarnings(\"ignore\")\n"
   ]
  },
  {
   "cell_type": "markdown",
   "id": "70397cf8",
   "metadata": {},
   "source": [
    "# LAB1"
   ]
  },
  {
   "cell_type": "markdown",
   "id": "07ab6402",
   "metadata": {},
   "source": [
    "2. Load the customer_value_analysis.csv into the variable customer_df\n",
    "3. First look at its main features (head, shape, info)"
   ]
  },
  {
   "cell_type": "code",
   "execution_count": 2,
   "id": "815be426",
   "metadata": {},
   "outputs": [
    {
     "data": {
      "text/html": [
       "<div>\n",
       "<style scoped>\n",
       "    .dataframe tbody tr th:only-of-type {\n",
       "        vertical-align: middle;\n",
       "    }\n",
       "\n",
       "    .dataframe tbody tr th {\n",
       "        vertical-align: top;\n",
       "    }\n",
       "\n",
       "    .dataframe thead th {\n",
       "        text-align: right;\n",
       "    }\n",
       "</style>\n",
       "<table border=\"1\" class=\"dataframe\">\n",
       "  <thead>\n",
       "    <tr style=\"text-align: right;\">\n",
       "      <th></th>\n",
       "      <th>Customer</th>\n",
       "      <th>State</th>\n",
       "      <th>Customer Lifetime Value</th>\n",
       "      <th>Response</th>\n",
       "      <th>Coverage</th>\n",
       "      <th>Education</th>\n",
       "      <th>Effective To Date</th>\n",
       "      <th>EmploymentStatus</th>\n",
       "      <th>Gender</th>\n",
       "      <th>Income</th>\n",
       "      <th>...</th>\n",
       "      <th>Months Since Policy Inception</th>\n",
       "      <th>Number of Open Complaints</th>\n",
       "      <th>Number of Policies</th>\n",
       "      <th>Policy Type</th>\n",
       "      <th>Policy</th>\n",
       "      <th>Renew Offer Type</th>\n",
       "      <th>Sales Channel</th>\n",
       "      <th>Total Claim Amount</th>\n",
       "      <th>Vehicle Class</th>\n",
       "      <th>Vehicle Size</th>\n",
       "    </tr>\n",
       "  </thead>\n",
       "  <tbody>\n",
       "    <tr>\n",
       "      <th>0</th>\n",
       "      <td>BU79786</td>\n",
       "      <td>Washington</td>\n",
       "      <td>2763.519279</td>\n",
       "      <td>No</td>\n",
       "      <td>Basic</td>\n",
       "      <td>Bachelor</td>\n",
       "      <td>2/24/11</td>\n",
       "      <td>Employed</td>\n",
       "      <td>F</td>\n",
       "      <td>56274</td>\n",
       "      <td>...</td>\n",
       "      <td>5</td>\n",
       "      <td>0</td>\n",
       "      <td>1</td>\n",
       "      <td>Corporate Auto</td>\n",
       "      <td>Corporate L3</td>\n",
       "      <td>Offer1</td>\n",
       "      <td>Agent</td>\n",
       "      <td>384.811147</td>\n",
       "      <td>Two-Door Car</td>\n",
       "      <td>Medsize</td>\n",
       "    </tr>\n",
       "    <tr>\n",
       "      <th>1</th>\n",
       "      <td>QZ44356</td>\n",
       "      <td>Arizona</td>\n",
       "      <td>6979.535903</td>\n",
       "      <td>No</td>\n",
       "      <td>Extended</td>\n",
       "      <td>Bachelor</td>\n",
       "      <td>1/31/11</td>\n",
       "      <td>Unemployed</td>\n",
       "      <td>F</td>\n",
       "      <td>0</td>\n",
       "      <td>...</td>\n",
       "      <td>42</td>\n",
       "      <td>0</td>\n",
       "      <td>8</td>\n",
       "      <td>Personal Auto</td>\n",
       "      <td>Personal L3</td>\n",
       "      <td>Offer3</td>\n",
       "      <td>Agent</td>\n",
       "      <td>1131.464935</td>\n",
       "      <td>Four-Door Car</td>\n",
       "      <td>Medsize</td>\n",
       "    </tr>\n",
       "    <tr>\n",
       "      <th>2</th>\n",
       "      <td>AI49188</td>\n",
       "      <td>Nevada</td>\n",
       "      <td>12887.431650</td>\n",
       "      <td>No</td>\n",
       "      <td>Premium</td>\n",
       "      <td>Bachelor</td>\n",
       "      <td>2/19/11</td>\n",
       "      <td>Employed</td>\n",
       "      <td>F</td>\n",
       "      <td>48767</td>\n",
       "      <td>...</td>\n",
       "      <td>38</td>\n",
       "      <td>0</td>\n",
       "      <td>2</td>\n",
       "      <td>Personal Auto</td>\n",
       "      <td>Personal L3</td>\n",
       "      <td>Offer1</td>\n",
       "      <td>Agent</td>\n",
       "      <td>566.472247</td>\n",
       "      <td>Two-Door Car</td>\n",
       "      <td>Medsize</td>\n",
       "    </tr>\n",
       "    <tr>\n",
       "      <th>3</th>\n",
       "      <td>WW63253</td>\n",
       "      <td>California</td>\n",
       "      <td>7645.861827</td>\n",
       "      <td>No</td>\n",
       "      <td>Basic</td>\n",
       "      <td>Bachelor</td>\n",
       "      <td>1/20/11</td>\n",
       "      <td>Unemployed</td>\n",
       "      <td>M</td>\n",
       "      <td>0</td>\n",
       "      <td>...</td>\n",
       "      <td>65</td>\n",
       "      <td>0</td>\n",
       "      <td>7</td>\n",
       "      <td>Corporate Auto</td>\n",
       "      <td>Corporate L2</td>\n",
       "      <td>Offer1</td>\n",
       "      <td>Call Center</td>\n",
       "      <td>529.881344</td>\n",
       "      <td>SUV</td>\n",
       "      <td>Medsize</td>\n",
       "    </tr>\n",
       "    <tr>\n",
       "      <th>4</th>\n",
       "      <td>HB64268</td>\n",
       "      <td>Washington</td>\n",
       "      <td>2813.692575</td>\n",
       "      <td>No</td>\n",
       "      <td>Basic</td>\n",
       "      <td>Bachelor</td>\n",
       "      <td>2/3/11</td>\n",
       "      <td>Employed</td>\n",
       "      <td>M</td>\n",
       "      <td>43836</td>\n",
       "      <td>...</td>\n",
       "      <td>44</td>\n",
       "      <td>0</td>\n",
       "      <td>1</td>\n",
       "      <td>Personal Auto</td>\n",
       "      <td>Personal L1</td>\n",
       "      <td>Offer1</td>\n",
       "      <td>Agent</td>\n",
       "      <td>138.130879</td>\n",
       "      <td>Four-Door Car</td>\n",
       "      <td>Medsize</td>\n",
       "    </tr>\n",
       "  </tbody>\n",
       "</table>\n",
       "<p>5 rows × 24 columns</p>\n",
       "</div>"
      ],
      "text/plain": [
       "  Customer       State  Customer Lifetime Value Response  Coverage Education  \\\n",
       "0  BU79786  Washington              2763.519279       No     Basic  Bachelor   \n",
       "1  QZ44356     Arizona              6979.535903       No  Extended  Bachelor   \n",
       "2  AI49188      Nevada             12887.431650       No   Premium  Bachelor   \n",
       "3  WW63253  California              7645.861827       No     Basic  Bachelor   \n",
       "4  HB64268  Washington              2813.692575       No     Basic  Bachelor   \n",
       "\n",
       "  Effective To Date EmploymentStatus Gender  Income  ...  \\\n",
       "0           2/24/11         Employed      F   56274  ...   \n",
       "1           1/31/11       Unemployed      F       0  ...   \n",
       "2           2/19/11         Employed      F   48767  ...   \n",
       "3           1/20/11       Unemployed      M       0  ...   \n",
       "4            2/3/11         Employed      M   43836  ...   \n",
       "\n",
       "  Months Since Policy Inception Number of Open Complaints  Number of Policies  \\\n",
       "0                             5                         0                   1   \n",
       "1                            42                         0                   8   \n",
       "2                            38                         0                   2   \n",
       "3                            65                         0                   7   \n",
       "4                            44                         0                   1   \n",
       "\n",
       "      Policy Type        Policy  Renew Offer Type  Sales Channel  \\\n",
       "0  Corporate Auto  Corporate L3            Offer1          Agent   \n",
       "1   Personal Auto   Personal L3            Offer3          Agent   \n",
       "2   Personal Auto   Personal L3            Offer1          Agent   \n",
       "3  Corporate Auto  Corporate L2            Offer1    Call Center   \n",
       "4   Personal Auto   Personal L1            Offer1          Agent   \n",
       "\n",
       "  Total Claim Amount  Vehicle Class Vehicle Size  \n",
       "0         384.811147   Two-Door Car      Medsize  \n",
       "1        1131.464935  Four-Door Car      Medsize  \n",
       "2         566.472247   Two-Door Car      Medsize  \n",
       "3         529.881344            SUV      Medsize  \n",
       "4         138.130879  Four-Door Car      Medsize  \n",
       "\n",
       "[5 rows x 24 columns]"
      ]
     },
     "execution_count": 2,
     "metadata": {},
     "output_type": "execute_result"
    }
   ],
   "source": [
    "customer_df = pd.read_csv('we_fn_use_c_marketing_customer_value_analysis.csv')\n",
    "customer_df.head()"
   ]
  },
  {
   "cell_type": "code",
   "execution_count": 3,
   "id": "807db506",
   "metadata": {},
   "outputs": [
    {
     "data": {
      "text/plain": [
       "(9134, 24)"
      ]
     },
     "execution_count": 3,
     "metadata": {},
     "output_type": "execute_result"
    }
   ],
   "source": [
    "customer_df.shape"
   ]
  },
  {
   "cell_type": "code",
   "execution_count": 4,
   "id": "c5ed8b75",
   "metadata": {},
   "outputs": [
    {
     "name": "stdout",
     "output_type": "stream",
     "text": [
      "<class 'pandas.core.frame.DataFrame'>\n",
      "RangeIndex: 9134 entries, 0 to 9133\n",
      "Data columns (total 24 columns):\n",
      " #   Column                         Non-Null Count  Dtype  \n",
      "---  ------                         --------------  -----  \n",
      " 0   Customer                       9134 non-null   object \n",
      " 1   State                          9134 non-null   object \n",
      " 2   Customer Lifetime Value        9134 non-null   float64\n",
      " 3   Response                       9134 non-null   object \n",
      " 4   Coverage                       9134 non-null   object \n",
      " 5   Education                      9134 non-null   object \n",
      " 6   Effective To Date              9134 non-null   object \n",
      " 7   EmploymentStatus               9134 non-null   object \n",
      " 8   Gender                         9134 non-null   object \n",
      " 9   Income                         9134 non-null   int64  \n",
      " 10  Location Code                  9134 non-null   object \n",
      " 11  Marital Status                 9134 non-null   object \n",
      " 12  Monthly Premium Auto           9134 non-null   int64  \n",
      " 13  Months Since Last Claim        9134 non-null   int64  \n",
      " 14  Months Since Policy Inception  9134 non-null   int64  \n",
      " 15  Number of Open Complaints      9134 non-null   int64  \n",
      " 16  Number of Policies             9134 non-null   int64  \n",
      " 17  Policy Type                    9134 non-null   object \n",
      " 18  Policy                         9134 non-null   object \n",
      " 19  Renew Offer Type               9134 non-null   object \n",
      " 20  Sales Channel                  9134 non-null   object \n",
      " 21  Total Claim Amount             9134 non-null   float64\n",
      " 22  Vehicle Class                  9134 non-null   object \n",
      " 23  Vehicle Size                   9134 non-null   object \n",
      "dtypes: float64(2), int64(6), object(16)\n",
      "memory usage: 1.7+ MB\n"
     ]
    }
   ],
   "source": [
    "customer_df.info()"
   ]
  },
  {
   "cell_type": "markdown",
   "id": "cde4a5e1",
   "metadata": {},
   "source": [
    "4. Rename the columns so they follow the PE8 (snake case: lowecase_with_underscores)."
   ]
  },
  {
   "cell_type": "code",
   "execution_count": 5,
   "id": "5138f744",
   "metadata": {},
   "outputs": [],
   "source": [
    "for col in customer_df.columns:\n",
    "    customer_df.rename(columns={col: col.lower().replace(' ', '_')}, inplace=True)\n"
   ]
  },
  {
   "cell_type": "code",
   "execution_count": 6,
   "id": "e0143a68",
   "metadata": {},
   "outputs": [
    {
     "data": {
      "text/html": [
       "<div>\n",
       "<style scoped>\n",
       "    .dataframe tbody tr th:only-of-type {\n",
       "        vertical-align: middle;\n",
       "    }\n",
       "\n",
       "    .dataframe tbody tr th {\n",
       "        vertical-align: top;\n",
       "    }\n",
       "\n",
       "    .dataframe thead th {\n",
       "        text-align: right;\n",
       "    }\n",
       "</style>\n",
       "<table border=\"1\" class=\"dataframe\">\n",
       "  <thead>\n",
       "    <tr style=\"text-align: right;\">\n",
       "      <th></th>\n",
       "      <th>customer</th>\n",
       "      <th>state</th>\n",
       "      <th>customer_lifetime_value</th>\n",
       "      <th>response</th>\n",
       "      <th>coverage</th>\n",
       "      <th>education</th>\n",
       "      <th>effective_to_date</th>\n",
       "      <th>employmentstatus</th>\n",
       "      <th>gender</th>\n",
       "      <th>income</th>\n",
       "      <th>...</th>\n",
       "      <th>months_since_policy_inception</th>\n",
       "      <th>number_of_open_complaints</th>\n",
       "      <th>number_of_policies</th>\n",
       "      <th>policy_type</th>\n",
       "      <th>policy</th>\n",
       "      <th>renew_offer_type</th>\n",
       "      <th>sales_channel</th>\n",
       "      <th>total_claim_amount</th>\n",
       "      <th>vehicle_class</th>\n",
       "      <th>vehicle_size</th>\n",
       "    </tr>\n",
       "  </thead>\n",
       "  <tbody>\n",
       "    <tr>\n",
       "      <th>0</th>\n",
       "      <td>BU79786</td>\n",
       "      <td>Washington</td>\n",
       "      <td>2763.519279</td>\n",
       "      <td>No</td>\n",
       "      <td>Basic</td>\n",
       "      <td>Bachelor</td>\n",
       "      <td>2/24/11</td>\n",
       "      <td>Employed</td>\n",
       "      <td>F</td>\n",
       "      <td>56274</td>\n",
       "      <td>...</td>\n",
       "      <td>5</td>\n",
       "      <td>0</td>\n",
       "      <td>1</td>\n",
       "      <td>Corporate Auto</td>\n",
       "      <td>Corporate L3</td>\n",
       "      <td>Offer1</td>\n",
       "      <td>Agent</td>\n",
       "      <td>384.811147</td>\n",
       "      <td>Two-Door Car</td>\n",
       "      <td>Medsize</td>\n",
       "    </tr>\n",
       "    <tr>\n",
       "      <th>1</th>\n",
       "      <td>QZ44356</td>\n",
       "      <td>Arizona</td>\n",
       "      <td>6979.535903</td>\n",
       "      <td>No</td>\n",
       "      <td>Extended</td>\n",
       "      <td>Bachelor</td>\n",
       "      <td>1/31/11</td>\n",
       "      <td>Unemployed</td>\n",
       "      <td>F</td>\n",
       "      <td>0</td>\n",
       "      <td>...</td>\n",
       "      <td>42</td>\n",
       "      <td>0</td>\n",
       "      <td>8</td>\n",
       "      <td>Personal Auto</td>\n",
       "      <td>Personal L3</td>\n",
       "      <td>Offer3</td>\n",
       "      <td>Agent</td>\n",
       "      <td>1131.464935</td>\n",
       "      <td>Four-Door Car</td>\n",
       "      <td>Medsize</td>\n",
       "    </tr>\n",
       "  </tbody>\n",
       "</table>\n",
       "<p>2 rows × 24 columns</p>\n",
       "</div>"
      ],
      "text/plain": [
       "  customer       state  customer_lifetime_value response  coverage education  \\\n",
       "0  BU79786  Washington              2763.519279       No     Basic  Bachelor   \n",
       "1  QZ44356     Arizona              6979.535903       No  Extended  Bachelor   \n",
       "\n",
       "  effective_to_date employmentstatus gender  income  ...  \\\n",
       "0           2/24/11         Employed      F   56274  ...   \n",
       "1           1/31/11       Unemployed      F       0  ...   \n",
       "\n",
       "  months_since_policy_inception number_of_open_complaints  number_of_policies  \\\n",
       "0                             5                         0                   1   \n",
       "1                            42                         0                   8   \n",
       "\n",
       "      policy_type        policy  renew_offer_type  sales_channel  \\\n",
       "0  Corporate Auto  Corporate L3            Offer1          Agent   \n",
       "1   Personal Auto   Personal L3            Offer3          Agent   \n",
       "\n",
       "  total_claim_amount  vehicle_class vehicle_size  \n",
       "0         384.811147   Two-Door Car      Medsize  \n",
       "1        1131.464935  Four-Door Car      Medsize  \n",
       "\n",
       "[2 rows x 24 columns]"
      ]
     },
     "execution_count": 6,
     "metadata": {},
     "output_type": "execute_result"
    }
   ],
   "source": [
    "customer_df.head(2)"
   ]
  },
  {
   "cell_type": "markdown",
   "id": "63329e66",
   "metadata": {},
   "source": [
    "5. Change the type of effective_to_date column to DateTime format."
   ]
  },
  {
   "cell_type": "code",
   "execution_count": 7,
   "id": "179de201",
   "metadata": {},
   "outputs": [],
   "source": [
    "customer_df['effective_to_date'] = pd.to_datetime(customer_df['effective_to_date'])"
   ]
  },
  {
   "cell_type": "code",
   "execution_count": 8,
   "id": "0c7d5e4c",
   "metadata": {},
   "outputs": [
    {
     "name": "stdout",
     "output_type": "stream",
     "text": [
      "<class 'pandas.core.frame.DataFrame'>\n",
      "RangeIndex: 9134 entries, 0 to 9133\n",
      "Data columns (total 24 columns):\n",
      " #   Column                         Non-Null Count  Dtype         \n",
      "---  ------                         --------------  -----         \n",
      " 0   customer                       9134 non-null   object        \n",
      " 1   state                          9134 non-null   object        \n",
      " 2   customer_lifetime_value        9134 non-null   float64       \n",
      " 3   response                       9134 non-null   object        \n",
      " 4   coverage                       9134 non-null   object        \n",
      " 5   education                      9134 non-null   object        \n",
      " 6   effective_to_date              9134 non-null   datetime64[ns]\n",
      " 7   employmentstatus               9134 non-null   object        \n",
      " 8   gender                         9134 non-null   object        \n",
      " 9   income                         9134 non-null   int64         \n",
      " 10  location_code                  9134 non-null   object        \n",
      " 11  marital_status                 9134 non-null   object        \n",
      " 12  monthly_premium_auto           9134 non-null   int64         \n",
      " 13  months_since_last_claim        9134 non-null   int64         \n",
      " 14  months_since_policy_inception  9134 non-null   int64         \n",
      " 15  number_of_open_complaints      9134 non-null   int64         \n",
      " 16  number_of_policies             9134 non-null   int64         \n",
      " 17  policy_type                    9134 non-null   object        \n",
      " 18  policy                         9134 non-null   object        \n",
      " 19  renew_offer_type               9134 non-null   object        \n",
      " 20  sales_channel                  9134 non-null   object        \n",
      " 21  total_claim_amount             9134 non-null   float64       \n",
      " 22  vehicle_class                  9134 non-null   object        \n",
      " 23  vehicle_size                   9134 non-null   object        \n",
      "dtypes: datetime64[ns](1), float64(2), int64(6), object(15)\n",
      "memory usage: 1.7+ MB\n"
     ]
    }
   ],
   "source": [
    "customer_df.info()"
   ]
  },
  {
   "cell_type": "markdown",
   "id": "43c3a331",
   "metadata": {},
   "source": [
    "6. Check NaN values per column"
   ]
  },
  {
   "cell_type": "code",
   "execution_count": 9,
   "id": "6a442148",
   "metadata": {},
   "outputs": [
    {
     "data": {
      "text/plain": [
       "customer                         0\n",
       "state                            0\n",
       "customer_lifetime_value          0\n",
       "response                         0\n",
       "coverage                         0\n",
       "education                        0\n",
       "effective_to_date                0\n",
       "employmentstatus                 0\n",
       "gender                           0\n",
       "income                           0\n",
       "location_code                    0\n",
       "marital_status                   0\n",
       "monthly_premium_auto             0\n",
       "months_since_last_claim          0\n",
       "months_since_policy_inception    0\n",
       "number_of_open_complaints        0\n",
       "number_of_policies               0\n",
       "policy_type                      0\n",
       "policy                           0\n",
       "renew_offer_type                 0\n",
       "sales_channel                    0\n",
       "total_claim_amount               0\n",
       "vehicle_class                    0\n",
       "vehicle_size                     0\n",
       "dtype: int64"
      ]
     },
     "execution_count": 9,
     "metadata": {},
     "output_type": "execute_result"
    }
   ],
   "source": [
    "customer_df.isnull().sum()"
   ]
  },
  {
   "cell_type": "markdown",
   "id": "02d5a74d",
   "metadata": {},
   "source": [
    "7. Define a function that given an input dataframe, returns two dataframes: one with numerical columns and another with categorical columns of the input dataframe."
   ]
  },
  {
   "cell_type": "code",
   "execution_count": 10,
   "id": "282c3d93",
   "metadata": {},
   "outputs": [],
   "source": [
    "def Categ_Numerical(df):\n",
    "    num_cols_df = df.select_dtypes(include=[\"float64\", \"int64\"])\n",
    "    cat_cols_df = df.select_dtypes(exclude=[\"float64\", \"int64\"])\n",
    "    return num_cols_df, cat_cols_df"
   ]
  },
  {
   "cell_type": "code",
   "execution_count": 11,
   "id": "282adc51",
   "metadata": {},
   "outputs": [
    {
     "data": {
      "text/html": [
       "<div>\n",
       "<style scoped>\n",
       "    .dataframe tbody tr th:only-of-type {\n",
       "        vertical-align: middle;\n",
       "    }\n",
       "\n",
       "    .dataframe tbody tr th {\n",
       "        vertical-align: top;\n",
       "    }\n",
       "\n",
       "    .dataframe thead th {\n",
       "        text-align: right;\n",
       "    }\n",
       "</style>\n",
       "<table border=\"1\" class=\"dataframe\">\n",
       "  <thead>\n",
       "    <tr style=\"text-align: right;\">\n",
       "      <th></th>\n",
       "      <th>customer_lifetime_value</th>\n",
       "      <th>income</th>\n",
       "      <th>monthly_premium_auto</th>\n",
       "      <th>months_since_last_claim</th>\n",
       "      <th>months_since_policy_inception</th>\n",
       "      <th>number_of_open_complaints</th>\n",
       "      <th>number_of_policies</th>\n",
       "      <th>total_claim_amount</th>\n",
       "    </tr>\n",
       "  </thead>\n",
       "  <tbody>\n",
       "    <tr>\n",
       "      <th>0</th>\n",
       "      <td>2763.519279</td>\n",
       "      <td>56274</td>\n",
       "      <td>69</td>\n",
       "      <td>32</td>\n",
       "      <td>5</td>\n",
       "      <td>0</td>\n",
       "      <td>1</td>\n",
       "      <td>384.811147</td>\n",
       "    </tr>\n",
       "    <tr>\n",
       "      <th>1</th>\n",
       "      <td>6979.535903</td>\n",
       "      <td>0</td>\n",
       "      <td>94</td>\n",
       "      <td>13</td>\n",
       "      <td>42</td>\n",
       "      <td>0</td>\n",
       "      <td>8</td>\n",
       "      <td>1131.464935</td>\n",
       "    </tr>\n",
       "    <tr>\n",
       "      <th>2</th>\n",
       "      <td>12887.431650</td>\n",
       "      <td>48767</td>\n",
       "      <td>108</td>\n",
       "      <td>18</td>\n",
       "      <td>38</td>\n",
       "      <td>0</td>\n",
       "      <td>2</td>\n",
       "      <td>566.472247</td>\n",
       "    </tr>\n",
       "    <tr>\n",
       "      <th>3</th>\n",
       "      <td>7645.861827</td>\n",
       "      <td>0</td>\n",
       "      <td>106</td>\n",
       "      <td>18</td>\n",
       "      <td>65</td>\n",
       "      <td>0</td>\n",
       "      <td>7</td>\n",
       "      <td>529.881344</td>\n",
       "    </tr>\n",
       "    <tr>\n",
       "      <th>4</th>\n",
       "      <td>2813.692575</td>\n",
       "      <td>43836</td>\n",
       "      <td>73</td>\n",
       "      <td>12</td>\n",
       "      <td>44</td>\n",
       "      <td>0</td>\n",
       "      <td>1</td>\n",
       "      <td>138.130879</td>\n",
       "    </tr>\n",
       "  </tbody>\n",
       "</table>\n",
       "</div>"
      ],
      "text/plain": [
       "   customer_lifetime_value  income  monthly_premium_auto  \\\n",
       "0              2763.519279   56274                    69   \n",
       "1              6979.535903       0                    94   \n",
       "2             12887.431650   48767                   108   \n",
       "3              7645.861827       0                   106   \n",
       "4              2813.692575   43836                    73   \n",
       "\n",
       "   months_since_last_claim  months_since_policy_inception  \\\n",
       "0                       32                              5   \n",
       "1                       13                             42   \n",
       "2                       18                             38   \n",
       "3                       18                             65   \n",
       "4                       12                             44   \n",
       "\n",
       "   number_of_open_complaints  number_of_policies  total_claim_amount  \n",
       "0                          0                   1          384.811147  \n",
       "1                          0                   8         1131.464935  \n",
       "2                          0                   2          566.472247  \n",
       "3                          0                   7          529.881344  \n",
       "4                          0                   1          138.130879  "
      ]
     },
     "execution_count": 11,
     "metadata": {},
     "output_type": "execute_result"
    }
   ],
   "source": [
    "Numerical_df = Categ_Numerical(customer_df)[0]\n",
    "Numerical_df.head()"
   ]
  },
  {
   "cell_type": "code",
   "execution_count": 12,
   "id": "7c4a06c0",
   "metadata": {},
   "outputs": [
    {
     "data": {
      "text/html": [
       "<div>\n",
       "<style scoped>\n",
       "    .dataframe tbody tr th:only-of-type {\n",
       "        vertical-align: middle;\n",
       "    }\n",
       "\n",
       "    .dataframe tbody tr th {\n",
       "        vertical-align: top;\n",
       "    }\n",
       "\n",
       "    .dataframe thead th {\n",
       "        text-align: right;\n",
       "    }\n",
       "</style>\n",
       "<table border=\"1\" class=\"dataframe\">\n",
       "  <thead>\n",
       "    <tr style=\"text-align: right;\">\n",
       "      <th></th>\n",
       "      <th>customer</th>\n",
       "      <th>state</th>\n",
       "      <th>response</th>\n",
       "      <th>coverage</th>\n",
       "      <th>education</th>\n",
       "      <th>effective_to_date</th>\n",
       "      <th>employmentstatus</th>\n",
       "      <th>gender</th>\n",
       "      <th>location_code</th>\n",
       "      <th>marital_status</th>\n",
       "      <th>policy_type</th>\n",
       "      <th>policy</th>\n",
       "      <th>renew_offer_type</th>\n",
       "      <th>sales_channel</th>\n",
       "      <th>vehicle_class</th>\n",
       "      <th>vehicle_size</th>\n",
       "    </tr>\n",
       "  </thead>\n",
       "  <tbody>\n",
       "    <tr>\n",
       "      <th>0</th>\n",
       "      <td>BU79786</td>\n",
       "      <td>Washington</td>\n",
       "      <td>No</td>\n",
       "      <td>Basic</td>\n",
       "      <td>Bachelor</td>\n",
       "      <td>2011-02-24</td>\n",
       "      <td>Employed</td>\n",
       "      <td>F</td>\n",
       "      <td>Suburban</td>\n",
       "      <td>Married</td>\n",
       "      <td>Corporate Auto</td>\n",
       "      <td>Corporate L3</td>\n",
       "      <td>Offer1</td>\n",
       "      <td>Agent</td>\n",
       "      <td>Two-Door Car</td>\n",
       "      <td>Medsize</td>\n",
       "    </tr>\n",
       "    <tr>\n",
       "      <th>1</th>\n",
       "      <td>QZ44356</td>\n",
       "      <td>Arizona</td>\n",
       "      <td>No</td>\n",
       "      <td>Extended</td>\n",
       "      <td>Bachelor</td>\n",
       "      <td>2011-01-31</td>\n",
       "      <td>Unemployed</td>\n",
       "      <td>F</td>\n",
       "      <td>Suburban</td>\n",
       "      <td>Single</td>\n",
       "      <td>Personal Auto</td>\n",
       "      <td>Personal L3</td>\n",
       "      <td>Offer3</td>\n",
       "      <td>Agent</td>\n",
       "      <td>Four-Door Car</td>\n",
       "      <td>Medsize</td>\n",
       "    </tr>\n",
       "    <tr>\n",
       "      <th>2</th>\n",
       "      <td>AI49188</td>\n",
       "      <td>Nevada</td>\n",
       "      <td>No</td>\n",
       "      <td>Premium</td>\n",
       "      <td>Bachelor</td>\n",
       "      <td>2011-02-19</td>\n",
       "      <td>Employed</td>\n",
       "      <td>F</td>\n",
       "      <td>Suburban</td>\n",
       "      <td>Married</td>\n",
       "      <td>Personal Auto</td>\n",
       "      <td>Personal L3</td>\n",
       "      <td>Offer1</td>\n",
       "      <td>Agent</td>\n",
       "      <td>Two-Door Car</td>\n",
       "      <td>Medsize</td>\n",
       "    </tr>\n",
       "    <tr>\n",
       "      <th>3</th>\n",
       "      <td>WW63253</td>\n",
       "      <td>California</td>\n",
       "      <td>No</td>\n",
       "      <td>Basic</td>\n",
       "      <td>Bachelor</td>\n",
       "      <td>2011-01-20</td>\n",
       "      <td>Unemployed</td>\n",
       "      <td>M</td>\n",
       "      <td>Suburban</td>\n",
       "      <td>Married</td>\n",
       "      <td>Corporate Auto</td>\n",
       "      <td>Corporate L2</td>\n",
       "      <td>Offer1</td>\n",
       "      <td>Call Center</td>\n",
       "      <td>SUV</td>\n",
       "      <td>Medsize</td>\n",
       "    </tr>\n",
       "    <tr>\n",
       "      <th>4</th>\n",
       "      <td>HB64268</td>\n",
       "      <td>Washington</td>\n",
       "      <td>No</td>\n",
       "      <td>Basic</td>\n",
       "      <td>Bachelor</td>\n",
       "      <td>2011-02-03</td>\n",
       "      <td>Employed</td>\n",
       "      <td>M</td>\n",
       "      <td>Rural</td>\n",
       "      <td>Single</td>\n",
       "      <td>Personal Auto</td>\n",
       "      <td>Personal L1</td>\n",
       "      <td>Offer1</td>\n",
       "      <td>Agent</td>\n",
       "      <td>Four-Door Car</td>\n",
       "      <td>Medsize</td>\n",
       "    </tr>\n",
       "  </tbody>\n",
       "</table>\n",
       "</div>"
      ],
      "text/plain": [
       "  customer       state response  coverage education effective_to_date  \\\n",
       "0  BU79786  Washington       No     Basic  Bachelor        2011-02-24   \n",
       "1  QZ44356     Arizona       No  Extended  Bachelor        2011-01-31   \n",
       "2  AI49188      Nevada       No   Premium  Bachelor        2011-02-19   \n",
       "3  WW63253  California       No     Basic  Bachelor        2011-01-20   \n",
       "4  HB64268  Washington       No     Basic  Bachelor        2011-02-03   \n",
       "\n",
       "  employmentstatus gender location_code marital_status     policy_type  \\\n",
       "0         Employed      F      Suburban        Married  Corporate Auto   \n",
       "1       Unemployed      F      Suburban         Single   Personal Auto   \n",
       "2         Employed      F      Suburban        Married   Personal Auto   \n",
       "3       Unemployed      M      Suburban        Married  Corporate Auto   \n",
       "4         Employed      M         Rural         Single   Personal Auto   \n",
       "\n",
       "         policy renew_offer_type sales_channel  vehicle_class vehicle_size  \n",
       "0  Corporate L3           Offer1         Agent   Two-Door Car      Medsize  \n",
       "1   Personal L3           Offer3         Agent  Four-Door Car      Medsize  \n",
       "2   Personal L3           Offer1         Agent   Two-Door Car      Medsize  \n",
       "3  Corporate L2           Offer1   Call Center            SUV      Medsize  \n",
       "4   Personal L1           Offer1         Agent  Four-Door Car      Medsize  "
      ]
     },
     "execution_count": 12,
     "metadata": {},
     "output_type": "execute_result"
    }
   ],
   "source": [
    "Categorical_df = Categ_Numerical(customer_df)[1]\n",
    "Categorical_df.head()"
   ]
  },
  {
   "cell_type": "markdown",
   "id": "39fd8fa9",
   "metadata": {},
   "source": [
    "8. Drop any ID column."
   ]
  },
  {
   "cell_type": "code",
   "execution_count": 13,
   "id": "04dcaf1b",
   "metadata": {},
   "outputs": [
    {
     "data": {
      "text/html": [
       "<div>\n",
       "<style scoped>\n",
       "    .dataframe tbody tr th:only-of-type {\n",
       "        vertical-align: middle;\n",
       "    }\n",
       "\n",
       "    .dataframe tbody tr th {\n",
       "        vertical-align: top;\n",
       "    }\n",
       "\n",
       "    .dataframe thead th {\n",
       "        text-align: right;\n",
       "    }\n",
       "</style>\n",
       "<table border=\"1\" class=\"dataframe\">\n",
       "  <thead>\n",
       "    <tr style=\"text-align: right;\">\n",
       "      <th></th>\n",
       "      <th>customer</th>\n",
       "      <th>state</th>\n",
       "      <th>customer_lifetime_value</th>\n",
       "      <th>response</th>\n",
       "      <th>coverage</th>\n",
       "      <th>education</th>\n",
       "      <th>effective_to_date</th>\n",
       "      <th>employmentstatus</th>\n",
       "      <th>gender</th>\n",
       "      <th>income</th>\n",
       "      <th>...</th>\n",
       "      <th>months_since_policy_inception</th>\n",
       "      <th>number_of_open_complaints</th>\n",
       "      <th>number_of_policies</th>\n",
       "      <th>policy_type</th>\n",
       "      <th>policy</th>\n",
       "      <th>renew_offer_type</th>\n",
       "      <th>sales_channel</th>\n",
       "      <th>total_claim_amount</th>\n",
       "      <th>vehicle_class</th>\n",
       "      <th>vehicle_size</th>\n",
       "    </tr>\n",
       "  </thead>\n",
       "  <tbody>\n",
       "    <tr>\n",
       "      <th>0</th>\n",
       "      <td>BU79786</td>\n",
       "      <td>Washington</td>\n",
       "      <td>2763.519279</td>\n",
       "      <td>No</td>\n",
       "      <td>Basic</td>\n",
       "      <td>Bachelor</td>\n",
       "      <td>2011-02-24</td>\n",
       "      <td>Employed</td>\n",
       "      <td>F</td>\n",
       "      <td>56274</td>\n",
       "      <td>...</td>\n",
       "      <td>5</td>\n",
       "      <td>0</td>\n",
       "      <td>1</td>\n",
       "      <td>Corporate Auto</td>\n",
       "      <td>Corporate L3</td>\n",
       "      <td>Offer1</td>\n",
       "      <td>Agent</td>\n",
       "      <td>384.811147</td>\n",
       "      <td>Two-Door Car</td>\n",
       "      <td>Medsize</td>\n",
       "    </tr>\n",
       "    <tr>\n",
       "      <th>1</th>\n",
       "      <td>QZ44356</td>\n",
       "      <td>Arizona</td>\n",
       "      <td>6979.535903</td>\n",
       "      <td>No</td>\n",
       "      <td>Extended</td>\n",
       "      <td>Bachelor</td>\n",
       "      <td>2011-01-31</td>\n",
       "      <td>Unemployed</td>\n",
       "      <td>F</td>\n",
       "      <td>0</td>\n",
       "      <td>...</td>\n",
       "      <td>42</td>\n",
       "      <td>0</td>\n",
       "      <td>8</td>\n",
       "      <td>Personal Auto</td>\n",
       "      <td>Personal L3</td>\n",
       "      <td>Offer3</td>\n",
       "      <td>Agent</td>\n",
       "      <td>1131.464935</td>\n",
       "      <td>Four-Door Car</td>\n",
       "      <td>Medsize</td>\n",
       "    </tr>\n",
       "    <tr>\n",
       "      <th>2</th>\n",
       "      <td>AI49188</td>\n",
       "      <td>Nevada</td>\n",
       "      <td>12887.431650</td>\n",
       "      <td>No</td>\n",
       "      <td>Premium</td>\n",
       "      <td>Bachelor</td>\n",
       "      <td>2011-02-19</td>\n",
       "      <td>Employed</td>\n",
       "      <td>F</td>\n",
       "      <td>48767</td>\n",
       "      <td>...</td>\n",
       "      <td>38</td>\n",
       "      <td>0</td>\n",
       "      <td>2</td>\n",
       "      <td>Personal Auto</td>\n",
       "      <td>Personal L3</td>\n",
       "      <td>Offer1</td>\n",
       "      <td>Agent</td>\n",
       "      <td>566.472247</td>\n",
       "      <td>Two-Door Car</td>\n",
       "      <td>Medsize</td>\n",
       "    </tr>\n",
       "    <tr>\n",
       "      <th>3</th>\n",
       "      <td>WW63253</td>\n",
       "      <td>California</td>\n",
       "      <td>7645.861827</td>\n",
       "      <td>No</td>\n",
       "      <td>Basic</td>\n",
       "      <td>Bachelor</td>\n",
       "      <td>2011-01-20</td>\n",
       "      <td>Unemployed</td>\n",
       "      <td>M</td>\n",
       "      <td>0</td>\n",
       "      <td>...</td>\n",
       "      <td>65</td>\n",
       "      <td>0</td>\n",
       "      <td>7</td>\n",
       "      <td>Corporate Auto</td>\n",
       "      <td>Corporate L2</td>\n",
       "      <td>Offer1</td>\n",
       "      <td>Call Center</td>\n",
       "      <td>529.881344</td>\n",
       "      <td>SUV</td>\n",
       "      <td>Medsize</td>\n",
       "    </tr>\n",
       "    <tr>\n",
       "      <th>4</th>\n",
       "      <td>HB64268</td>\n",
       "      <td>Washington</td>\n",
       "      <td>2813.692575</td>\n",
       "      <td>No</td>\n",
       "      <td>Basic</td>\n",
       "      <td>Bachelor</td>\n",
       "      <td>2011-02-03</td>\n",
       "      <td>Employed</td>\n",
       "      <td>M</td>\n",
       "      <td>43836</td>\n",
       "      <td>...</td>\n",
       "      <td>44</td>\n",
       "      <td>0</td>\n",
       "      <td>1</td>\n",
       "      <td>Personal Auto</td>\n",
       "      <td>Personal L1</td>\n",
       "      <td>Offer1</td>\n",
       "      <td>Agent</td>\n",
       "      <td>138.130879</td>\n",
       "      <td>Four-Door Car</td>\n",
       "      <td>Medsize</td>\n",
       "    </tr>\n",
       "  </tbody>\n",
       "</table>\n",
       "<p>5 rows × 24 columns</p>\n",
       "</div>"
      ],
      "text/plain": [
       "  customer       state  customer_lifetime_value response  coverage education  \\\n",
       "0  BU79786  Washington              2763.519279       No     Basic  Bachelor   \n",
       "1  QZ44356     Arizona              6979.535903       No  Extended  Bachelor   \n",
       "2  AI49188      Nevada             12887.431650       No   Premium  Bachelor   \n",
       "3  WW63253  California              7645.861827       No     Basic  Bachelor   \n",
       "4  HB64268  Washington              2813.692575       No     Basic  Bachelor   \n",
       "\n",
       "  effective_to_date employmentstatus gender  income  ...  \\\n",
       "0        2011-02-24         Employed      F   56274  ...   \n",
       "1        2011-01-31       Unemployed      F       0  ...   \n",
       "2        2011-02-19         Employed      F   48767  ...   \n",
       "3        2011-01-20       Unemployed      M       0  ...   \n",
       "4        2011-02-03         Employed      M   43836  ...   \n",
       "\n",
       "  months_since_policy_inception number_of_open_complaints  number_of_policies  \\\n",
       "0                             5                         0                   1   \n",
       "1                            42                         0                   8   \n",
       "2                            38                         0                   2   \n",
       "3                            65                         0                   7   \n",
       "4                            44                         0                   1   \n",
       "\n",
       "      policy_type        policy  renew_offer_type  sales_channel  \\\n",
       "0  Corporate Auto  Corporate L3            Offer1          Agent   \n",
       "1   Personal Auto   Personal L3            Offer3          Agent   \n",
       "2   Personal Auto   Personal L3            Offer1          Agent   \n",
       "3  Corporate Auto  Corporate L2            Offer1    Call Center   \n",
       "4   Personal Auto   Personal L1            Offer1          Agent   \n",
       "\n",
       "  total_claim_amount  vehicle_class vehicle_size  \n",
       "0         384.811147   Two-Door Car      Medsize  \n",
       "1        1131.464935  Four-Door Car      Medsize  \n",
       "2         566.472247   Two-Door Car      Medsize  \n",
       "3         529.881344            SUV      Medsize  \n",
       "4         138.130879  Four-Door Car      Medsize  \n",
       "\n",
       "[5 rows x 24 columns]"
      ]
     },
     "execution_count": 13,
     "metadata": {},
     "output_type": "execute_result"
    }
   ],
   "source": [
    "customer_df = customer_df.drop([col for col in customer_df.columns if 'ID' in col or 'id' in col], axis=1)\n",
    "customer_df.head()"
   ]
  },
  {
   "cell_type": "markdown",
   "id": "8a27bf24",
   "metadata": {},
   "source": [
    "9. Get the correlation matrix for the numerical variables. What is the pair of numerical variables that have the highest correlation? It makes sense, why?"
   ]
  },
  {
   "cell_type": "code",
   "execution_count": 14,
   "id": "766a7ca9",
   "metadata": {},
   "outputs": [
    {
     "data": {
      "text/html": [
       "<div>\n",
       "<style scoped>\n",
       "    .dataframe tbody tr th:only-of-type {\n",
       "        vertical-align: middle;\n",
       "    }\n",
       "\n",
       "    .dataframe tbody tr th {\n",
       "        vertical-align: top;\n",
       "    }\n",
       "\n",
       "    .dataframe thead th {\n",
       "        text-align: right;\n",
       "    }\n",
       "</style>\n",
       "<table border=\"1\" class=\"dataframe\">\n",
       "  <thead>\n",
       "    <tr style=\"text-align: right;\">\n",
       "      <th></th>\n",
       "      <th>customer_lifetime_value</th>\n",
       "      <th>income</th>\n",
       "      <th>monthly_premium_auto</th>\n",
       "      <th>months_since_last_claim</th>\n",
       "      <th>months_since_policy_inception</th>\n",
       "      <th>number_of_open_complaints</th>\n",
       "      <th>number_of_policies</th>\n",
       "      <th>total_claim_amount</th>\n",
       "    </tr>\n",
       "  </thead>\n",
       "  <tbody>\n",
       "    <tr>\n",
       "      <th>customer_lifetime_value</th>\n",
       "      <td>1.000000</td>\n",
       "      <td>0.024366</td>\n",
       "      <td>0.396262</td>\n",
       "      <td>0.011517</td>\n",
       "      <td>0.009418</td>\n",
       "      <td>-0.036343</td>\n",
       "      <td>0.021955</td>\n",
       "      <td>0.226451</td>\n",
       "    </tr>\n",
       "    <tr>\n",
       "      <th>income</th>\n",
       "      <td>0.024366</td>\n",
       "      <td>1.000000</td>\n",
       "      <td>-0.016665</td>\n",
       "      <td>-0.026715</td>\n",
       "      <td>-0.000875</td>\n",
       "      <td>0.006408</td>\n",
       "      <td>-0.008656</td>\n",
       "      <td>-0.355254</td>\n",
       "    </tr>\n",
       "    <tr>\n",
       "      <th>monthly_premium_auto</th>\n",
       "      <td>0.396262</td>\n",
       "      <td>-0.016665</td>\n",
       "      <td>1.000000</td>\n",
       "      <td>0.005026</td>\n",
       "      <td>0.020257</td>\n",
       "      <td>-0.013122</td>\n",
       "      <td>-0.011233</td>\n",
       "      <td>0.632017</td>\n",
       "    </tr>\n",
       "    <tr>\n",
       "      <th>months_since_last_claim</th>\n",
       "      <td>0.011517</td>\n",
       "      <td>-0.026715</td>\n",
       "      <td>0.005026</td>\n",
       "      <td>1.000000</td>\n",
       "      <td>-0.042959</td>\n",
       "      <td>0.005354</td>\n",
       "      <td>0.009136</td>\n",
       "      <td>0.007563</td>\n",
       "    </tr>\n",
       "    <tr>\n",
       "      <th>months_since_policy_inception</th>\n",
       "      <td>0.009418</td>\n",
       "      <td>-0.000875</td>\n",
       "      <td>0.020257</td>\n",
       "      <td>-0.042959</td>\n",
       "      <td>1.000000</td>\n",
       "      <td>-0.001158</td>\n",
       "      <td>-0.013333</td>\n",
       "      <td>0.003335</td>\n",
       "    </tr>\n",
       "    <tr>\n",
       "      <th>number_of_open_complaints</th>\n",
       "      <td>-0.036343</td>\n",
       "      <td>0.006408</td>\n",
       "      <td>-0.013122</td>\n",
       "      <td>0.005354</td>\n",
       "      <td>-0.001158</td>\n",
       "      <td>1.000000</td>\n",
       "      <td>0.001498</td>\n",
       "      <td>-0.014241</td>\n",
       "    </tr>\n",
       "    <tr>\n",
       "      <th>number_of_policies</th>\n",
       "      <td>0.021955</td>\n",
       "      <td>-0.008656</td>\n",
       "      <td>-0.011233</td>\n",
       "      <td>0.009136</td>\n",
       "      <td>-0.013333</td>\n",
       "      <td>0.001498</td>\n",
       "      <td>1.000000</td>\n",
       "      <td>-0.002354</td>\n",
       "    </tr>\n",
       "    <tr>\n",
       "      <th>total_claim_amount</th>\n",
       "      <td>0.226451</td>\n",
       "      <td>-0.355254</td>\n",
       "      <td>0.632017</td>\n",
       "      <td>0.007563</td>\n",
       "      <td>0.003335</td>\n",
       "      <td>-0.014241</td>\n",
       "      <td>-0.002354</td>\n",
       "      <td>1.000000</td>\n",
       "    </tr>\n",
       "  </tbody>\n",
       "</table>\n",
       "</div>"
      ],
      "text/plain": [
       "                               customer_lifetime_value    income  \\\n",
       "customer_lifetime_value                       1.000000  0.024366   \n",
       "income                                        0.024366  1.000000   \n",
       "monthly_premium_auto                          0.396262 -0.016665   \n",
       "months_since_last_claim                       0.011517 -0.026715   \n",
       "months_since_policy_inception                 0.009418 -0.000875   \n",
       "number_of_open_complaints                    -0.036343  0.006408   \n",
       "number_of_policies                            0.021955 -0.008656   \n",
       "total_claim_amount                            0.226451 -0.355254   \n",
       "\n",
       "                               monthly_premium_auto  months_since_last_claim  \\\n",
       "customer_lifetime_value                    0.396262                 0.011517   \n",
       "income                                    -0.016665                -0.026715   \n",
       "monthly_premium_auto                       1.000000                 0.005026   \n",
       "months_since_last_claim                    0.005026                 1.000000   \n",
       "months_since_policy_inception              0.020257                -0.042959   \n",
       "number_of_open_complaints                 -0.013122                 0.005354   \n",
       "number_of_policies                        -0.011233                 0.009136   \n",
       "total_claim_amount                         0.632017                 0.007563   \n",
       "\n",
       "                               months_since_policy_inception  \\\n",
       "customer_lifetime_value                             0.009418   \n",
       "income                                             -0.000875   \n",
       "monthly_premium_auto                                0.020257   \n",
       "months_since_last_claim                            -0.042959   \n",
       "months_since_policy_inception                       1.000000   \n",
       "number_of_open_complaints                          -0.001158   \n",
       "number_of_policies                                 -0.013333   \n",
       "total_claim_amount                                  0.003335   \n",
       "\n",
       "                               number_of_open_complaints  number_of_policies  \\\n",
       "customer_lifetime_value                        -0.036343            0.021955   \n",
       "income                                          0.006408           -0.008656   \n",
       "monthly_premium_auto                           -0.013122           -0.011233   \n",
       "months_since_last_claim                         0.005354            0.009136   \n",
       "months_since_policy_inception                  -0.001158           -0.013333   \n",
       "number_of_open_complaints                       1.000000            0.001498   \n",
       "number_of_policies                              0.001498            1.000000   \n",
       "total_claim_amount                             -0.014241           -0.002354   \n",
       "\n",
       "                               total_claim_amount  \n",
       "customer_lifetime_value                  0.226451  \n",
       "income                                  -0.355254  \n",
       "monthly_premium_auto                     0.632017  \n",
       "months_since_last_claim                  0.007563  \n",
       "months_since_policy_inception            0.003335  \n",
       "number_of_open_complaints               -0.014241  \n",
       "number_of_policies                      -0.002354  \n",
       "total_claim_amount                       1.000000  "
      ]
     },
     "execution_count": 14,
     "metadata": {},
     "output_type": "execute_result"
    }
   ],
   "source": [
    "Corr_Matrix = Numerical_df.corr()\n",
    "Corr_Matrix"
   ]
  },
  {
   "cell_type": "markdown",
   "id": "091ac148",
   "metadata": {},
   "source": [
    "from the correlation matrix above, pair of numerical variables with the highest correlation between them are monthly_premium_auto and total_claim_amount of 0.632 which is higher than any other combination of variables we have. This implies that as the monthly premius increases, then also the total claim amount increases and vice versa."
   ]
  },
  {
   "cell_type": "markdown",
   "id": "a00fdc60",
   "metadata": {},
   "source": [
    "10. Define a function that takes a pandas DataFrame as an input and returns two pandas DataFrames: the first containing numerical continuous columns and the second containing numerical discrete columns of the input dataframe. To this end, it might be helpful to count the number of unique values. The function must have an optional argument set by default to 36 to discriminate between continuous and discrete columns. Then, use it to create two new dataframes: continuous_df and discrete_df."
   ]
  },
  {
   "cell_type": "code",
   "execution_count": 15,
   "id": "3722fc07",
   "metadata": {},
   "outputs": [],
   "source": [
    "def NumCont_NumDiscrete(df, unique_threshold=36):\n",
    "    num_cols = df.select_dtypes(include=['float64', 'int64']).columns\n",
    "    continuous_cols = [col for col in num_cols if len(df[col].unique()) > unique_threshold]\n",
    "    discrete_cols = [col for col in num_cols if len(df[col].unique()) <= unique_threshold]\n",
    "\n",
    "    continuous_df = df[continuous_cols]\n",
    "    discrete_df = df[discrete_cols]\n",
    "\n",
    "    return continuous_df, discrete_df"
   ]
  },
  {
   "cell_type": "code",
   "execution_count": 16,
   "id": "46cc836e",
   "metadata": {},
   "outputs": [],
   "source": [
    "continuous_df, discrete_df = NumCont_NumDiscrete(customer_df,unique_threshold=36)"
   ]
  },
  {
   "cell_type": "code",
   "execution_count": 17,
   "id": "da306e04",
   "metadata": {},
   "outputs": [
    {
     "data": {
      "text/html": [
       "<div>\n",
       "<style scoped>\n",
       "    .dataframe tbody tr th:only-of-type {\n",
       "        vertical-align: middle;\n",
       "    }\n",
       "\n",
       "    .dataframe tbody tr th {\n",
       "        vertical-align: top;\n",
       "    }\n",
       "\n",
       "    .dataframe thead th {\n",
       "        text-align: right;\n",
       "    }\n",
       "</style>\n",
       "<table border=\"1\" class=\"dataframe\">\n",
       "  <thead>\n",
       "    <tr style=\"text-align: right;\">\n",
       "      <th></th>\n",
       "      <th>customer_lifetime_value</th>\n",
       "      <th>income</th>\n",
       "      <th>monthly_premium_auto</th>\n",
       "      <th>months_since_policy_inception</th>\n",
       "      <th>total_claim_amount</th>\n",
       "    </tr>\n",
       "  </thead>\n",
       "  <tbody>\n",
       "    <tr>\n",
       "      <th>0</th>\n",
       "      <td>2763.519279</td>\n",
       "      <td>56274</td>\n",
       "      <td>69</td>\n",
       "      <td>5</td>\n",
       "      <td>384.811147</td>\n",
       "    </tr>\n",
       "    <tr>\n",
       "      <th>1</th>\n",
       "      <td>6979.535903</td>\n",
       "      <td>0</td>\n",
       "      <td>94</td>\n",
       "      <td>42</td>\n",
       "      <td>1131.464935</td>\n",
       "    </tr>\n",
       "    <tr>\n",
       "      <th>2</th>\n",
       "      <td>12887.431650</td>\n",
       "      <td>48767</td>\n",
       "      <td>108</td>\n",
       "      <td>38</td>\n",
       "      <td>566.472247</td>\n",
       "    </tr>\n",
       "    <tr>\n",
       "      <th>3</th>\n",
       "      <td>7645.861827</td>\n",
       "      <td>0</td>\n",
       "      <td>106</td>\n",
       "      <td>65</td>\n",
       "      <td>529.881344</td>\n",
       "    </tr>\n",
       "    <tr>\n",
       "      <th>4</th>\n",
       "      <td>2813.692575</td>\n",
       "      <td>43836</td>\n",
       "      <td>73</td>\n",
       "      <td>44</td>\n",
       "      <td>138.130879</td>\n",
       "    </tr>\n",
       "  </tbody>\n",
       "</table>\n",
       "</div>"
      ],
      "text/plain": [
       "   customer_lifetime_value  income  monthly_premium_auto  \\\n",
       "0              2763.519279   56274                    69   \n",
       "1              6979.535903       0                    94   \n",
       "2             12887.431650   48767                   108   \n",
       "3              7645.861827       0                   106   \n",
       "4              2813.692575   43836                    73   \n",
       "\n",
       "   months_since_policy_inception  total_claim_amount  \n",
       "0                              5          384.811147  \n",
       "1                             42         1131.464935  \n",
       "2                             38          566.472247  \n",
       "3                             65          529.881344  \n",
       "4                             44          138.130879  "
      ]
     },
     "execution_count": 17,
     "metadata": {},
     "output_type": "execute_result"
    }
   ],
   "source": [
    "continuous_df.head()"
   ]
  },
  {
   "cell_type": "code",
   "execution_count": 18,
   "id": "0ca69157",
   "metadata": {},
   "outputs": [
    {
     "data": {
      "text/html": [
       "<div>\n",
       "<style scoped>\n",
       "    .dataframe tbody tr th:only-of-type {\n",
       "        vertical-align: middle;\n",
       "    }\n",
       "\n",
       "    .dataframe tbody tr th {\n",
       "        vertical-align: top;\n",
       "    }\n",
       "\n",
       "    .dataframe thead th {\n",
       "        text-align: right;\n",
       "    }\n",
       "</style>\n",
       "<table border=\"1\" class=\"dataframe\">\n",
       "  <thead>\n",
       "    <tr style=\"text-align: right;\">\n",
       "      <th></th>\n",
       "      <th>months_since_last_claim</th>\n",
       "      <th>number_of_open_complaints</th>\n",
       "      <th>number_of_policies</th>\n",
       "    </tr>\n",
       "  </thead>\n",
       "  <tbody>\n",
       "    <tr>\n",
       "      <th>0</th>\n",
       "      <td>32</td>\n",
       "      <td>0</td>\n",
       "      <td>1</td>\n",
       "    </tr>\n",
       "    <tr>\n",
       "      <th>1</th>\n",
       "      <td>13</td>\n",
       "      <td>0</td>\n",
       "      <td>8</td>\n",
       "    </tr>\n",
       "    <tr>\n",
       "      <th>2</th>\n",
       "      <td>18</td>\n",
       "      <td>0</td>\n",
       "      <td>2</td>\n",
       "    </tr>\n",
       "    <tr>\n",
       "      <th>3</th>\n",
       "      <td>18</td>\n",
       "      <td>0</td>\n",
       "      <td>7</td>\n",
       "    </tr>\n",
       "    <tr>\n",
       "      <th>4</th>\n",
       "      <td>12</td>\n",
       "      <td>0</td>\n",
       "      <td>1</td>\n",
       "    </tr>\n",
       "  </tbody>\n",
       "</table>\n",
       "</div>"
      ],
      "text/plain": [
       "   months_since_last_claim  number_of_open_complaints  number_of_policies\n",
       "0                       32                          0                   1\n",
       "1                       13                          0                   8\n",
       "2                       18                          0                   2\n",
       "3                       18                          0                   7\n",
       "4                       12                          0                   1"
      ]
     },
     "execution_count": 18,
     "metadata": {},
     "output_type": "execute_result"
    }
   ],
   "source": [
    "discrete_df.head()"
   ]
  },
  {
   "cell_type": "markdown",
   "id": "d7ec00a9",
   "metadata": {},
   "source": [
    "11. Create a function to create a barplot for all the columns of the discrete_df using seaborn, and set the figuresize = (16,16)."
   ]
  },
  {
   "cell_type": "code",
   "execution_count": 19,
   "id": "83b01e32",
   "metadata": {},
   "outputs": [],
   "source": [
    "def barplot_discrete_df(discrete_df):\n",
    "    plt.figure(figsize=(16, 16))\n",
    "    for i, col in enumerate(discrete_df.columns):\n",
    "        plt.subplot(2, 2, i + 1)\n",
    "        sns.countplot(x=col, data=discrete_df)\n",
    "    plt.tight_layout()\n",
    "    plt.show()\n"
   ]
  },
  {
   "cell_type": "code",
   "execution_count": 20,
   "id": "05f742ba",
   "metadata": {},
   "outputs": [
    {
     "data": {
      "image/png": "[encoded data removed]",
      "text/plain": [
       "<Figure size 1152x1152 with 3 Axes>"
      ]
     },
     "metadata": {
      "needs_background": "light"
     },
     "output_type": "display_data"
    }
   ],
   "source": [
    "barplot_discrete_df(discrete_df)"
   ]
  },
  {
   "cell_type": "markdown",
   "id": "55144036",
   "metadata": {},
   "source": [
    "12. Create a function to create a histogram for all the columns of the continuous_df using seaborn, and set the figuresize = (16,16)"
   ]
  },
  {
   "cell_type": "code",
   "execution_count": 21,
   "id": "07270458",
   "metadata": {},
   "outputs": [],
   "source": [
    "def histogram_continuous_df(continuous_df):\n",
    "    plt.figure(figsize=(16, 16))\n",
    "    for i, col in enumerate(continuous_df.columns):\n",
    "        plt.subplot(3, 3, i + 1)\n",
    "        sns.histplot(x=col, data=continuous_df)\n",
    "    plt.tight_layout()\n",
    "    plt.show()"
   ]
  },
  {
   "cell_type": "code",
   "execution_count": 22,
   "id": "8200dbe9",
   "metadata": {},
   "outputs": [
    {
     "data": {
      "image/png": "[encoded data removed]",
      "text/plain": [
       "<Figure size 1152x1152 with 5 Axes>"
      ]
     },
     "metadata": {
      "needs_background": "light"
     },
     "output_type": "display_data"
    }
   ],
   "source": [
    "histogram_continuous_df(continuous_df)"
   ]
  },
  {
   "cell_type": "markdown",
   "id": "1b017d8e",
   "metadata": {},
   "source": [
    "13. According to the previous histogram plots, do you think that you will have to apply any transformation?"
   ]
  },
  {
   "cell_type": "code",
   "execution_count": null,
   "id": "330f151c",
   "metadata": {},
   "outputs": [],
   "source": []
  },
  {
   "cell_type": "markdown",
   "id": "5b8e4218",
   "metadata": {},
   "source": [
    "14. Look for outliers in the continuous variables that you have found. Hint: There was a good plot to do that. Define a function to create this kind of plot for the continuous_df."
   ]
  },
  {
   "cell_type": "code",
   "execution_count": 23,
   "id": "4dffc7d9",
   "metadata": {},
   "outputs": [],
   "source": [
    "def boxplot_Outlier_Check(continuous_df):\n",
    "    plt.figure(figsize=(16, 16))\n",
    "    for i, col in enumerate(continuous_df.columns):\n",
    "        plt.subplot(3, 3, i + 1)\n",
    "        sns.boxplot(x=col, data=continuous_df)\n",
    "    plt.tight_layout()\n",
    "    plt.show()"
   ]
  },
  {
   "cell_type": "code",
   "execution_count": 24,
   "id": "ee8fac54",
   "metadata": {},
   "outputs": [
    {
     "data": {
      "image/png": "[encoded data removed]",
      "text/plain": [
       "<Figure size 1152x1152 with 5 Axes>"
      ]
     },
     "metadata": {
      "needs_background": "light"
     },
     "output_type": "display_data"
    }
   ],
   "source": [
    "boxplot_Outlier_Check(continuous_df)"
   ]
  },
  {
   "cell_type": "markdown",
   "id": "af282972",
   "metadata": {},
   "source": [
    "The outliers in the data are represented as individual points outside the box in the box plot."
   ]
  },
  {
   "cell_type": "code",
   "execution_count": null,
   "id": "c069db7e",
   "metadata": {},
   "outputs": [],
   "source": []
  },
  {
   "cell_type": "markdown",
   "id": "069f76e6",
   "metadata": {},
   "source": [
    "# LAB2: Lab Cleaning Categorical Data"
   ]
  },
  {
   "cell_type": "markdown",
   "id": "65ccbe77",
   "metadata": {},
   "source": [
    "1. Define a function that given a pandas DataFrame as input creates a seaborn countplot of each categorical column. Make sure to sort the bars by frequency ie: the most frequent values should be placed first. Hint: use .value_counts(). In addition, if the amount of unique values of a categorical column (cardinality) is six or more, the corresponding countplot should have the bars placed on the y-axis instead of the x-axis."
   ]
  },
  {
   "cell_type": "code",
   "execution_count": 25,
   "id": "b3a499ce",
   "metadata": {},
   "outputs": [],
   "source": [
    "def countplot_categorical_columns(df):\n",
    "    plt.figure(figsize=(16, 16))\n",
    "    for i, col in enumerate(df.select_dtypes(include='object').columns):\n",
    "        plt.subplot(4, 4, i + 1)\n",
    "        ax = sns.countplot(x=col, data=df, order=df[col].value_counts().index)\n",
    "        if df[col].nunique() >= 6:\n",
    "            ax.set_ylabel(\"Frequency\")\n",
    "            ax.set_xlabel(\"\")\n",
    "        else:\n",
    "            ax.set_xlabel(\"Frequency\")\n",
    "            ax.set_ylabel(\"\")\n",
    "    plt.tight_layout()\n",
    "    plt.show()"
   ]
  },
  {
   "cell_type": "code",
   "execution_count": 26,
   "id": "4b3a3df0",
   "metadata": {},
   "outputs": [
    {
     "data": {
      "image/png": "[encoded data removed]",
      "text/plain": [
       "<Figure size 1152x1152 with 15 Axes>"
      ]
     },
     "metadata": {
      "needs_background": "light"
     },
     "output_type": "display_data"
    }
   ],
   "source": [
    "countplot_categorical_columns(customer_df)"
   ]
  },
  {
   "cell_type": "markdown",
   "id": "7f7ff9f5",
   "metadata": {},
   "source": [
    "2. policy_type and policy columns are redundant, and what's worse policy column has a lot of possible unique values (high cardinality) which will be problematic when they will be dummified with an OneHotEncoder because we will increase a lot the number of columns in the dataframe. Drop the column policy_type and transform the column policy to three possible values: L1, L2, and L3 using a function."
   ]
  },
  {
   "cell_type": "code",
   "execution_count": 27,
   "id": "7b11a16e",
   "metadata": {},
   "outputs": [
    {
     "data": {
      "text/html": [
       "<div>\n",
       "<style scoped>\n",
       "    .dataframe tbody tr th:only-of-type {\n",
       "        vertical-align: middle;\n",
       "    }\n",
       "\n",
       "    .dataframe tbody tr th {\n",
       "        vertical-align: top;\n",
       "    }\n",
       "\n",
       "    .dataframe thead th {\n",
       "        text-align: right;\n",
       "    }\n",
       "</style>\n",
       "<table border=\"1\" class=\"dataframe\">\n",
       "  <thead>\n",
       "    <tr style=\"text-align: right;\">\n",
       "      <th></th>\n",
       "      <th>policy_type</th>\n",
       "      <th>policy</th>\n",
       "    </tr>\n",
       "  </thead>\n",
       "  <tbody>\n",
       "    <tr>\n",
       "      <th>0</th>\n",
       "      <td>Corporate Auto</td>\n",
       "      <td>Corporate L3</td>\n",
       "    </tr>\n",
       "    <tr>\n",
       "      <th>1</th>\n",
       "      <td>Personal Auto</td>\n",
       "      <td>Personal L3</td>\n",
       "    </tr>\n",
       "  </tbody>\n",
       "</table>\n",
       "</div>"
      ],
      "text/plain": [
       "      policy_type        policy\n",
       "0  Corporate Auto  Corporate L3\n",
       "1   Personal Auto   Personal L3"
      ]
     },
     "execution_count": 27,
     "metadata": {},
     "output_type": "execute_result"
    }
   ],
   "source": [
    "customer_df[['policy_type','policy']].head(2)"
   ]
  },
  {
   "cell_type": "code",
   "execution_count": 28,
   "id": "b1f7d9d0",
   "metadata": {},
   "outputs": [
    {
     "data": {
      "text/plain": [
       "array(['Corporate Auto', 'Personal Auto', 'Special Auto'], dtype=object)"
      ]
     },
     "execution_count": 28,
     "metadata": {},
     "output_type": "execute_result"
    }
   ],
   "source": [
    "customer_df['policy_type'].unique()"
   ]
  },
  {
   "cell_type": "code",
   "execution_count": 29,
   "id": "8f7e22f8",
   "metadata": {},
   "outputs": [
    {
     "data": {
      "text/plain": [
       "array(['Corporate L3', 'Personal L3', 'Corporate L2', 'Personal L1',\n",
       "       'Special L2', 'Corporate L1', 'Personal L2', 'Special L1',\n",
       "       'Special L3'], dtype=object)"
      ]
     },
     "execution_count": 29,
     "metadata": {},
     "output_type": "execute_result"
    }
   ],
   "source": [
    "customer_df['policy'].unique()"
   ]
  },
  {
   "cell_type": "code",
   "execution_count": 30,
   "id": "d61f300a",
   "metadata": {},
   "outputs": [],
   "source": [
    "# drop policy_type\n",
    "customer_df.drop(columns='policy_type',inplace=True)"
   ]
  },
  {
   "cell_type": "code",
   "execution_count": 31,
   "id": "c450a70e",
   "metadata": {},
   "outputs": [],
   "source": [
    "def map_policy(policy):\n",
    "    if policy in ['Special L1', 'Corporate L1','Personal L1']:\n",
    "        return 'L1'\n",
    "    elif policy in ['Corporate L2', 'Special L2', 'Personal L2']:\n",
    "        return 'L2'\n",
    "    else:\n",
    "        return 'L3'\n",
    "\n",
    "customer_df['policy'] = customer_df['policy'].apply(map_policy)"
   ]
  },
  {
   "cell_type": "code",
   "execution_count": 32,
   "id": "fafbc9e8",
   "metadata": {},
   "outputs": [],
   "source": [
    "# drop policy_type\n",
    "Categorical_df.drop(columns='policy_type',inplace=True)"
   ]
  },
  {
   "cell_type": "code",
   "execution_count": 33,
   "id": "b75efa9a",
   "metadata": {},
   "outputs": [
    {
     "data": {
      "text/plain": [
       "array(['Corporate L3', 'Personal L3', 'Corporate L2', 'Personal L1',\n",
       "       'Special L2', 'Corporate L1', 'Personal L2', 'Special L1',\n",
       "       'Special L3'], dtype=object)"
      ]
     },
     "execution_count": 33,
     "metadata": {},
     "output_type": "execute_result"
    }
   ],
   "source": [
    "Categorical_df['policy'].unique()"
   ]
  },
  {
   "cell_type": "code",
   "execution_count": 34,
   "id": "525914a1",
   "metadata": {},
   "outputs": [
    {
     "data": {
      "text/plain": [
       "array(['L3', 'L2', 'L1'], dtype=object)"
      ]
     },
     "execution_count": 34,
     "metadata": {},
     "output_type": "execute_result"
    }
   ],
   "source": [
    "Categorical_df['policy'] = Categorical_df['policy'].apply(map_policy)\n",
    "Categorical_df['policy'].unique()"
   ]
  },
  {
   "cell_type": "code",
   "execution_count": 35,
   "id": "32a9583d",
   "metadata": {},
   "outputs": [],
   "source": [
    "# final_df['education'] = final_df['education'].where(~final_df['education'].isin(['Master', 'Doctor']), 'Graduate')"
   ]
  },
  {
   "cell_type": "code",
   "execution_count": 36,
   "id": "45c595be",
   "metadata": {},
   "outputs": [
    {
     "data": {
      "text/plain": [
       "array(['L3', 'L2', 'L1'], dtype=object)"
      ]
     },
     "execution_count": 36,
     "metadata": {},
     "output_type": "execute_result"
    }
   ],
   "source": [
    "customer_df['policy'].unique()"
   ]
  },
  {
   "cell_type": "code",
   "execution_count": 37,
   "id": "2f9e078f",
   "metadata": {},
   "outputs": [
    {
     "data": {
      "text/plain": [
       "array(['L3', 'L2', 'L1'], dtype=object)"
      ]
     },
     "execution_count": 37,
     "metadata": {},
     "output_type": "execute_result"
    }
   ],
   "source": [
    "customer_df['policy'].unique()"
   ]
  },
  {
   "cell_type": "markdown",
   "id": "39023346",
   "metadata": {},
   "source": [
    "3. Time dependency analysis. Use a seaborn line plot using the column effective_to_date to see if total_claim_amount is bigger at some specific dates. Use a figsize=(10,10)"
   ]
  },
  {
   "cell_type": "code",
   "execution_count": 38,
   "id": "c74ae4da",
   "metadata": {},
   "outputs": [
    {
     "data": {
      "image/png": "[encoded data removed]",
      "text/plain": [
       "<Figure size 720x720 with 1 Axes>"
      ]
     },
     "metadata": {
      "needs_background": "light"
     },
     "output_type": "display_data"
    }
   ],
   "source": [
    "plt.figure(figsize=(10, 10))\n",
    "sns.lineplot(x='effective_to_date', y='total_claim_amount', data=customer_df)\n",
    "plt.show()"
   ]
  },
  {
   "cell_type": "markdown",
   "id": "87bfe97d",
   "metadata": {},
   "source": [
    "4.     To continue the analysis define an empty pandas DataFrame, and add the following new columns:\n",
    "\n",
    "    day with the day number of effective_to_date\n",
    "    day_name with the day NAME of effective_to_date\n",
    "    week with the week of effective_to_date\n",
    "    month with the month NAME of effective_to_date\n",
    "    total_claim_amount with total_claim_amount\n"
   ]
  },
  {
   "cell_type": "code",
   "execution_count": 39,
   "id": "34462ca3",
   "metadata": {},
   "outputs": [],
   "source": [
    "df_new = pd.DataFrame()\n",
    "df_new['day'] = customer_df['effective_to_date'].dt.day\n",
    "df_new['day_name'] = customer_df['effective_to_date'].dt.day_name()\n",
    "df_new['week'] = customer_df['effective_to_date'].dt.week\n",
    "df_new['month'] = customer_df['effective_to_date'].dt.month_name()\n",
    "df_new['total_claim_amount'] = customer_df['total_claim_amount']"
   ]
  },
  {
   "cell_type": "code",
   "execution_count": 40,
   "id": "7142c04e",
   "metadata": {},
   "outputs": [
    {
     "data": {
      "text/html": [
       "<div>\n",
       "<style scoped>\n",
       "    .dataframe tbody tr th:only-of-type {\n",
       "        vertical-align: middle;\n",
       "    }\n",
       "\n",
       "    .dataframe tbody tr th {\n",
       "        vertical-align: top;\n",
       "    }\n",
       "\n",
       "    .dataframe thead th {\n",
       "        text-align: right;\n",
       "    }\n",
       "</style>\n",
       "<table border=\"1\" class=\"dataframe\">\n",
       "  <thead>\n",
       "    <tr style=\"text-align: right;\">\n",
       "      <th></th>\n",
       "      <th>day</th>\n",
       "      <th>day_name</th>\n",
       "      <th>week</th>\n",
       "      <th>month</th>\n",
       "      <th>total_claim_amount</th>\n",
       "    </tr>\n",
       "  </thead>\n",
       "  <tbody>\n",
       "    <tr>\n",
       "      <th>0</th>\n",
       "      <td>24</td>\n",
       "      <td>Thursday</td>\n",
       "      <td>8</td>\n",
       "      <td>February</td>\n",
       "      <td>384.811147</td>\n",
       "    </tr>\n",
       "    <tr>\n",
       "      <th>1</th>\n",
       "      <td>31</td>\n",
       "      <td>Monday</td>\n",
       "      <td>5</td>\n",
       "      <td>January</td>\n",
       "      <td>1131.464935</td>\n",
       "    </tr>\n",
       "    <tr>\n",
       "      <th>2</th>\n",
       "      <td>19</td>\n",
       "      <td>Saturday</td>\n",
       "      <td>7</td>\n",
       "      <td>February</td>\n",
       "      <td>566.472247</td>\n",
       "    </tr>\n",
       "    <tr>\n",
       "      <th>3</th>\n",
       "      <td>20</td>\n",
       "      <td>Thursday</td>\n",
       "      <td>3</td>\n",
       "      <td>January</td>\n",
       "      <td>529.881344</td>\n",
       "    </tr>\n",
       "    <tr>\n",
       "      <th>4</th>\n",
       "      <td>3</td>\n",
       "      <td>Thursday</td>\n",
       "      <td>5</td>\n",
       "      <td>February</td>\n",
       "      <td>138.130879</td>\n",
       "    </tr>\n",
       "    <tr>\n",
       "      <th>...</th>\n",
       "      <td>...</td>\n",
       "      <td>...</td>\n",
       "      <td>...</td>\n",
       "      <td>...</td>\n",
       "      <td>...</td>\n",
       "    </tr>\n",
       "    <tr>\n",
       "      <th>9129</th>\n",
       "      <td>10</td>\n",
       "      <td>Thursday</td>\n",
       "      <td>6</td>\n",
       "      <td>February</td>\n",
       "      <td>198.234764</td>\n",
       "    </tr>\n",
       "    <tr>\n",
       "      <th>9130</th>\n",
       "      <td>12</td>\n",
       "      <td>Saturday</td>\n",
       "      <td>6</td>\n",
       "      <td>February</td>\n",
       "      <td>379.200000</td>\n",
       "    </tr>\n",
       "    <tr>\n",
       "      <th>9131</th>\n",
       "      <td>6</td>\n",
       "      <td>Sunday</td>\n",
       "      <td>5</td>\n",
       "      <td>February</td>\n",
       "      <td>790.784983</td>\n",
       "    </tr>\n",
       "    <tr>\n",
       "      <th>9132</th>\n",
       "      <td>3</td>\n",
       "      <td>Thursday</td>\n",
       "      <td>5</td>\n",
       "      <td>February</td>\n",
       "      <td>691.200000</td>\n",
       "    </tr>\n",
       "    <tr>\n",
       "      <th>9133</th>\n",
       "      <td>14</td>\n",
       "      <td>Monday</td>\n",
       "      <td>7</td>\n",
       "      <td>February</td>\n",
       "      <td>369.600000</td>\n",
       "    </tr>\n",
       "  </tbody>\n",
       "</table>\n",
       "<p>9134 rows × 5 columns</p>\n",
       "</div>"
      ],
      "text/plain": [
       "      day  day_name  week     month  total_claim_amount\n",
       "0      24  Thursday     8  February          384.811147\n",
       "1      31    Monday     5   January         1131.464935\n",
       "2      19  Saturday     7  February          566.472247\n",
       "3      20  Thursday     3   January          529.881344\n",
       "4       3  Thursday     5  February          138.130879\n",
       "...   ...       ...   ...       ...                 ...\n",
       "9129   10  Thursday     6  February          198.234764\n",
       "9130   12  Saturday     6  February          379.200000\n",
       "9131    6    Sunday     5  February          790.784983\n",
       "9132    3  Thursday     5  February          691.200000\n",
       "9133   14    Monday     7  February          369.600000\n",
       "\n",
       "[9134 rows x 5 columns]"
      ]
     },
     "execution_count": 40,
     "metadata": {},
     "output_type": "execute_result"
    }
   ],
   "source": [
    "df_new"
   ]
  },
  {
   "cell_type": "markdown",
   "id": "61d0470f",
   "metadata": {},
   "source": [
    "5. Compute the total target column aggregated day_name rounded to two decimals and then reorder the index of the resulting pandas series using .reindex(index=list_of_correct_days)"
   ]
  },
  {
   "cell_type": "code",
   "execution_count": 41,
   "id": "ba968df3",
   "metadata": {},
   "outputs": [
    {
     "data": {
      "text/html": [
       "<div>\n",
       "<style scoped>\n",
       "    .dataframe tbody tr th:only-of-type {\n",
       "        vertical-align: middle;\n",
       "    }\n",
       "\n",
       "    .dataframe tbody tr th {\n",
       "        vertical-align: top;\n",
       "    }\n",
       "\n",
       "    .dataframe thead th {\n",
       "        text-align: right;\n",
       "    }\n",
       "</style>\n",
       "<table border=\"1\" class=\"dataframe\">\n",
       "  <thead>\n",
       "    <tr style=\"text-align: right;\">\n",
       "      <th></th>\n",
       "      <th>total_claim_amount</th>\n",
       "    </tr>\n",
       "    <tr>\n",
       "      <th>day_name</th>\n",
       "      <th></th>\n",
       "    </tr>\n",
       "  </thead>\n",
       "  <tbody>\n",
       "    <tr>\n",
       "      <th>Monday</th>\n",
       "      <td>655689.71</td>\n",
       "    </tr>\n",
       "    <tr>\n",
       "      <th>Tuesday</th>\n",
       "      <td>502518.93</td>\n",
       "    </tr>\n",
       "    <tr>\n",
       "      <th>Wednesday</th>\n",
       "      <td>541563.05</td>\n",
       "    </tr>\n",
       "    <tr>\n",
       "      <th>Thursday</th>\n",
       "      <td>541820.80</td>\n",
       "    </tr>\n",
       "    <tr>\n",
       "      <th>Friday</th>\n",
       "      <td>533658.79</td>\n",
       "    </tr>\n",
       "    <tr>\n",
       "      <th>Saturday</th>\n",
       "      <td>608060.10</td>\n",
       "    </tr>\n",
       "    <tr>\n",
       "      <th>Sunday</th>\n",
       "      <td>581655.66</td>\n",
       "    </tr>\n",
       "  </tbody>\n",
       "</table>\n",
       "</div>"
      ],
      "text/plain": [
       "           total_claim_amount\n",
       "day_name                     \n",
       "Monday              655689.71\n",
       "Tuesday             502518.93\n",
       "Wednesday           541563.05\n",
       "Thursday            541820.80\n",
       "Friday              533658.79\n",
       "Saturday            608060.10\n",
       "Sunday              581655.66"
      ]
     },
     "execution_count": 41,
     "metadata": {},
     "output_type": "execute_result"
    }
   ],
   "source": [
    "# Define the list of correct days in the desired order\n",
    "list_of_correct_days = ['Monday', 'Tuesday', 'Wednesday', 'Thursday', 'Friday', 'Saturday', 'Sunday']\n",
    "\n",
    "# Compute the total of the total_claim_amount column aggregated by day_name\n",
    "aggregated_day_name = df_new.groupby('day_name').agg({'total_claim_amount': 'sum'})['total_claim_amount'].round(2)\n",
    "\n",
    "# Reorder the index of the aggregated series\n",
    "aggregated_day_name = pd.DataFrame(aggregated_day_name.reindex(index=list_of_correct_days))\n",
    "aggregated_day_name"
   ]
  },
  {
   "cell_type": "markdown",
   "id": "b27a06ba",
   "metadata": {},
   "source": [
    "6. Use a seaborn line plot to plot the previous series. Do you see some differences by day of the week?"
   ]
  },
  {
   "cell_type": "code",
   "execution_count": 42,
   "id": "3fa137d0",
   "metadata": {},
   "outputs": [
    {
     "data": {
      "image/png": "[encoded data removed]",
      "text/plain": [
       "<Figure size 576x432 with 1 Axes>"
      ]
     },
     "metadata": {
      "needs_background": "light"
     },
     "output_type": "display_data"
    }
   ],
   "source": [
    "plt.figure(figsize=(8, 6))\n",
    "sns.lineplot(data=aggregated_day_name)\n",
    "plt.show()"
   ]
  },
  {
   "cell_type": "markdown",
   "id": "bb814db1",
   "metadata": {},
   "source": [
    "7. Get the total number of claims by day of the week name and then reorder the index of the resulting pandas series using .reindex(index=list_of_correct_values)"
   ]
  },
  {
   "cell_type": "code",
   "execution_count": 43,
   "id": "6b9b8963",
   "metadata": {},
   "outputs": [
    {
     "data": {
      "text/html": [
       "<div>\n",
       "<style scoped>\n",
       "    .dataframe tbody tr th:only-of-type {\n",
       "        vertical-align: middle;\n",
       "    }\n",
       "\n",
       "    .dataframe tbody tr th {\n",
       "        vertical-align: top;\n",
       "    }\n",
       "\n",
       "    .dataframe thead th {\n",
       "        text-align: right;\n",
       "    }\n",
       "</style>\n",
       "<table border=\"1\" class=\"dataframe\">\n",
       "  <thead>\n",
       "    <tr style=\"text-align: right;\">\n",
       "      <th></th>\n",
       "      <th>total number of claims</th>\n",
       "    </tr>\n",
       "    <tr>\n",
       "      <th>day_name</th>\n",
       "      <th></th>\n",
       "    </tr>\n",
       "  </thead>\n",
       "  <tbody>\n",
       "    <tr>\n",
       "      <th>Monday</th>\n",
       "      <td>1530</td>\n",
       "    </tr>\n",
       "    <tr>\n",
       "      <th>Tuesday</th>\n",
       "      <td>1162</td>\n",
       "    </tr>\n",
       "    <tr>\n",
       "      <th>Wednesday</th>\n",
       "      <td>1221</td>\n",
       "    </tr>\n",
       "    <tr>\n",
       "      <th>Thursday</th>\n",
       "      <td>1249</td>\n",
       "    </tr>\n",
       "    <tr>\n",
       "      <th>Friday</th>\n",
       "      <td>1245</td>\n",
       "    </tr>\n",
       "    <tr>\n",
       "      <th>Saturday</th>\n",
       "      <td>1397</td>\n",
       "    </tr>\n",
       "    <tr>\n",
       "      <th>Sunday</th>\n",
       "      <td>1330</td>\n",
       "    </tr>\n",
       "  </tbody>\n",
       "</table>\n",
       "</div>"
      ],
      "text/plain": [
       "           total number of claims\n",
       "day_name                         \n",
       "Monday                       1530\n",
       "Tuesday                      1162\n",
       "Wednesday                    1221\n",
       "Thursday                     1249\n",
       "Friday                       1245\n",
       "Saturday                     1397\n",
       "Sunday                       1330"
      ]
     },
     "execution_count": 43,
     "metadata": {},
     "output_type": "execute_result"
    }
   ],
   "source": [
    "# Define the list of correct days in the desired order\n",
    "list_of_correct_days = ['Monday', 'Tuesday', 'Wednesday', 'Thursday', 'Friday', 'Saturday', 'Sunday']\n",
    "\n",
    "# Compute the total of the total_claim_amount column aggregated by day_name\n",
    "aggregated_day_name = df_new.groupby('day_name').agg({'total_claim_amount': 'count'})['total_claim_amount'].round(2)\n",
    "\n",
    "# Reorder the index of the aggregated series\n",
    "aggregated_day_name = pd.DataFrame(aggregated_day_name.reindex(index=list_of_correct_days)).rename(columns={'total_claim_amount':'total number of claims'})\n",
    "aggregated_day_name"
   ]
  },
  {
   "cell_type": "markdown",
   "id": "7f6f88f2",
   "metadata": {},
   "source": [
    "8. Get the median \"target\" by day of the week name and then sort the resulting values in descending order using .sort_values()"
   ]
  },
  {
   "cell_type": "code",
   "execution_count": 44,
   "id": "2a4bbe8b",
   "metadata": {},
   "outputs": [
    {
     "data": {
      "text/html": [
       "<div>\n",
       "<style scoped>\n",
       "    .dataframe tbody tr th:only-of-type {\n",
       "        vertical-align: middle;\n",
       "    }\n",
       "\n",
       "    .dataframe tbody tr th {\n",
       "        vertical-align: top;\n",
       "    }\n",
       "\n",
       "    .dataframe thead th {\n",
       "        text-align: right;\n",
       "    }\n",
       "</style>\n",
       "<table border=\"1\" class=\"dataframe\">\n",
       "  <thead>\n",
       "    <tr style=\"text-align: right;\">\n",
       "      <th></th>\n",
       "      <th>median</th>\n",
       "    </tr>\n",
       "    <tr>\n",
       "      <th>day_name</th>\n",
       "      <th></th>\n",
       "    </tr>\n",
       "  </thead>\n",
       "  <tbody>\n",
       "    <tr>\n",
       "      <th>Thursday</th>\n",
       "      <td>395.33</td>\n",
       "    </tr>\n",
       "    <tr>\n",
       "      <th>Wednesday</th>\n",
       "      <td>392.24</td>\n",
       "    </tr>\n",
       "    <tr>\n",
       "      <th>Monday</th>\n",
       "      <td>385.74</td>\n",
       "    </tr>\n",
       "    <tr>\n",
       "      <th>Sunday</th>\n",
       "      <td>383.72</td>\n",
       "    </tr>\n",
       "    <tr>\n",
       "      <th>Saturday</th>\n",
       "      <td>379.20</td>\n",
       "    </tr>\n",
       "    <tr>\n",
       "      <th>Tuesday</th>\n",
       "      <td>378.49</td>\n",
       "    </tr>\n",
       "    <tr>\n",
       "      <th>Friday</th>\n",
       "      <td>371.80</td>\n",
       "    </tr>\n",
       "  </tbody>\n",
       "</table>\n",
       "</div>"
      ],
      "text/plain": [
       "           median\n",
       "day_name         \n",
       "Thursday   395.33\n",
       "Wednesday  392.24\n",
       "Monday     385.74\n",
       "Sunday     383.72\n",
       "Saturday   379.20\n",
       "Tuesday    378.49\n",
       "Friday     371.80"
      ]
     },
     "execution_count": 44,
     "metadata": {},
     "output_type": "execute_result"
    }
   ],
   "source": [
    "# Define the list of correct days in the desired order\n",
    "list_of_correct_days = ['Monday', 'Tuesday', 'Wednesday', 'Thursday', 'Friday', 'Saturday', 'Sunday']\n",
    "\n",
    "# Compute the total of the total_claim_amount column aggregated by day_name\n",
    "aggregated_median_day_name = df_new.groupby('day_name').agg({'total_claim_amount': 'median'})['total_claim_amount'].round(2)\n",
    "\n",
    "# Reorder the index of the aggregated series\n",
    "aggregated_median_day_name = pd.DataFrame(aggregated_median_day_name.reindex(index=list_of_correct_days)).rename(columns={'total_claim_amount':'median'})\n",
    "median_df = aggregated_median_day_name.sort_values(by='median', ascending=False)\n",
    "median_df"
   ]
  },
  {
   "cell_type": "markdown",
   "id": "a111ecd0",
   "metadata": {},
   "source": [
    "9. Plot the median \"target\" by day of the week name using a seaborn barplot"
   ]
  },
  {
   "cell_type": "code",
   "execution_count": 45,
   "id": "d4e7ca17",
   "metadata": {},
   "outputs": [
    {
     "data": {
      "image/png": "[encoded data removed]",
      "text/plain": [
       "<Figure size 576x432 with 1 Axes>"
      ]
     },
     "metadata": {
      "needs_background": "light"
     },
     "output_type": "display_data"
    }
   ],
   "source": [
    "plt.figure(figsize=(8, 6))\n",
    "sns.barplot(x=median_df.index, y=median_df['median'])\n",
    "plt.xticks(rotation=90)\n",
    "plt.show()"
   ]
  },
  {
   "cell_type": "markdown",
   "id": "ee6c18f9",
   "metadata": {},
   "source": [
    "10. What can you conclude from this analysis?"
   ]
  },
  {
   "cell_type": "code",
   "execution_count": null,
   "id": "e6c99398",
   "metadata": {},
   "outputs": [],
   "source": []
  },
  {
   "cell_type": "markdown",
   "id": "85260fcf",
   "metadata": {},
   "source": [
    "11. Compute the total target column aggregated month rounded to two decimals and then reorder the index of the resulting pandas series using .reindex(index=list_of_correct_values)"
   ]
  },
  {
   "cell_type": "code",
   "execution_count": 46,
   "id": "59194141",
   "metadata": {},
   "outputs": [
    {
     "data": {
      "text/plain": [
       "array(['February', 'January'], dtype=object)"
      ]
     },
     "execution_count": 46,
     "metadata": {},
     "output_type": "execute_result"
    }
   ],
   "source": [
    "df_new['month'].unique()"
   ]
  },
  {
   "cell_type": "code",
   "execution_count": 47,
   "id": "5d8e9151",
   "metadata": {},
   "outputs": [
    {
     "data": {
      "text/html": [
       "<div>\n",
       "<style scoped>\n",
       "    .dataframe tbody tr th:only-of-type {\n",
       "        vertical-align: middle;\n",
       "    }\n",
       "\n",
       "    .dataframe tbody tr th {\n",
       "        vertical-align: top;\n",
       "    }\n",
       "\n",
       "    .dataframe thead th {\n",
       "        text-align: right;\n",
       "    }\n",
       "</style>\n",
       "<table border=\"1\" class=\"dataframe\">\n",
       "  <thead>\n",
       "    <tr style=\"text-align: right;\">\n",
       "      <th></th>\n",
       "      <th>total_claim_amount</th>\n",
       "    </tr>\n",
       "    <tr>\n",
       "      <th>month</th>\n",
       "      <th></th>\n",
       "    </tr>\n",
       "  </thead>\n",
       "  <tbody>\n",
       "    <tr>\n",
       "      <th>January</th>\n",
       "      <td>2.117143e+06</td>\n",
       "    </tr>\n",
       "    <tr>\n",
       "      <th>February</th>\n",
       "      <td>1.847824e+06</td>\n",
       "    </tr>\n",
       "  </tbody>\n",
       "</table>\n",
       "</div>"
      ],
      "text/plain": [
       "          total_claim_amount\n",
       "month                       \n",
       "January         2.117143e+06\n",
       "February        1.847824e+06"
      ]
     },
     "execution_count": 47,
     "metadata": {},
     "output_type": "execute_result"
    }
   ],
   "source": [
    "# Define the list of correct months in the desired order\n",
    "list_of_correct_months = ['January', 'February']\n",
    "\n",
    "# Compute the total of the \"target\" column aggregated by month\n",
    "aggregated_month = df_new.groupby('month').agg({'total_claim_amount': 'sum'})['total_claim_amount']\n",
    "\n",
    "# Reorder the index of the aggregated series\n",
    "aggregated_month = pd.DataFrame(aggregated_month.reindex(index=list_of_correct_months))\n",
    "aggregated_month"
   ]
  },
  {
   "cell_type": "markdown",
   "id": "dbb3842a",
   "metadata": {},
   "source": [
    "12. Can you do a monthly analysis given the output of the previous series? Why?"
   ]
  },
  {
   "cell_type": "markdown",
   "id": "eb5cc492",
   "metadata": {},
   "source": [
    "No. because we can not do a monthly analysis for only two months available in the year"
   ]
  },
  {
   "cell_type": "markdown",
   "id": "c920b150",
   "metadata": {},
   "source": [
    "13. Define a function to remove the outliers of a numerical continuous column depending if a value is bigger or smaller than a given amount of standard deviations of the mean (thr=3)."
   ]
  },
  {
   "cell_type": "code",
   "execution_count": 48,
   "id": "a81623bf",
   "metadata": {},
   "outputs": [],
   "source": [
    "def remove_outliers_df(df, thr=3):\n",
    "    for col in df.columns:\n",
    "        mean = df[col].mean()\n",
    "        std = df[col].std()\n",
    "        lower_bound = mean - thr * std\n",
    "        upper_bound = mean + thr * std\n",
    "        df = df[(df[col] > lower_bound) & (df[col] < upper_bound)]\n",
    "    return df"
   ]
  },
  {
   "cell_type": "markdown",
   "id": "b6837e81",
   "metadata": {},
   "source": [
    "14. Use the previous function to remove the outliers of continuous data and to generate a continuous_clean_df"
   ]
  },
  {
   "cell_type": "code",
   "execution_count": 49,
   "id": "0c63b329",
   "metadata": {},
   "outputs": [
    {
     "data": {
      "text/html": [
       "<div>\n",
       "<style scoped>\n",
       "    .dataframe tbody tr th:only-of-type {\n",
       "        vertical-align: middle;\n",
       "    }\n",
       "\n",
       "    .dataframe tbody tr th {\n",
       "        vertical-align: top;\n",
       "    }\n",
       "\n",
       "    .dataframe thead th {\n",
       "        text-align: right;\n",
       "    }\n",
       "</style>\n",
       "<table border=\"1\" class=\"dataframe\">\n",
       "  <thead>\n",
       "    <tr style=\"text-align: right;\">\n",
       "      <th></th>\n",
       "      <th>customer_lifetime_value</th>\n",
       "      <th>income</th>\n",
       "      <th>monthly_premium_auto</th>\n",
       "      <th>months_since_policy_inception</th>\n",
       "      <th>total_claim_amount</th>\n",
       "    </tr>\n",
       "  </thead>\n",
       "  <tbody>\n",
       "    <tr>\n",
       "      <th>0</th>\n",
       "      <td>2763.519279</td>\n",
       "      <td>56274</td>\n",
       "      <td>69</td>\n",
       "      <td>5</td>\n",
       "      <td>384.811147</td>\n",
       "    </tr>\n",
       "    <tr>\n",
       "      <th>1</th>\n",
       "      <td>6979.535903</td>\n",
       "      <td>0</td>\n",
       "      <td>94</td>\n",
       "      <td>42</td>\n",
       "      <td>1131.464935</td>\n",
       "    </tr>\n",
       "    <tr>\n",
       "      <th>2</th>\n",
       "      <td>12887.431650</td>\n",
       "      <td>48767</td>\n",
       "      <td>108</td>\n",
       "      <td>38</td>\n",
       "      <td>566.472247</td>\n",
       "    </tr>\n",
       "    <tr>\n",
       "      <th>3</th>\n",
       "      <td>7645.861827</td>\n",
       "      <td>0</td>\n",
       "      <td>106</td>\n",
       "      <td>65</td>\n",
       "      <td>529.881344</td>\n",
       "    </tr>\n",
       "    <tr>\n",
       "      <th>4</th>\n",
       "      <td>2813.692575</td>\n",
       "      <td>43836</td>\n",
       "      <td>73</td>\n",
       "      <td>44</td>\n",
       "      <td>138.130879</td>\n",
       "    </tr>\n",
       "  </tbody>\n",
       "</table>\n",
       "</div>"
      ],
      "text/plain": [
       "   customer_lifetime_value  income  monthly_premium_auto  \\\n",
       "0              2763.519279   56274                    69   \n",
       "1              6979.535903       0                    94   \n",
       "2             12887.431650   48767                   108   \n",
       "3              7645.861827       0                   106   \n",
       "4              2813.692575   43836                    73   \n",
       "\n",
       "   months_since_policy_inception  total_claim_amount  \n",
       "0                              5          384.811147  \n",
       "1                             42         1131.464935  \n",
       "2                             38          566.472247  \n",
       "3                             65          529.881344  \n",
       "4                             44          138.130879  "
      ]
     },
     "execution_count": 49,
     "metadata": {},
     "output_type": "execute_result"
    }
   ],
   "source": [
    "Continuous_clean = remove_outliers_df(continuous_df, thr=3)\n",
    "Continuous_clean.head()"
   ]
  },
  {
   "cell_type": "markdown",
   "id": "03a931ef",
   "metadata": {},
   "source": [
    "15. Concatenate the continuous_cleaned_df, discrete_df, categorical_df, and the relevant column of time_df. After removing outliers the continuous_cleaned dataframe will have fewer rows (when you concat the individual dataframes using pd.concat()) the resulting dataframe will have NaN's because of the different sizes of each dataframe. Use pd.dropna() and .reset_index() to fix the final dataframe."
   ]
  },
  {
   "cell_type": "code",
   "execution_count": 50,
   "id": "e7e5a144",
   "metadata": {},
   "outputs": [
    {
     "data": {
      "text/plain": [
       "((8575, 5), (9134, 3), (9134, 15), (9134, 5))"
      ]
     },
     "execution_count": 50,
     "metadata": {},
     "output_type": "execute_result"
    }
   ],
   "source": [
    "Continuous_clean.shape, discrete_df.shape, Categorical_df.shape, df_new.shape"
   ]
  },
  {
   "cell_type": "code",
   "execution_count": 51,
   "id": "2341f883",
   "metadata": {},
   "outputs": [],
   "source": [
    "# Concatenate the individual DataFrames\n",
    "final_df = pd.concat([Continuous_clean, discrete_df, Categorical_df, df_new.drop(columns='total_claim_amount')], \n",
    "                     axis=1)\n",
    "\n",
    "# Remove rows with NaN values\n",
    "final_df.dropna(inplace=True)\n",
    "\n",
    "# Reset the index of the final DataFrame\n",
    "final_df.reset_index(drop=True, inplace=True)"
   ]
  },
  {
   "cell_type": "code",
   "execution_count": 52,
   "id": "ee98d982",
   "metadata": {},
   "outputs": [
    {
     "data": {
      "text/html": [
       "<div>\n",
       "<style scoped>\n",
       "    .dataframe tbody tr th:only-of-type {\n",
       "        vertical-align: middle;\n",
       "    }\n",
       "\n",
       "    .dataframe tbody tr th {\n",
       "        vertical-align: top;\n",
       "    }\n",
       "\n",
       "    .dataframe thead th {\n",
       "        text-align: right;\n",
       "    }\n",
       "</style>\n",
       "<table border=\"1\" class=\"dataframe\">\n",
       "  <thead>\n",
       "    <tr style=\"text-align: right;\">\n",
       "      <th></th>\n",
       "      <th>customer_lifetime_value</th>\n",
       "      <th>income</th>\n",
       "      <th>monthly_premium_auto</th>\n",
       "      <th>months_since_policy_inception</th>\n",
       "      <th>total_claim_amount</th>\n",
       "      <th>months_since_last_claim</th>\n",
       "      <th>number_of_open_complaints</th>\n",
       "      <th>number_of_policies</th>\n",
       "      <th>customer</th>\n",
       "      <th>state</th>\n",
       "      <th>...</th>\n",
       "      <th>marital_status</th>\n",
       "      <th>policy</th>\n",
       "      <th>renew_offer_type</th>\n",
       "      <th>sales_channel</th>\n",
       "      <th>vehicle_class</th>\n",
       "      <th>vehicle_size</th>\n",
       "      <th>day</th>\n",
       "      <th>day_name</th>\n",
       "      <th>week</th>\n",
       "      <th>month</th>\n",
       "    </tr>\n",
       "  </thead>\n",
       "  <tbody>\n",
       "    <tr>\n",
       "      <th>0</th>\n",
       "      <td>2763.519279</td>\n",
       "      <td>56274.0</td>\n",
       "      <td>69.0</td>\n",
       "      <td>5.0</td>\n",
       "      <td>384.811147</td>\n",
       "      <td>32</td>\n",
       "      <td>0</td>\n",
       "      <td>1</td>\n",
       "      <td>BU79786</td>\n",
       "      <td>Washington</td>\n",
       "      <td>...</td>\n",
       "      <td>Married</td>\n",
       "      <td>L3</td>\n",
       "      <td>Offer1</td>\n",
       "      <td>Agent</td>\n",
       "      <td>Two-Door Car</td>\n",
       "      <td>Medsize</td>\n",
       "      <td>24</td>\n",
       "      <td>Thursday</td>\n",
       "      <td>8</td>\n",
       "      <td>February</td>\n",
       "    </tr>\n",
       "    <tr>\n",
       "      <th>1</th>\n",
       "      <td>6979.535903</td>\n",
       "      <td>0.0</td>\n",
       "      <td>94.0</td>\n",
       "      <td>42.0</td>\n",
       "      <td>1131.464935</td>\n",
       "      <td>13</td>\n",
       "      <td>0</td>\n",
       "      <td>8</td>\n",
       "      <td>QZ44356</td>\n",
       "      <td>Arizona</td>\n",
       "      <td>...</td>\n",
       "      <td>Single</td>\n",
       "      <td>L3</td>\n",
       "      <td>Offer3</td>\n",
       "      <td>Agent</td>\n",
       "      <td>Four-Door Car</td>\n",
       "      <td>Medsize</td>\n",
       "      <td>31</td>\n",
       "      <td>Monday</td>\n",
       "      <td>5</td>\n",
       "      <td>January</td>\n",
       "    </tr>\n",
       "    <tr>\n",
       "      <th>2</th>\n",
       "      <td>12887.431650</td>\n",
       "      <td>48767.0</td>\n",
       "      <td>108.0</td>\n",
       "      <td>38.0</td>\n",
       "      <td>566.472247</td>\n",
       "      <td>18</td>\n",
       "      <td>0</td>\n",
       "      <td>2</td>\n",
       "      <td>AI49188</td>\n",
       "      <td>Nevada</td>\n",
       "      <td>...</td>\n",
       "      <td>Married</td>\n",
       "      <td>L3</td>\n",
       "      <td>Offer1</td>\n",
       "      <td>Agent</td>\n",
       "      <td>Two-Door Car</td>\n",
       "      <td>Medsize</td>\n",
       "      <td>19</td>\n",
       "      <td>Saturday</td>\n",
       "      <td>7</td>\n",
       "      <td>February</td>\n",
       "    </tr>\n",
       "    <tr>\n",
       "      <th>3</th>\n",
       "      <td>7645.861827</td>\n",
       "      <td>0.0</td>\n",
       "      <td>106.0</td>\n",
       "      <td>65.0</td>\n",
       "      <td>529.881344</td>\n",
       "      <td>18</td>\n",
       "      <td>0</td>\n",
       "      <td>7</td>\n",
       "      <td>WW63253</td>\n",
       "      <td>California</td>\n",
       "      <td>...</td>\n",
       "      <td>Married</td>\n",
       "      <td>L2</td>\n",
       "      <td>Offer1</td>\n",
       "      <td>Call Center</td>\n",
       "      <td>SUV</td>\n",
       "      <td>Medsize</td>\n",
       "      <td>20</td>\n",
       "      <td>Thursday</td>\n",
       "      <td>3</td>\n",
       "      <td>January</td>\n",
       "    </tr>\n",
       "    <tr>\n",
       "      <th>4</th>\n",
       "      <td>2813.692575</td>\n",
       "      <td>43836.0</td>\n",
       "      <td>73.0</td>\n",
       "      <td>44.0</td>\n",
       "      <td>138.130879</td>\n",
       "      <td>12</td>\n",
       "      <td>0</td>\n",
       "      <td>1</td>\n",
       "      <td>HB64268</td>\n",
       "      <td>Washington</td>\n",
       "      <td>...</td>\n",
       "      <td>Single</td>\n",
       "      <td>L1</td>\n",
       "      <td>Offer1</td>\n",
       "      <td>Agent</td>\n",
       "      <td>Four-Door Car</td>\n",
       "      <td>Medsize</td>\n",
       "      <td>3</td>\n",
       "      <td>Thursday</td>\n",
       "      <td>5</td>\n",
       "      <td>February</td>\n",
       "    </tr>\n",
       "  </tbody>\n",
       "</table>\n",
       "<p>5 rows × 27 columns</p>\n",
       "</div>"
      ],
      "text/plain": [
       "   customer_lifetime_value   income  monthly_premium_auto  \\\n",
       "0              2763.519279  56274.0                  69.0   \n",
       "1              6979.535903      0.0                  94.0   \n",
       "2             12887.431650  48767.0                 108.0   \n",
       "3              7645.861827      0.0                 106.0   \n",
       "4              2813.692575  43836.0                  73.0   \n",
       "\n",
       "   months_since_policy_inception  total_claim_amount  months_since_last_claim  \\\n",
       "0                            5.0          384.811147                       32   \n",
       "1                           42.0         1131.464935                       13   \n",
       "2                           38.0          566.472247                       18   \n",
       "3                           65.0          529.881344                       18   \n",
       "4                           44.0          138.130879                       12   \n",
       "\n",
       "   number_of_open_complaints  number_of_policies customer       state  ...  \\\n",
       "0                          0                   1  BU79786  Washington  ...   \n",
       "1                          0                   8  QZ44356     Arizona  ...   \n",
       "2                          0                   2  AI49188      Nevada  ...   \n",
       "3                          0                   7  WW63253  California  ...   \n",
       "4                          0                   1  HB64268  Washington  ...   \n",
       "\n",
       "  marital_status policy renew_offer_type sales_channel  vehicle_class  \\\n",
       "0        Married     L3           Offer1         Agent   Two-Door Car   \n",
       "1         Single     L3           Offer3         Agent  Four-Door Car   \n",
       "2        Married     L3           Offer1         Agent   Two-Door Car   \n",
       "3        Married     L2           Offer1   Call Center            SUV   \n",
       "4         Single     L1           Offer1         Agent  Four-Door Car   \n",
       "\n",
       "  vehicle_size day  day_name week     month  \n",
       "0      Medsize  24  Thursday    8  February  \n",
       "1      Medsize  31    Monday    5   January  \n",
       "2      Medsize  19  Saturday    7  February  \n",
       "3      Medsize  20  Thursday    3   January  \n",
       "4      Medsize   3  Thursday    5  February  \n",
       "\n",
       "[5 rows x 27 columns]"
      ]
     },
     "execution_count": 52,
     "metadata": {},
     "output_type": "execute_result"
    }
   ],
   "source": [
    "final_df.head()"
   ]
  },
  {
   "cell_type": "markdown",
   "id": "fe8e4390",
   "metadata": {},
   "source": [
    "16. Reorder the columns of the dataframe to place 'total_claim_amount' as the last column."
   ]
  },
  {
   "cell_type": "code",
   "execution_count": 53,
   "id": "f1e07009",
   "metadata": {},
   "outputs": [
    {
     "data": {
      "text/html": [
       "<div>\n",
       "<style scoped>\n",
       "    .dataframe tbody tr th:only-of-type {\n",
       "        vertical-align: middle;\n",
       "    }\n",
       "\n",
       "    .dataframe tbody tr th {\n",
       "        vertical-align: top;\n",
       "    }\n",
       "\n",
       "    .dataframe thead th {\n",
       "        text-align: right;\n",
       "    }\n",
       "</style>\n",
       "<table border=\"1\" class=\"dataframe\">\n",
       "  <thead>\n",
       "    <tr style=\"text-align: right;\">\n",
       "      <th></th>\n",
       "      <th>customer_lifetime_value</th>\n",
       "      <th>income</th>\n",
       "      <th>monthly_premium_auto</th>\n",
       "      <th>months_since_policy_inception</th>\n",
       "      <th>months_since_last_claim</th>\n",
       "      <th>number_of_open_complaints</th>\n",
       "      <th>number_of_policies</th>\n",
       "      <th>customer</th>\n",
       "      <th>state</th>\n",
       "      <th>response</th>\n",
       "      <th>...</th>\n",
       "      <th>policy</th>\n",
       "      <th>renew_offer_type</th>\n",
       "      <th>sales_channel</th>\n",
       "      <th>vehicle_class</th>\n",
       "      <th>vehicle_size</th>\n",
       "      <th>day</th>\n",
       "      <th>day_name</th>\n",
       "      <th>week</th>\n",
       "      <th>month</th>\n",
       "      <th>total_claim_amount</th>\n",
       "    </tr>\n",
       "  </thead>\n",
       "  <tbody>\n",
       "    <tr>\n",
       "      <th>0</th>\n",
       "      <td>2763.519279</td>\n",
       "      <td>56274.0</td>\n",
       "      <td>69.0</td>\n",
       "      <td>5.0</td>\n",
       "      <td>32</td>\n",
       "      <td>0</td>\n",
       "      <td>1</td>\n",
       "      <td>BU79786</td>\n",
       "      <td>Washington</td>\n",
       "      <td>No</td>\n",
       "      <td>...</td>\n",
       "      <td>L3</td>\n",
       "      <td>Offer1</td>\n",
       "      <td>Agent</td>\n",
       "      <td>Two-Door Car</td>\n",
       "      <td>Medsize</td>\n",
       "      <td>24</td>\n",
       "      <td>Thursday</td>\n",
       "      <td>8</td>\n",
       "      <td>February</td>\n",
       "      <td>384.811147</td>\n",
       "    </tr>\n",
       "    <tr>\n",
       "      <th>1</th>\n",
       "      <td>6979.535903</td>\n",
       "      <td>0.0</td>\n",
       "      <td>94.0</td>\n",
       "      <td>42.0</td>\n",
       "      <td>13</td>\n",
       "      <td>0</td>\n",
       "      <td>8</td>\n",
       "      <td>QZ44356</td>\n",
       "      <td>Arizona</td>\n",
       "      <td>No</td>\n",
       "      <td>...</td>\n",
       "      <td>L3</td>\n",
       "      <td>Offer3</td>\n",
       "      <td>Agent</td>\n",
       "      <td>Four-Door Car</td>\n",
       "      <td>Medsize</td>\n",
       "      <td>31</td>\n",
       "      <td>Monday</td>\n",
       "      <td>5</td>\n",
       "      <td>January</td>\n",
       "      <td>1131.464935</td>\n",
       "    </tr>\n",
       "    <tr>\n",
       "      <th>2</th>\n",
       "      <td>12887.431650</td>\n",
       "      <td>48767.0</td>\n",
       "      <td>108.0</td>\n",
       "      <td>38.0</td>\n",
       "      <td>18</td>\n",
       "      <td>0</td>\n",
       "      <td>2</td>\n",
       "      <td>AI49188</td>\n",
       "      <td>Nevada</td>\n",
       "      <td>No</td>\n",
       "      <td>...</td>\n",
       "      <td>L3</td>\n",
       "      <td>Offer1</td>\n",
       "      <td>Agent</td>\n",
       "      <td>Two-Door Car</td>\n",
       "      <td>Medsize</td>\n",
       "      <td>19</td>\n",
       "      <td>Saturday</td>\n",
       "      <td>7</td>\n",
       "      <td>February</td>\n",
       "      <td>566.472247</td>\n",
       "    </tr>\n",
       "    <tr>\n",
       "      <th>3</th>\n",
       "      <td>7645.861827</td>\n",
       "      <td>0.0</td>\n",
       "      <td>106.0</td>\n",
       "      <td>65.0</td>\n",
       "      <td>18</td>\n",
       "      <td>0</td>\n",
       "      <td>7</td>\n",
       "      <td>WW63253</td>\n",
       "      <td>California</td>\n",
       "      <td>No</td>\n",
       "      <td>...</td>\n",
       "      <td>L2</td>\n",
       "      <td>Offer1</td>\n",
       "      <td>Call Center</td>\n",
       "      <td>SUV</td>\n",
       "      <td>Medsize</td>\n",
       "      <td>20</td>\n",
       "      <td>Thursday</td>\n",
       "      <td>3</td>\n",
       "      <td>January</td>\n",
       "      <td>529.881344</td>\n",
       "    </tr>\n",
       "    <tr>\n",
       "      <th>4</th>\n",
       "      <td>2813.692575</td>\n",
       "      <td>43836.0</td>\n",
       "      <td>73.0</td>\n",
       "      <td>44.0</td>\n",
       "      <td>12</td>\n",
       "      <td>0</td>\n",
       "      <td>1</td>\n",
       "      <td>HB64268</td>\n",
       "      <td>Washington</td>\n",
       "      <td>No</td>\n",
       "      <td>...</td>\n",
       "      <td>L1</td>\n",
       "      <td>Offer1</td>\n",
       "      <td>Agent</td>\n",
       "      <td>Four-Door Car</td>\n",
       "      <td>Medsize</td>\n",
       "      <td>3</td>\n",
       "      <td>Thursday</td>\n",
       "      <td>5</td>\n",
       "      <td>February</td>\n",
       "      <td>138.130879</td>\n",
       "    </tr>\n",
       "  </tbody>\n",
       "</table>\n",
       "<p>5 rows × 27 columns</p>\n",
       "</div>"
      ],
      "text/plain": [
       "   customer_lifetime_value   income  monthly_premium_auto  \\\n",
       "0              2763.519279  56274.0                  69.0   \n",
       "1              6979.535903      0.0                  94.0   \n",
       "2             12887.431650  48767.0                 108.0   \n",
       "3              7645.861827      0.0                 106.0   \n",
       "4              2813.692575  43836.0                  73.0   \n",
       "\n",
       "   months_since_policy_inception  months_since_last_claim  \\\n",
       "0                            5.0                       32   \n",
       "1                           42.0                       13   \n",
       "2                           38.0                       18   \n",
       "3                           65.0                       18   \n",
       "4                           44.0                       12   \n",
       "\n",
       "   number_of_open_complaints  number_of_policies customer       state  \\\n",
       "0                          0                   1  BU79786  Washington   \n",
       "1                          0                   8  QZ44356     Arizona   \n",
       "2                          0                   2  AI49188      Nevada   \n",
       "3                          0                   7  WW63253  California   \n",
       "4                          0                   1  HB64268  Washington   \n",
       "\n",
       "  response  ... policy renew_offer_type sales_channel  vehicle_class  \\\n",
       "0       No  ...     L3           Offer1         Agent   Two-Door Car   \n",
       "1       No  ...     L3           Offer3         Agent  Four-Door Car   \n",
       "2       No  ...     L3           Offer1         Agent   Two-Door Car   \n",
       "3       No  ...     L2           Offer1   Call Center            SUV   \n",
       "4       No  ...     L1           Offer1         Agent  Four-Door Car   \n",
       "\n",
       "  vehicle_size day  day_name week     month total_claim_amount  \n",
       "0      Medsize  24  Thursday    8  February         384.811147  \n",
       "1      Medsize  31    Monday    5   January        1131.464935  \n",
       "2      Medsize  19  Saturday    7  February         566.472247  \n",
       "3      Medsize  20  Thursday    3   January         529.881344  \n",
       "4      Medsize   3  Thursday    5  February         138.130879  \n",
       "\n",
       "[5 rows x 27 columns]"
      ]
     },
     "execution_count": 53,
     "metadata": {},
     "output_type": "execute_result"
    }
   ],
   "source": [
    "cols = list(final_df.columns)\n",
    "cols.remove('total_claim_amount')\n",
    "cols.append('total_claim_amount')\n",
    "final_df = final_df[cols]\n",
    "final_df.head()"
   ]
  },
  {
   "cell_type": "markdown",
   "id": "446dd21a",
   "metadata": {},
   "source": [
    "17. Turn the response column values into (Yes=1/No=0)."
   ]
  },
  {
   "cell_type": "code",
   "execution_count": 54,
   "id": "438f665a",
   "metadata": {},
   "outputs": [],
   "source": [
    "final_df['response'] = final_df['response'].map({'Yes': 1, 'No': 0})"
   ]
  },
  {
   "cell_type": "code",
   "execution_count": 55,
   "id": "52767d39",
   "metadata": {},
   "outputs": [
    {
     "data": {
      "text/plain": [
       "array([0, 1], dtype=int64)"
      ]
     },
     "execution_count": 55,
     "metadata": {},
     "output_type": "execute_result"
    }
   ],
   "source": [
    "final_df['response'].unique()"
   ]
  },
  {
   "cell_type": "markdown",
   "id": "3cbab6b8",
   "metadata": {},
   "source": [
    "18. Reduce the class imbalance in education by grouping together [\"Master\",\"Doctor\"] into \"Graduate\" while keeping the other possible values as they are. In this way, you will reduce a bit the class imbalance at the price of losing a level of detail."
   ]
  },
  {
   "cell_type": "code",
   "execution_count": 56,
   "id": "8a766774",
   "metadata": {},
   "outputs": [
    {
     "data": {
      "text/plain": [
       "Index(['customer_lifetime_value', 'income', 'monthly_premium_auto',\n",
       "       'months_since_policy_inception', 'months_since_last_claim',\n",
       "       'number_of_open_complaints', 'number_of_policies', 'customer', 'state',\n",
       "       'response', 'coverage', 'education', 'effective_to_date',\n",
       "       'employmentstatus', 'gender', 'location_code', 'marital_status',\n",
       "       'policy', 'renew_offer_type', 'sales_channel', 'vehicle_class',\n",
       "       'vehicle_size', 'day', 'day_name', 'week', 'month',\n",
       "       'total_claim_amount'],\n",
       "      dtype='object')"
      ]
     },
     "execution_count": 56,
     "metadata": {},
     "output_type": "execute_result"
    }
   ],
   "source": [
    "final_df.columns"
   ]
  },
  {
   "cell_type": "code",
   "execution_count": 57,
   "id": "f3230da7",
   "metadata": {},
   "outputs": [
    {
     "data": {
      "text/plain": [
       "array(['Bachelor', 'College', 'Master', 'High School or Below', 'Doctor'],\n",
       "      dtype=object)"
      ]
     },
     "execution_count": 57,
     "metadata": {},
     "output_type": "execute_result"
    }
   ],
   "source": [
    "final_df['education'].unique()"
   ]
  },
  {
   "cell_type": "code",
   "execution_count": 58,
   "id": "815d46bf",
   "metadata": {},
   "outputs": [],
   "source": [
    "final_df['education'] = final_df['education'].where(~final_df['education'].isin(['Master', 'Doctor']), 'Graduate')"
   ]
  },
  {
   "cell_type": "code",
   "execution_count": 59,
   "id": "786d1904",
   "metadata": {},
   "outputs": [
    {
     "data": {
      "text/plain": [
       "array(['Bachelor', 'College', 'Graduate', 'High School or Below'],\n",
       "      dtype=object)"
      ]
     },
     "execution_count": 59,
     "metadata": {},
     "output_type": "execute_result"
    }
   ],
   "source": [
    "final_df['education'].unique()"
   ]
  },
  {
   "cell_type": "markdown",
   "id": "0cc5d0ed",
   "metadata": {},
   "source": [
    "19. Reduce the class imbalance of the employmentstatus column grouping together [\"Medical Leave\", \"Disabled\", \"Retired\"] into \"Inactive\" while keeping the other possible values as they are. In this way, you will reduce a bit the class imbalance at the price of losing a level of detail."
   ]
  },
  {
   "cell_type": "code",
   "execution_count": 60,
   "id": "0d51c0e1",
   "metadata": {},
   "outputs": [
    {
     "data": {
      "text/plain": [
       "array(['Employed', 'Unemployed', 'Medical Leave', 'Disabled', 'Retired'],\n",
       "      dtype=object)"
      ]
     },
     "execution_count": 60,
     "metadata": {},
     "output_type": "execute_result"
    }
   ],
   "source": [
    "final_df['employmentstatus'].unique()"
   ]
  },
  {
   "cell_type": "code",
   "execution_count": 61,
   "id": "816738bc",
   "metadata": {},
   "outputs": [],
   "source": [
    "final_df['employmentstatus'] = final_df['employmentstatus'].where(~final_df['employmentstatus'].isin([\"Medical Leave\", \"Disabled\", \"Retired\"]), 'Inactive')"
   ]
  },
  {
   "cell_type": "code",
   "execution_count": 62,
   "id": "498c6568",
   "metadata": {},
   "outputs": [
    {
     "data": {
      "text/plain": [
       "array(['Employed', 'Unemployed', 'Inactive'], dtype=object)"
      ]
     },
     "execution_count": 62,
     "metadata": {},
     "output_type": "execute_result"
    }
   ],
   "source": [
    "final_df['employmentstatus'].unique()"
   ]
  },
  {
   "cell_type": "markdown",
   "id": "11632923",
   "metadata": {},
   "source": [
    "20. Deal with column Gender turning the values into (1/0)."
   ]
  },
  {
   "cell_type": "code",
   "execution_count": 63,
   "id": "103a1b89",
   "metadata": {},
   "outputs": [
    {
     "data": {
      "text/plain": [
       "array(['F', 'M'], dtype=object)"
      ]
     },
     "execution_count": 63,
     "metadata": {},
     "output_type": "execute_result"
    }
   ],
   "source": [
    "final_df['gender'].unique()"
   ]
  },
  {
   "cell_type": "code",
   "execution_count": 64,
   "id": "27d89c4e",
   "metadata": {},
   "outputs": [],
   "source": [
    "final_df['gender'] = final_df['gender'].map({'F': 0, 'M': 1})"
   ]
  },
  {
   "cell_type": "code",
   "execution_count": 65,
   "id": "168b3e77",
   "metadata": {},
   "outputs": [
    {
     "data": {
      "text/plain": [
       "array([0, 1], dtype=int64)"
      ]
     },
     "execution_count": 65,
     "metadata": {},
     "output_type": "execute_result"
    }
   ],
   "source": [
    "final_df['gender'].unique()"
   ]
  },
  {
   "cell_type": "markdown",
   "id": "fe909eed",
   "metadata": {},
   "source": [
    "21. Now, deal with vehicle_class grouping together \"Sports Car\", \"Luxury SUV\", and \"Luxury Car\" into a common group called Luxury leaving the other values as they are. In this way, you will reduce a bit the class imbalance at the price of losing a level of detail."
   ]
  },
  {
   "cell_type": "code",
   "execution_count": 66,
   "id": "a6277510",
   "metadata": {},
   "outputs": [
    {
     "data": {
      "text/plain": [
       "array(['Two-Door Car', 'Four-Door Car', 'SUV', 'Sports Car', 'Luxury SUV',\n",
       "       'Luxury Car'], dtype=object)"
      ]
     },
     "execution_count": 66,
     "metadata": {},
     "output_type": "execute_result"
    }
   ],
   "source": [
    "final_df['vehicle_class'].unique()"
   ]
  },
  {
   "cell_type": "code",
   "execution_count": 67,
   "id": "b6226d20",
   "metadata": {},
   "outputs": [],
   "source": [
    "final_df['vehicle_class'] = final_df['vehicle_class'].where(~final_df['vehicle_class'].isin([\"Sports Car\", \"Luxury SUV\", \n",
    "                                                                                             \"Luxury Car\"]), 'Luxury')"
   ]
  },
  {
   "cell_type": "code",
   "execution_count": 68,
   "id": "4a98c691",
   "metadata": {},
   "outputs": [
    {
     "data": {
      "text/plain": [
       "array(['Two-Door Car', 'Four-Door Car', 'SUV', 'Luxury'], dtype=object)"
      ]
     },
     "execution_count": 68,
     "metadata": {},
     "output_type": "execute_result"
    }
   ],
   "source": [
    "final_df['vehicle_class'].unique()"
   ]
  },
  {
   "cell_type": "markdown",
   "id": "4cadccc1",
   "metadata": {},
   "source": [
    "22. Now it's time to deal with the categorical ordinal columns, assigning a numerical value to each unique value respecting the ìmplicit ordering`. Encode the coverage: \"Premium\" > \"Extended\" > \"Basic\""
   ]
  },
  {
   "cell_type": "code",
   "execution_count": 69,
   "id": "87a46f33",
   "metadata": {},
   "outputs": [
    {
     "data": {
      "text/plain": [
       "array(['Basic', 'Extended', 'Premium'], dtype=object)"
      ]
     },
     "execution_count": 69,
     "metadata": {},
     "output_type": "execute_result"
    }
   ],
   "source": [
    "final_df['coverage'].unique()"
   ]
  },
  {
   "cell_type": "code",
   "execution_count": 70,
   "id": "3ba6bb26",
   "metadata": {},
   "outputs": [],
   "source": [
    "coverage_mapping = {\"Premium\": 3, \"Extended\": 2, \"Basic\": 1}\n",
    "final_df[\"coverage\"] = final_df[\"coverage\"].map(coverage_mapping)"
   ]
  },
  {
   "cell_type": "code",
   "execution_count": 71,
   "id": "f1f68e67",
   "metadata": {},
   "outputs": [
    {
     "data": {
      "text/plain": [
       "array([1, 2, 3], dtype=int64)"
      ]
     },
     "execution_count": 71,
     "metadata": {},
     "output_type": "execute_result"
    }
   ],
   "source": [
    "final_df['coverage'].unique()"
   ]
  },
  {
   "cell_type": "markdown",
   "id": "ec04bc15",
   "metadata": {},
   "source": [
    "23. Encode the column employmentstatus as: \"Employed\" > \"Inactive\" > \"Unemployed\"."
   ]
  },
  {
   "cell_type": "code",
   "execution_count": 72,
   "id": "f0847a27",
   "metadata": {},
   "outputs": [
    {
     "data": {
      "text/plain": [
       "array(['Employed', 'Unemployed', 'Inactive'], dtype=object)"
      ]
     },
     "execution_count": 72,
     "metadata": {},
     "output_type": "execute_result"
    }
   ],
   "source": [
    "final_df['employmentstatus'].unique()"
   ]
  },
  {
   "cell_type": "code",
   "execution_count": 73,
   "id": "eb647f5d",
   "metadata": {},
   "outputs": [],
   "source": [
    "employment_mapping = {\"Employed\": 3, \"Inactive\": 2, \"Unemployed\": 1}\n",
    "final_df[\"employmentstatus\"] = final_df[\"employmentstatus\"].map(employment_mapping)"
   ]
  },
  {
   "cell_type": "code",
   "execution_count": 74,
   "id": "e7572947",
   "metadata": {},
   "outputs": [
    {
     "data": {
      "text/plain": [
       "array([3, 1, 2], dtype=int64)"
      ]
     },
     "execution_count": 74,
     "metadata": {},
     "output_type": "execute_result"
    }
   ],
   "source": [
    "final_df['employmentstatus'].unique()"
   ]
  },
  {
   "cell_type": "code",
   "execution_count": null,
   "id": "5ecaa1fa",
   "metadata": {},
   "outputs": [],
   "source": []
  },
  {
   "cell_type": "markdown",
   "id": "1626da4a",
   "metadata": {},
   "source": [
    "24. Encode the column location_code as: \"Urban\" > \"Suburban\" > \"Rural\"."
   ]
  },
  {
   "cell_type": "code",
   "execution_count": 75,
   "id": "37452bfa",
   "metadata": {},
   "outputs": [
    {
     "data": {
      "text/plain": [
       "array(['Suburban', 'Rural', 'Urban'], dtype=object)"
      ]
     },
     "execution_count": 75,
     "metadata": {},
     "output_type": "execute_result"
    }
   ],
   "source": [
    "final_df['location_code'].unique()"
   ]
  },
  {
   "cell_type": "code",
   "execution_count": 76,
   "id": "83dbf551",
   "metadata": {},
   "outputs": [],
   "source": [
    "location_mapping = {\"Urban\": 3, \"Suburban\": 2, \"Rural\": 1}\n",
    "final_df[\"location_code\"] = final_df[\"location_code\"].map(location_mapping)"
   ]
  },
  {
   "cell_type": "code",
   "execution_count": 77,
   "id": "c9a4dce9",
   "metadata": {},
   "outputs": [
    {
     "data": {
      "text/plain": [
       "array([2, 1, 3], dtype=int64)"
      ]
     },
     "execution_count": 77,
     "metadata": {},
     "output_type": "execute_result"
    }
   ],
   "source": [
    "final_df['location_code'].unique()"
   ]
  },
  {
   "cell_type": "code",
   "execution_count": null,
   "id": "bff3da9e",
   "metadata": {},
   "outputs": [],
   "source": []
  },
  {
   "cell_type": "markdown",
   "id": "0f6e2c0e",
   "metadata": {},
   "source": [
    "25. Encode the column vehicle_size as: \"Large\" > \"Medsize\" > \"Small\"."
   ]
  },
  {
   "cell_type": "code",
   "execution_count": 78,
   "id": "ac511943",
   "metadata": {},
   "outputs": [
    {
     "data": {
      "text/plain": [
       "array(['Medsize', 'Small', 'Large'], dtype=object)"
      ]
     },
     "execution_count": 78,
     "metadata": {},
     "output_type": "execute_result"
    }
   ],
   "source": [
    "final_df['vehicle_size'].unique()"
   ]
  },
  {
   "cell_type": "code",
   "execution_count": 79,
   "id": "8ff87feb",
   "metadata": {},
   "outputs": [],
   "source": [
    "vehicle_mapping = {\"Large\": 3, \"Medsize\": 2, \"Small\": 1}\n",
    "final_df[\"vehicle_size\"] = final_df[\"vehicle_size\"].map(vehicle_mapping)"
   ]
  },
  {
   "cell_type": "code",
   "execution_count": 80,
   "id": "49322d81",
   "metadata": {},
   "outputs": [
    {
     "data": {
      "text/plain": [
       "array([2, 1, 3], dtype=int64)"
      ]
     },
     "execution_count": 80,
     "metadata": {},
     "output_type": "execute_result"
    }
   ],
   "source": [
    "final_df['vehicle_size'].unique()"
   ]
  },
  {
   "cell_type": "code",
   "execution_count": null,
   "id": "1bba5470",
   "metadata": {},
   "outputs": [],
   "source": []
  },
  {
   "cell_type": "markdown",
   "id": "d5b39b03",
   "metadata": {},
   "source": [
    "26. Get a dataframe with the categorical nominal columns"
   ]
  },
  {
   "cell_type": "code",
   "execution_count": 81,
   "id": "ec5d8cfa",
   "metadata": {},
   "outputs": [],
   "source": [
    "cat_nominal_df = final_df.loc[:, final_df.dtypes == object]"
   ]
  },
  {
   "cell_type": "code",
   "execution_count": 82,
   "id": "eb99a246",
   "metadata": {},
   "outputs": [
    {
     "data": {
      "text/html": [
       "<div>\n",
       "<style scoped>\n",
       "    .dataframe tbody tr th:only-of-type {\n",
       "        vertical-align: middle;\n",
       "    }\n",
       "\n",
       "    .dataframe tbody tr th {\n",
       "        vertical-align: top;\n",
       "    }\n",
       "\n",
       "    .dataframe thead th {\n",
       "        text-align: right;\n",
       "    }\n",
       "</style>\n",
       "<table border=\"1\" class=\"dataframe\">\n",
       "  <thead>\n",
       "    <tr style=\"text-align: right;\">\n",
       "      <th></th>\n",
       "      <th>customer</th>\n",
       "      <th>state</th>\n",
       "      <th>education</th>\n",
       "      <th>marital_status</th>\n",
       "      <th>policy</th>\n",
       "      <th>renew_offer_type</th>\n",
       "      <th>sales_channel</th>\n",
       "      <th>vehicle_class</th>\n",
       "      <th>day_name</th>\n",
       "      <th>month</th>\n",
       "    </tr>\n",
       "  </thead>\n",
       "  <tbody>\n",
       "    <tr>\n",
       "      <th>0</th>\n",
       "      <td>BU79786</td>\n",
       "      <td>Washington</td>\n",
       "      <td>Bachelor</td>\n",
       "      <td>Married</td>\n",
       "      <td>L3</td>\n",
       "      <td>Offer1</td>\n",
       "      <td>Agent</td>\n",
       "      <td>Two-Door Car</td>\n",
       "      <td>Thursday</td>\n",
       "      <td>February</td>\n",
       "    </tr>\n",
       "    <tr>\n",
       "      <th>1</th>\n",
       "      <td>QZ44356</td>\n",
       "      <td>Arizona</td>\n",
       "      <td>Bachelor</td>\n",
       "      <td>Single</td>\n",
       "      <td>L3</td>\n",
       "      <td>Offer3</td>\n",
       "      <td>Agent</td>\n",
       "      <td>Four-Door Car</td>\n",
       "      <td>Monday</td>\n",
       "      <td>January</td>\n",
       "    </tr>\n",
       "    <tr>\n",
       "      <th>2</th>\n",
       "      <td>AI49188</td>\n",
       "      <td>Nevada</td>\n",
       "      <td>Bachelor</td>\n",
       "      <td>Married</td>\n",
       "      <td>L3</td>\n",
       "      <td>Offer1</td>\n",
       "      <td>Agent</td>\n",
       "      <td>Two-Door Car</td>\n",
       "      <td>Saturday</td>\n",
       "      <td>February</td>\n",
       "    </tr>\n",
       "    <tr>\n",
       "      <th>3</th>\n",
       "      <td>WW63253</td>\n",
       "      <td>California</td>\n",
       "      <td>Bachelor</td>\n",
       "      <td>Married</td>\n",
       "      <td>L2</td>\n",
       "      <td>Offer1</td>\n",
       "      <td>Call Center</td>\n",
       "      <td>SUV</td>\n",
       "      <td>Thursday</td>\n",
       "      <td>January</td>\n",
       "    </tr>\n",
       "    <tr>\n",
       "      <th>4</th>\n",
       "      <td>HB64268</td>\n",
       "      <td>Washington</td>\n",
       "      <td>Bachelor</td>\n",
       "      <td>Single</td>\n",
       "      <td>L1</td>\n",
       "      <td>Offer1</td>\n",
       "      <td>Agent</td>\n",
       "      <td>Four-Door Car</td>\n",
       "      <td>Thursday</td>\n",
       "      <td>February</td>\n",
       "    </tr>\n",
       "    <tr>\n",
       "      <th>...</th>\n",
       "      <td>...</td>\n",
       "      <td>...</td>\n",
       "      <td>...</td>\n",
       "      <td>...</td>\n",
       "      <td>...</td>\n",
       "      <td>...</td>\n",
       "      <td>...</td>\n",
       "      <td>...</td>\n",
       "      <td>...</td>\n",
       "      <td>...</td>\n",
       "    </tr>\n",
       "    <tr>\n",
       "      <th>8570</th>\n",
       "      <td>LA72316</td>\n",
       "      <td>California</td>\n",
       "      <td>Bachelor</td>\n",
       "      <td>Married</td>\n",
       "      <td>L1</td>\n",
       "      <td>Offer2</td>\n",
       "      <td>Web</td>\n",
       "      <td>Four-Door Car</td>\n",
       "      <td>Thursday</td>\n",
       "      <td>February</td>\n",
       "    </tr>\n",
       "    <tr>\n",
       "      <th>8571</th>\n",
       "      <td>PK87824</td>\n",
       "      <td>California</td>\n",
       "      <td>College</td>\n",
       "      <td>Divorced</td>\n",
       "      <td>L3</td>\n",
       "      <td>Offer1</td>\n",
       "      <td>Branch</td>\n",
       "      <td>Four-Door Car</td>\n",
       "      <td>Saturday</td>\n",
       "      <td>February</td>\n",
       "    </tr>\n",
       "    <tr>\n",
       "      <th>8572</th>\n",
       "      <td>TD14365</td>\n",
       "      <td>California</td>\n",
       "      <td>Bachelor</td>\n",
       "      <td>Single</td>\n",
       "      <td>L2</td>\n",
       "      <td>Offer1</td>\n",
       "      <td>Branch</td>\n",
       "      <td>Four-Door Car</td>\n",
       "      <td>Sunday</td>\n",
       "      <td>February</td>\n",
       "    </tr>\n",
       "    <tr>\n",
       "      <th>8573</th>\n",
       "      <td>UP19263</td>\n",
       "      <td>California</td>\n",
       "      <td>College</td>\n",
       "      <td>Married</td>\n",
       "      <td>L2</td>\n",
       "      <td>Offer3</td>\n",
       "      <td>Branch</td>\n",
       "      <td>Four-Door Car</td>\n",
       "      <td>Thursday</td>\n",
       "      <td>February</td>\n",
       "    </tr>\n",
       "    <tr>\n",
       "      <th>8574</th>\n",
       "      <td>Y167826</td>\n",
       "      <td>California</td>\n",
       "      <td>College</td>\n",
       "      <td>Single</td>\n",
       "      <td>L3</td>\n",
       "      <td>Offer4</td>\n",
       "      <td>Call Center</td>\n",
       "      <td>Two-Door Car</td>\n",
       "      <td>Monday</td>\n",
       "      <td>February</td>\n",
       "    </tr>\n",
       "  </tbody>\n",
       "</table>\n",
       "<p>8575 rows × 10 columns</p>\n",
       "</div>"
      ],
      "text/plain": [
       "     customer       state education marital_status policy renew_offer_type  \\\n",
       "0     BU79786  Washington  Bachelor        Married     L3           Offer1   \n",
       "1     QZ44356     Arizona  Bachelor         Single     L3           Offer3   \n",
       "2     AI49188      Nevada  Bachelor        Married     L3           Offer1   \n",
       "3     WW63253  California  Bachelor        Married     L2           Offer1   \n",
       "4     HB64268  Washington  Bachelor         Single     L1           Offer1   \n",
       "...       ...         ...       ...            ...    ...              ...   \n",
       "8570  LA72316  California  Bachelor        Married     L1           Offer2   \n",
       "8571  PK87824  California   College       Divorced     L3           Offer1   \n",
       "8572  TD14365  California  Bachelor         Single     L2           Offer1   \n",
       "8573  UP19263  California   College        Married     L2           Offer3   \n",
       "8574  Y167826  California   College         Single     L3           Offer4   \n",
       "\n",
       "     sales_channel  vehicle_class  day_name     month  \n",
       "0            Agent   Two-Door Car  Thursday  February  \n",
       "1            Agent  Four-Door Car    Monday   January  \n",
       "2            Agent   Two-Door Car  Saturday  February  \n",
       "3      Call Center            SUV  Thursday   January  \n",
       "4            Agent  Four-Door Car  Thursday  February  \n",
       "...            ...            ...       ...       ...  \n",
       "8570           Web  Four-Door Car  Thursday  February  \n",
       "8571        Branch  Four-Door Car  Saturday  February  \n",
       "8572        Branch  Four-Door Car    Sunday  February  \n",
       "8573        Branch  Four-Door Car  Thursday  February  \n",
       "8574   Call Center   Two-Door Car    Monday  February  \n",
       "\n",
       "[8575 rows x 10 columns]"
      ]
     },
     "execution_count": 82,
     "metadata": {},
     "output_type": "execute_result"
    }
   ],
   "source": [
    "cat_nominal_df"
   ]
  },
  {
   "cell_type": "markdown",
   "id": "be169a77",
   "metadata": {},
   "source": [
    "27.     Create a list of named levels which that has as many elements as categorical nominal columns. Each element must be another list with all the possible unique values of the corresponding categorical nominal column: ie:\n",
    "\n",
    "levels = [ [col1_value1, col1_value2,...], [col2_value1, col2_value2,...], ...]"
   ]
  },
  {
   "cell_type": "code",
   "execution_count": 83,
   "id": "2523e348",
   "metadata": {},
   "outputs": [],
   "source": [
    "levels = {}\n",
    "for col in cat_nominal_df.columns:\n",
    "    levels[col]=(cat_nominal_df[col].unique().tolist())"
   ]
  },
  {
   "cell_type": "code",
   "execution_count": 84,
   "id": "bfd8654e",
   "metadata": {},
   "outputs": [
    {
     "data": {
      "text/plain": [
       "{'customer': ['BU79786',\n",
       "  'QZ44356',\n",
       "  'AI49188',\n",
       "  'WW63253',\n",
       "  'HB64268',\n",
       "  'OC83172',\n",
       "  'XZ87318',\n",
       "  'CF85061',\n",
       "  'DY87989',\n",
       "  'BQ94931',\n",
       "  'SX51350',\n",
       "  'VQ65197',\n",
       "  'DP39365',\n",
       "  'SJ95423',\n",
       "  'IL66569',\n",
       "  'BW63560',\n",
       "  'FV94802',\n",
       "  'OE15005',\n",
       "  'WC83389',\n",
       "  'FL50705',\n",
       "  'ZK25313',\n",
       "  'SV62436',\n",
       "  'YH23384',\n",
       "  'TZ98966',\n",
       "  'HM55802',\n",
       "  'FS42516',\n",
       "  'US89481',\n",
       "  'HO30839',\n",
       "  'GE62437',\n",
       "  'EJ77678',\n",
       "  'SV85652',\n",
       "  'PF41800',\n",
       "  'AO98601',\n",
       "  'SK67821',\n",
       "  'YV55495',\n",
       "  'KY38074',\n",
       "  'DM79012',\n",
       "  'CM61827',\n",
       "  'WC35801',\n",
       "  'QG25316',\n",
       "  'MB98372',\n",
       "  'IL19217',\n",
       "  'SR38658',\n",
       "  'DH41343',\n",
       "  'HG65722',\n",
       "  'BU27331',\n",
       "  'XM45289',\n",
       "  'KP34198',\n",
       "  'SH90947',\n",
       "  'RB69909',\n",
       "  'XR95069',\n",
       "  'FR46645',\n",
       "  'SY17488',\n",
       "  'AP67935',\n",
       "  'FS37417',\n",
       "  'ML29312',\n",
       "  'UB61619',\n",
       "  'CD86811',\n",
       "  'RU83859',\n",
       "  'FG63582',\n",
       "  'NN71951',\n",
       "  'WB37082',\n",
       "  'SM52139',\n",
       "  'FL82372',\n",
       "  'DP45816',\n",
       "  'GW33762',\n",
       "  'RZ33670',\n",
       "  'PY70169',\n",
       "  'MO91628',\n",
       "  'HW87852',\n",
       "  'HB20453',\n",
       "  'BN87372',\n",
       "  'YX23800',\n",
       "  'DZ87709',\n",
       "  'XW13033',\n",
       "  'LN31673',\n",
       "  'ZU35962',\n",
       "  'VH85817',\n",
       "  'DT85712',\n",
       "  'YJ88573',\n",
       "  'SQ19467',\n",
       "  'HF88410',\n",
       "  'ET79815',\n",
       "  'QC35222',\n",
       "  'CJ15590',\n",
       "  'OI48267',\n",
       "  'JY67916',\n",
       "  'OE75231',\n",
       "  'CZ33664',\n",
       "  'WK30175',\n",
       "  'ON44465',\n",
       "  'TV87155',\n",
       "  'KH48895',\n",
       "  'NZ30757',\n",
       "  'RI22468',\n",
       "  'FZ30935',\n",
       "  'UG93476',\n",
       "  'AB96670',\n",
       "  'XK64261',\n",
       "  'EV68375',\n",
       "  'UN51653',\n",
       "  'TO96662',\n",
       "  'MR52087',\n",
       "  'DE75225',\n",
       "  'EP80820',\n",
       "  'GU99037',\n",
       "  'WI57118',\n",
       "  'YQ74870',\n",
       "  'MQ14219',\n",
       "  'KN20603',\n",
       "  'CR48975',\n",
       "  'JI70886',\n",
       "  'VF72557',\n",
       "  'OX28638',\n",
       "  'SK55033',\n",
       "  'OO88645',\n",
       "  'YT36855',\n",
       "  'CW82151',\n",
       "  'DY22043',\n",
       "  'SH36774',\n",
       "  'EM43724',\n",
       "  'XA55993',\n",
       "  'GO36627',\n",
       "  'QH48047',\n",
       "  'RB50392',\n",
       "  'UH65059',\n",
       "  'FV21968',\n",
       "  'QA87025',\n",
       "  'TQ13499',\n",
       "  'BU44523',\n",
       "  'MS41162',\n",
       "  'PU25891',\n",
       "  'RB81636',\n",
       "  'SX26335',\n",
       "  'AZ95587',\n",
       "  'DS81757',\n",
       "  'OJ94107',\n",
       "  'LP84436',\n",
       "  'YV64727',\n",
       "  'LM19287',\n",
       "  'ZU18643',\n",
       "  'AZ82578',\n",
       "  'XC67861',\n",
       "  'YC43143',\n",
       "  'EK59571',\n",
       "  'GD83998',\n",
       "  'WA25797',\n",
       "  'PD27940',\n",
       "  'BS77946',\n",
       "  'YM50253',\n",
       "  'NR15332',\n",
       "  'RC62865',\n",
       "  'CC15295',\n",
       "  'KA61892',\n",
       "  'OS94884',\n",
       "  'ND87334',\n",
       "  'ML93326',\n",
       "  'YL74911',\n",
       "  'JP69864',\n",
       "  'HL53154',\n",
       "  'RI78966',\n",
       "  'IC13702',\n",
       "  'BE10809',\n",
       "  'HT87217',\n",
       "  'TH95618',\n",
       "  'TS19868',\n",
       "  'LP45550',\n",
       "  'QR87004',\n",
       "  'OE75747',\n",
       "  'DX91392',\n",
       "  'AB72731',\n",
       "  'RU49126',\n",
       "  'IS12901',\n",
       "  'IX37561',\n",
       "  'HH90090',\n",
       "  'IU25463',\n",
       "  'PD33979',\n",
       "  'NK71023',\n",
       "  'AB13432',\n",
       "  'OZ97704',\n",
       "  'UF46533',\n",
       "  'XP47431',\n",
       "  'GK73582',\n",
       "  'RV98763',\n",
       "  'II62831',\n",
       "  'XK33449',\n",
       "  'TR85083',\n",
       "  'EO95328',\n",
       "  'EN21086',\n",
       "  'YL83902',\n",
       "  'ZW25874',\n",
       "  'EH41854',\n",
       "  'MW70227',\n",
       "  'SL22297',\n",
       "  'RV14138',\n",
       "  'UO62808',\n",
       "  'ZX64745',\n",
       "  'FL34139',\n",
       "  'XX12304',\n",
       "  'SD64087',\n",
       "  'OY38576',\n",
       "  'BG76355',\n",
       "  'IP66913',\n",
       "  'LE95702',\n",
       "  'KX54357',\n",
       "  'EZ78112',\n",
       "  'XN16891',\n",
       "  'XK31350',\n",
       "  'CC30924',\n",
       "  'IT78748',\n",
       "  'KY33386',\n",
       "  'CO44221',\n",
       "  'LK60013',\n",
       "  'DE21533',\n",
       "  'YS94121',\n",
       "  'UK68427',\n",
       "  'TE49565',\n",
       "  'RA88421',\n",
       "  'KQ51983',\n",
       "  'CD88896',\n",
       "  'YV22553',\n",
       "  'WU14435',\n",
       "  'XV84099',\n",
       "  'RI24911',\n",
       "  'HI14283',\n",
       "  'PT50227',\n",
       "  'BH36570',\n",
       "  'TX17484',\n",
       "  'CT41158',\n",
       "  'AO87348',\n",
       "  'DE55857',\n",
       "  'LF66923',\n",
       "  'CN24514',\n",
       "  'UW32074',\n",
       "  'HP36979',\n",
       "  'PP40919',\n",
       "  'RO73268',\n",
       "  'HO61691',\n",
       "  'BS13062',\n",
       "  'HR10526',\n",
       "  'IA63417',\n",
       "  'BH35016',\n",
       "  'PK52952',\n",
       "  'OD76309',\n",
       "  'IL28481',\n",
       "  'GY55092',\n",
       "  'UF33451',\n",
       "  'CF15558',\n",
       "  'JM62924',\n",
       "  'EM66435',\n",
       "  'QX45933',\n",
       "  'JI71369',\n",
       "  'JU93290',\n",
       "  'GU66096',\n",
       "  'UC33108',\n",
       "  'LW93867',\n",
       "  'XW90265',\n",
       "  'HS67749',\n",
       "  'VZ51506',\n",
       "  'UI64281',\n",
       "  'AE98193',\n",
       "  'AZ74055',\n",
       "  'XS76911',\n",
       "  'AY40674',\n",
       "  'NA12740',\n",
       "  'UA84837',\n",
       "  'DJ51510',\n",
       "  'VM58985',\n",
       "  'OH60605',\n",
       "  'UO98052',\n",
       "  'NC53424',\n",
       "  'LQ13873',\n",
       "  'LA97014',\n",
       "  'NB79936',\n",
       "  'NT89061',\n",
       "  'AF10970',\n",
       "  'ZG48513',\n",
       "  'JQ59145',\n",
       "  'FE84989',\n",
       "  'JT52858',\n",
       "  'MC62068',\n",
       "  'RH42306',\n",
       "  'US23612',\n",
       "  'WV76014',\n",
       "  'RK96223',\n",
       "  'MF82000',\n",
       "  'FM46980',\n",
       "  'SY56792',\n",
       "  'RF61565',\n",
       "  'IM94808',\n",
       "  'VI14730',\n",
       "  'RR77985',\n",
       "  'VC22097',\n",
       "  'WV17090',\n",
       "  'TM23514',\n",
       "  'MQ68407',\n",
       "  'GJ59592',\n",
       "  'FY56083',\n",
       "  'UA94723',\n",
       "  'FW91032',\n",
       "  'DE34457',\n",
       "  'HD32044',\n",
       "  'AH84063',\n",
       "  'QA17596',\n",
       "  'XI41052',\n",
       "  'DI30528',\n",
       "  'SC66359',\n",
       "  'EN61670',\n",
       "  'DQ10761',\n",
       "  'BQ51587',\n",
       "  'JE21522',\n",
       "  'WS47147',\n",
       "  'ZA64638',\n",
       "  'EW38459',\n",
       "  'QW87316',\n",
       "  'IC43478',\n",
       "  'TE34064',\n",
       "  'WU60905',\n",
       "  'YM18992',\n",
       "  'PD55753',\n",
       "  'KU56006',\n",
       "  'MJ69973',\n",
       "  'TW43626',\n",
       "  'XX84133',\n",
       "  'ZW84453',\n",
       "  'HO29524',\n",
       "  'VE89726',\n",
       "  'GE87503',\n",
       "  'PX90263',\n",
       "  'NI17718',\n",
       "  'FY32213',\n",
       "  'RZ13254',\n",
       "  'GN45013',\n",
       "  'UB16654',\n",
       "  'KU84464',\n",
       "  'YH43527',\n",
       "  'RO30676',\n",
       "  'QL59704',\n",
       "  'QH19450',\n",
       "  'HR85211',\n",
       "  'UV54502',\n",
       "  'WB38524',\n",
       "  'CE56187',\n",
       "  'JL19416',\n",
       "  'JZ61422',\n",
       "  'LA13377',\n",
       "  'NC99948',\n",
       "  'QD34785',\n",
       "  'ES57969',\n",
       "  'JK55587',\n",
       "  'RN97635',\n",
       "  'BI76326',\n",
       "  'JA34909',\n",
       "  'OJ90342',\n",
       "  'CM88932',\n",
       "  'JJ97525',\n",
       "  'XV21647',\n",
       "  'MC83487',\n",
       "  'CR57148',\n",
       "  'YL74732',\n",
       "  'FG16766',\n",
       "  'NV55438',\n",
       "  'RM10880',\n",
       "  'GL56175',\n",
       "  'UK52289',\n",
       "  'LL45497',\n",
       "  'BC62782',\n",
       "  'YM57893',\n",
       "  'RA66180',\n",
       "  'EN60878',\n",
       "  'JF36291',\n",
       "  'BK59444',\n",
       "  'MK70700',\n",
       "  'IW71076',\n",
       "  'AP98768',\n",
       "  'OM24164',\n",
       "  'QP84605',\n",
       "  'VC87846',\n",
       "  'ZM92052',\n",
       "  'ON73702',\n",
       "  'QQ90441',\n",
       "  'HU35721',\n",
       "  'XH85336',\n",
       "  'ZH17561',\n",
       "  'AG85615',\n",
       "  'OY74069',\n",
       "  'KB72438',\n",
       "  'TR67616',\n",
       "  'DP84567',\n",
       "  'VV77534',\n",
       "  'GL67540',\n",
       "  'SV50502',\n",
       "  'UK59698',\n",
       "  'OA57352',\n",
       "  'ZF84449',\n",
       "  'VH31965',\n",
       "  'HG39060',\n",
       "  'SF57173',\n",
       "  'OT47603',\n",
       "  'SW31412',\n",
       "  'JS36322',\n",
       "  'RE81445',\n",
       "  'RM24280',\n",
       "  'UX38930',\n",
       "  'HD95496',\n",
       "  'RX24650',\n",
       "  'DW19309',\n",
       "  'EG48956',\n",
       "  'UF88986',\n",
       "  'DB42794',\n",
       "  'JB50798',\n",
       "  'JY45873',\n",
       "  'CM55703',\n",
       "  'QN65180',\n",
       "  'GE47180',\n",
       "  'VQ38776',\n",
       "  'ZY90118',\n",
       "  'IN17648',\n",
       "  'DF95759',\n",
       "  'QG45324',\n",
       "  'MN61620',\n",
       "  'YH86390',\n",
       "  'FY13480',\n",
       "  'YH61661',\n",
       "  'NL93182',\n",
       "  'UM45563',\n",
       "  'WE68644',\n",
       "  'EZ30498',\n",
       "  'QY74517',\n",
       "  'NM88660',\n",
       "  'MZ82036',\n",
       "  'ID20929',\n",
       "  'EY50028',\n",
       "  'TT82373',\n",
       "  'OH64088',\n",
       "  'SK97780',\n",
       "  'IO33050',\n",
       "  'XA55917',\n",
       "  'JK32620',\n",
       "  'RQ19236',\n",
       "  'QC47433',\n",
       "  'RA93608',\n",
       "  'XH97711',\n",
       "  'AU96286',\n",
       "  'KC17170',\n",
       "  'ZN47335',\n",
       "  'EI46264',\n",
       "  'EK87864',\n",
       "  'GV45403',\n",
       "  'QK31192',\n",
       "  'LU89008',\n",
       "  'NS10490',\n",
       "  'KL98495',\n",
       "  'IU96845',\n",
       "  'QL93655',\n",
       "  'QZ42725',\n",
       "  'LZ34046',\n",
       "  'ZH19885',\n",
       "  'YE88490',\n",
       "  'YC80498',\n",
       "  'AI85843',\n",
       "  'XD66024',\n",
       "  'FY51713',\n",
       "  'PH26378',\n",
       "  'WQ18638',\n",
       "  'KY14688',\n",
       "  'TC97762',\n",
       "  'QC87108',\n",
       "  'CX12134',\n",
       "  'SM73248',\n",
       "  'CK19789',\n",
       "  'UV12583',\n",
       "  'KA89683',\n",
       "  'BG85305',\n",
       "  'UQ87917',\n",
       "  'XN11823',\n",
       "  'OS46571',\n",
       "  'RP19541',\n",
       "  'ZR25747',\n",
       "  'NQ86532',\n",
       "  'JY27336',\n",
       "  'PB54378',\n",
       "  'SV38190',\n",
       "  'CV24005',\n",
       "  'CF57022',\n",
       "  'BX94438',\n",
       "  'RM41745',\n",
       "  'XR70252',\n",
       "  'YH92099',\n",
       "  'SG81493',\n",
       "  'ZX23819',\n",
       "  'CU26127',\n",
       "  'YH60476',\n",
       "  'GE82737',\n",
       "  'KY21873',\n",
       "  'UA51318',\n",
       "  'BV55014',\n",
       "  'HX21307',\n",
       "  'LQ68252',\n",
       "  'CR92802',\n",
       "  'SL35268',\n",
       "  'RD62882',\n",
       "  'JS42382',\n",
       "  'BT30554',\n",
       "  'VP57424',\n",
       "  'VU19243',\n",
       "  'TA82973',\n",
       "  'GK71720',\n",
       "  'OQ61223',\n",
       "  'LL62746',\n",
       "  'JQ56711',\n",
       "  'HF75891',\n",
       "  'MY97912',\n",
       "  'IB87349',\n",
       "  'AW73065',\n",
       "  'HI74419',\n",
       "  'PX70175',\n",
       "  'KF75098',\n",
       "  'IS50283',\n",
       "  'MY64920',\n",
       "  'KN34250',\n",
       "  'GN46207',\n",
       "  'KL57176',\n",
       "  'MN94234',\n",
       "  'JY90595',\n",
       "  'HK26543',\n",
       "  'PN86062',\n",
       "  'VW27730',\n",
       "  'SH55671',\n",
       "  'MO56878',\n",
       "  'QP80741',\n",
       "  'SV35618',\n",
       "  'RX12347',\n",
       "  'FR55658',\n",
       "  'XS12556',\n",
       "  'ZU73588',\n",
       "  'WT43034',\n",
       "  'VM13430',\n",
       "  'TC78849',\n",
       "  'VC34764',\n",
       "  'WO90953',\n",
       "  'IU47468',\n",
       "  'KO46064',\n",
       "  'RB34917',\n",
       "  'BI38192',\n",
       "  'PU18983',\n",
       "  'SW79912',\n",
       "  'ES39217',\n",
       "  'OY51402',\n",
       "  'UA19178',\n",
       "  'RJ85627',\n",
       "  'CN90378',\n",
       "  'KI56154',\n",
       "  'UI55951',\n",
       "  'FF28650',\n",
       "  'FS55302',\n",
       "  'TN79487',\n",
       "  'HG32616',\n",
       "  'UK41984',\n",
       "  'LZ52266',\n",
       "  'PM27367',\n",
       "  'ZK21724',\n",
       "  'QV59143',\n",
       "  'QE22757',\n",
       "  'ON77649',\n",
       "  'RN82884',\n",
       "  'CQ75652',\n",
       "  'FF58467',\n",
       "  'BS83666',\n",
       "  'WO29605',\n",
       "  'TL77607',\n",
       "  'EZ50606',\n",
       "  'OS39723',\n",
       "  'FN69743',\n",
       "  'TU92578',\n",
       "  'IJ50779',\n",
       "  'OB96537',\n",
       "  'EU68825',\n",
       "  'CC31456',\n",
       "  'DJ77787',\n",
       "  'LN26837',\n",
       "  'YI92916',\n",
       "  'NW54906',\n",
       "  'ME77513',\n",
       "  'UK76891',\n",
       "  'SI26888',\n",
       "  'YD74948',\n",
       "  'CA86085',\n",
       "  'BW52697',\n",
       "  'NL41409',\n",
       "  'OD69005',\n",
       "  'ZZ91716',\n",
       "  'QT25383',\n",
       "  'AW18068',\n",
       "  'NS45347',\n",
       "  'FV19421',\n",
       "  'XW89091',\n",
       "  'YC11951',\n",
       "  'RA49085',\n",
       "  'BG84194',\n",
       "  'GM62071',\n",
       "  'MR67738',\n",
       "  'DM95829',\n",
       "  'DB75522',\n",
       "  'RZ27571',\n",
       "  'WW30771',\n",
       "  'QP65569',\n",
       "  'TN50051',\n",
       "  'GT62080',\n",
       "  'JA41698',\n",
       "  'NX18774',\n",
       "  'DA69469',\n",
       "  'CN23147',\n",
       "  'RA68844',\n",
       "  'GH42026',\n",
       "  'BD16530',\n",
       "  'JH91579',\n",
       "  'WK23685',\n",
       "  'ZJ18419',\n",
       "  'PI78084',\n",
       "  'ZF40671',\n",
       "  'UG34438',\n",
       "  'UK25655',\n",
       "  'QR45101',\n",
       "  'EL93539',\n",
       "  'DG80424',\n",
       "  'DP46882',\n",
       "  'WP41146',\n",
       "  'TK60799',\n",
       "  'DN29808',\n",
       "  'SS59521',\n",
       "  'NG66579',\n",
       "  'TC14209',\n",
       "  'ED50963',\n",
       "  'GP40701',\n",
       "  'CP98451',\n",
       "  'NX52648',\n",
       "  'NG27780',\n",
       "  'HN95240',\n",
       "  'EB59129',\n",
       "  'RA70851',\n",
       "  'PM19162',\n",
       "  'MS59005',\n",
       "  'SU71163',\n",
       "  'NI44621',\n",
       "  'EW33419',\n",
       "  'HX44948',\n",
       "  'DL36983',\n",
       "  'XR87264',\n",
       "  'NN99001',\n",
       "  'XV95530',\n",
       "  'OL97871',\n",
       "  'HQ23708',\n",
       "  'WR63188',\n",
       "  'NG82219',\n",
       "  'GB33195',\n",
       "  'RE46783',\n",
       "  'RU94434',\n",
       "  'GI82355',\n",
       "  'VO26340',\n",
       "  'NV61299',\n",
       "  'PT64580',\n",
       "  'CY50337',\n",
       "  'TJ20375',\n",
       "  'EP72155',\n",
       "  'JJ76159',\n",
       "  'BG15419',\n",
       "  'AO74776',\n",
       "  'HQ82233',\n",
       "  'OL72737',\n",
       "  'ZQ59828',\n",
       "  'NZ15548',\n",
       "  'XK61304',\n",
       "  'EJ44139',\n",
       "  'CM94425',\n",
       "  'OV54878',\n",
       "  'JF57282',\n",
       "  'MY37953',\n",
       "  'XP64922',\n",
       "  'WL65572',\n",
       "  'LN50325',\n",
       "  'MP53505',\n",
       "  'KH59823',\n",
       "  'YM79169',\n",
       "  'DR38127',\n",
       "  'PU42145',\n",
       "  'KM33477',\n",
       "  'RI53167',\n",
       "  'OF77789',\n",
       "  'YB33445',\n",
       "  'BA17836',\n",
       "  'JS43228',\n",
       "  'BB11622',\n",
       "  'UG79499',\n",
       "  'WK88044',\n",
       "  'LA80525',\n",
       "  'EH16250',\n",
       "  'PU41872',\n",
       "  'HB85743',\n",
       "  'MM71959',\n",
       "  'MB83663',\n",
       "  'KR43119',\n",
       "  'KH24214',\n",
       "  'HD95276',\n",
       "  'HP55391',\n",
       "  'EG62398',\n",
       "  'VS19949',\n",
       "  'AM92343',\n",
       "  'GI68556',\n",
       "  'JT11876',\n",
       "  'XR64251',\n",
       "  'MK34957',\n",
       "  'GP18756',\n",
       "  'AP23850',\n",
       "  'KQ65521',\n",
       "  'EJ19449',\n",
       "  'QB70027',\n",
       "  'KH64733',\n",
       "  'HP94242',\n",
       "  'RV15398',\n",
       "  'PW73754',\n",
       "  'MC71942',\n",
       "  'OX72195',\n",
       "  'YQ99152',\n",
       "  'KI19439',\n",
       "  'PM76175',\n",
       "  'US45383',\n",
       "  'GT38956',\n",
       "  'SN41301',\n",
       "  'BE62503',\n",
       "  'PA16884',\n",
       "  'NC58480',\n",
       "  'NS39326',\n",
       "  'PN18507',\n",
       "  'JY16280',\n",
       "  'ZW71731',\n",
       "  'ZC24631',\n",
       "  'YR34689',\n",
       "  'RT65829',\n",
       "  'BZ12077',\n",
       "  'WM65373',\n",
       "  'NH35059',\n",
       "  'QD38160',\n",
       "  'BM15160',\n",
       "  'VY79030',\n",
       "  'EV19512',\n",
       "  'TE13577',\n",
       "  'WY97929',\n",
       "  'YG20683',\n",
       "  'FK75497',\n",
       "  'NE60110',\n",
       "  'TN36521',\n",
       "  'HG33568',\n",
       "  'TW17878',\n",
       "  'ZO83562',\n",
       "  'CH97539',\n",
       "  'CV29889',\n",
       "  'MO33320',\n",
       "  'QZ81258',\n",
       "  'NY56352',\n",
       "  'EA27048',\n",
       "  'UT38865',\n",
       "  'QC89139',\n",
       "  'LA14484',\n",
       "  'HN57556',\n",
       "  'CV31235',\n",
       "  'WR45726',\n",
       "  'LB25094',\n",
       "  'XO36233',\n",
       "  'ZX86243',\n",
       "  'DW29763',\n",
       "  'CT83377',\n",
       "  'OQ90898',\n",
       "  'GO77248',\n",
       "  'OU79745',\n",
       "  'VZ79886',\n",
       "  'YG85980',\n",
       "  'QM74621',\n",
       "  'EI71732',\n",
       "  'VN79010',\n",
       "  'FI61723',\n",
       "  'OH55411',\n",
       "  'TF10720',\n",
       "  'NW30838',\n",
       "  'CB58476',\n",
       "  'WI69346',\n",
       "  'FS76657',\n",
       "  'PK28821',\n",
       "  'MB51200',\n",
       "  'XG44587',\n",
       "  'OM99303',\n",
       "  'RV67546',\n",
       "  'UJ79253',\n",
       "  'IB67546',\n",
       "  'OE19087',\n",
       "  'CM95716',\n",
       "  'MW62634',\n",
       "  'QW67581',\n",
       "  'SN16059',\n",
       "  'OE51254',\n",
       "  'RM42344',\n",
       "  'GB35238',\n",
       "  'ML82674',\n",
       "  'EI85244',\n",
       "  'DE28132',\n",
       "  'TV25678',\n",
       "  'TY26512',\n",
       "  'OB69153',\n",
       "  'XN41715',\n",
       "  'QR15857',\n",
       "  'FL69363',\n",
       "  'IS30295',\n",
       "  'GR62267',\n",
       "  'NL59519',\n",
       "  'ZU93025',\n",
       "  'DK94262',\n",
       "  'UQ30615',\n",
       "  'OR40060',\n",
       "  'DK32872',\n",
       "  'FA46418',\n",
       "  'ST96866',\n",
       "  'KI75855',\n",
       "  'ND41876',\n",
       "  'PN21042',\n",
       "  'FF22360',\n",
       "  'AL46984',\n",
       "  'JP58047',\n",
       "  'ZE85014',\n",
       "  'KU88219',\n",
       "  'UU98729',\n",
       "  'WS82822',\n",
       "  'YB49933',\n",
       "  'XC16387',\n",
       "  'XJ96748',\n",
       "  'TM98684',\n",
       "  'NM39588',\n",
       "  'DM74502',\n",
       "  'FT56968',\n",
       "  'OX36896',\n",
       "  'LN34660',\n",
       "  'JC29295',\n",
       "  'XT36360',\n",
       "  'IX35050',\n",
       "  'UN97379',\n",
       "  'MR57294',\n",
       "  'LK74984',\n",
       "  'DX31066',\n",
       "  'GL20444',\n",
       "  'SP58110',\n",
       "  'XM91635',\n",
       "  'TV82603',\n",
       "  'BB82067',\n",
       "  'JP94676',\n",
       "  'VU53417',\n",
       "  'IW54795',\n",
       "  'RN78170',\n",
       "  'IX55883',\n",
       "  'XM72420',\n",
       "  'GC15104',\n",
       "  'RX13282',\n",
       "  'QA85890',\n",
       "  'IR62668',\n",
       "  'AL96740',\n",
       "  'VO78441',\n",
       "  'JH62891',\n",
       "  'FI20423',\n",
       "  'XF57481',\n",
       "  'YV67971',\n",
       "  'QD31377',\n",
       "  'YG10247',\n",
       "  'FE73696',\n",
       "  'SW19699',\n",
       "  'QJ40732',\n",
       "  'HM76207',\n",
       "  'PU41393',\n",
       "  'QO86948',\n",
       "  'QN10888',\n",
       "  'VY19543',\n",
       "  'XC15133',\n",
       "  'ST43550',\n",
       "  'YT69858',\n",
       "  'JX68983',\n",
       "  'HX78576',\n",
       "  'ZQ11381',\n",
       "  'ON39271',\n",
       "  'SB18278',\n",
       "  'ZT30559',\n",
       "  'XI41106',\n",
       "  'ZS88847',\n",
       "  'KR48903',\n",
       "  'KR62797',\n",
       "  'FY62633',\n",
       "  'CU36986',\n",
       "  'WZ53904',\n",
       "  'AA71604',\n",
       "  'TD10493',\n",
       "  'LY97989',\n",
       "  'VX39856',\n",
       "  'TP51897',\n",
       "  'QQ89253',\n",
       "  'EI91403',\n",
       "  'QG15435',\n",
       "  'FZ55002',\n",
       "  'KU29408',\n",
       "  'UN37063',\n",
       "  'VB87946',\n",
       "  'AB60627',\n",
       "  'TA34903',\n",
       "  'AQ51368',\n",
       "  'NZ26102',\n",
       "  'GB45753',\n",
       "  'BV79904',\n",
       "  'OB49075',\n",
       "  'DS97676',\n",
       "  'JO63462',\n",
       "  'WZ40465',\n",
       "  'RS24501',\n",
       "  'VT78274',\n",
       "  'SU56153',\n",
       "  'MN20737',\n",
       "  'KL43114',\n",
       "  'YQ15567',\n",
       "  'TR88637',\n",
       "  'TC88986',\n",
       "  'NE49052',\n",
       "  'KX17826',\n",
       "  'CC91503',\n",
       "  'WH32183',\n",
       "  'ES90681',\n",
       "  'DW96592',\n",
       "  'MT23134',\n",
       "  'BM69081',\n",
       "  'MB90871',\n",
       "  'QR15221',\n",
       "  'QL77686',\n",
       "  'ON77827',\n",
       "  'KP18988',\n",
       "  'TI92884',\n",
       "  'JH73503',\n",
       "  'YE97964',\n",
       "  'VA30351',\n",
       "  'PV55726',\n",
       "  'UC88305',\n",
       "  'TS53809',\n",
       "  'ZV32120',\n",
       "  'FB80807',\n",
       "  'AS55677',\n",
       "  'SA50567',\n",
       "  'KJ31611',\n",
       "  'VL37375',\n",
       "  'KN21017',\n",
       "  'PX44289',\n",
       "  'RE42925',\n",
       "  'TR81766',\n",
       "  'UP71482',\n",
       "  'EG40670',\n",
       "  'HV83672',\n",
       "  'MG10140',\n",
       "  'TC44716',\n",
       "  'QO65264',\n",
       "  'EB66698',\n",
       "  'OT52034',\n",
       "  'CH85444',\n",
       "  'PU85769',\n",
       "  'UI73201',\n",
       "  'SL50592',\n",
       "  'XP11075',\n",
       "  'SI31236',\n",
       "  'JN26745',\n",
       "  'VK48036',\n",
       "  'EC71986',\n",
       "  'DS45802',\n",
       "  'OA96690',\n",
       "  'EM27919',\n",
       "  'QO41043',\n",
       "  'OV50124',\n",
       "  'PR31642',\n",
       "  'PO98961',\n",
       "  'TK30357',\n",
       "  'NF31087',\n",
       "  'NH16984',\n",
       "  'OS75493',\n",
       "  'VT63298',\n",
       "  'HT16519',\n",
       "  'SZ16483',\n",
       "  'VM92311',\n",
       "  'NJ46849',\n",
       "  'WZ31900',\n",
       "  'ZM86949',\n",
       "  'QQ39596',\n",
       "  'FH51383',\n",
       "  'BJ53923',\n",
       "  'CZ96653',\n",
       "  'FB23788',\n",
       "  'NT43594',\n",
       "  'VO38365',\n",
       "  'KJ86296',\n",
       "  'PI47776',\n",
       "  'MD73554',\n",
       "  'YG44474',\n",
       "  ...],\n",
       " 'state': ['Washington', 'Arizona', 'Nevada', 'California', 'Oregon'],\n",
       " 'education': ['Bachelor', 'College', 'Graduate', 'High School or Below'],\n",
       " 'marital_status': ['Married', 'Single', 'Divorced'],\n",
       " 'policy': ['L3', 'L2', 'L1'],\n",
       " 'renew_offer_type': ['Offer1', 'Offer3', 'Offer2', 'Offer4'],\n",
       " 'sales_channel': ['Agent', 'Call Center', 'Web', 'Branch'],\n",
       " 'vehicle_class': ['Two-Door Car', 'Four-Door Car', 'SUV', 'Luxury'],\n",
       " 'day_name': ['Thursday',\n",
       "  'Monday',\n",
       "  'Saturday',\n",
       "  'Tuesday',\n",
       "  'Wednesday',\n",
       "  'Sunday',\n",
       "  'Friday'],\n",
       " 'month': ['February', 'January']}"
      ]
     },
     "execution_count": 84,
     "metadata": {},
     "output_type": "execute_result"
    }
   ],
   "source": [
    "levels"
   ]
  },
  {
   "cell_type": "markdown",
   "id": "b4172337",
   "metadata": {},
   "source": [
    "28. Instantiate an sklearn OneHotEncoder with drop set to first and categories to levels"
   ]
  },
  {
   "cell_type": "code",
   "execution_count": 85,
   "id": "f3fedc52",
   "metadata": {},
   "outputs": [
    {
     "data": {
      "text/plain": [
       "OneHotEncoder(categories='levels', drop='first')"
      ]
     },
     "execution_count": 85,
     "metadata": {},
     "output_type": "execute_result"
    }
   ],
   "source": [
    "encoder = OneHotEncoder(drop='first', categories='levels')\n",
    "encoder"
   ]
  },
  {
   "cell_type": "markdown",
   "id": "8681e3c7",
   "metadata": {},
   "source": [
    "# LAB3: Lab Comparing Regression Models"
   ]
  },
  {
   "cell_type": "markdown",
   "id": "deb7678b",
   "metadata": {},
   "source": [
    "1. Define X and y"
   ]
  },
  {
   "cell_type": "code",
   "execution_count": 86,
   "id": "791a0302",
   "metadata": {},
   "outputs": [
    {
     "data": {
      "text/html": [
       "<div>\n",
       "<style scoped>\n",
       "    .dataframe tbody tr th:only-of-type {\n",
       "        vertical-align: middle;\n",
       "    }\n",
       "\n",
       "    .dataframe tbody tr th {\n",
       "        vertical-align: top;\n",
       "    }\n",
       "\n",
       "    .dataframe thead th {\n",
       "        text-align: right;\n",
       "    }\n",
       "</style>\n",
       "<table border=\"1\" class=\"dataframe\">\n",
       "  <thead>\n",
       "    <tr style=\"text-align: right;\">\n",
       "      <th></th>\n",
       "      <th>customer_lifetime_value</th>\n",
       "      <th>income</th>\n",
       "      <th>monthly_premium_auto</th>\n",
       "      <th>months_since_policy_inception</th>\n",
       "      <th>months_since_last_claim</th>\n",
       "      <th>number_of_open_complaints</th>\n",
       "      <th>number_of_policies</th>\n",
       "      <th>customer</th>\n",
       "      <th>state</th>\n",
       "      <th>response</th>\n",
       "      <th>...</th>\n",
       "      <th>policy</th>\n",
       "      <th>renew_offer_type</th>\n",
       "      <th>sales_channel</th>\n",
       "      <th>vehicle_class</th>\n",
       "      <th>vehicle_size</th>\n",
       "      <th>day</th>\n",
       "      <th>day_name</th>\n",
       "      <th>week</th>\n",
       "      <th>month</th>\n",
       "      <th>total_claim_amount</th>\n",
       "    </tr>\n",
       "  </thead>\n",
       "  <tbody>\n",
       "    <tr>\n",
       "      <th>0</th>\n",
       "      <td>2763.519279</td>\n",
       "      <td>56274.0</td>\n",
       "      <td>69.0</td>\n",
       "      <td>5.0</td>\n",
       "      <td>32</td>\n",
       "      <td>0</td>\n",
       "      <td>1</td>\n",
       "      <td>BU79786</td>\n",
       "      <td>Washington</td>\n",
       "      <td>0</td>\n",
       "      <td>...</td>\n",
       "      <td>L3</td>\n",
       "      <td>Offer1</td>\n",
       "      <td>Agent</td>\n",
       "      <td>Two-Door Car</td>\n",
       "      <td>2</td>\n",
       "      <td>24</td>\n",
       "      <td>Thursday</td>\n",
       "      <td>8</td>\n",
       "      <td>February</td>\n",
       "      <td>384.811147</td>\n",
       "    </tr>\n",
       "    <tr>\n",
       "      <th>1</th>\n",
       "      <td>6979.535903</td>\n",
       "      <td>0.0</td>\n",
       "      <td>94.0</td>\n",
       "      <td>42.0</td>\n",
       "      <td>13</td>\n",
       "      <td>0</td>\n",
       "      <td>8</td>\n",
       "      <td>QZ44356</td>\n",
       "      <td>Arizona</td>\n",
       "      <td>0</td>\n",
       "      <td>...</td>\n",
       "      <td>L3</td>\n",
       "      <td>Offer3</td>\n",
       "      <td>Agent</td>\n",
       "      <td>Four-Door Car</td>\n",
       "      <td>2</td>\n",
       "      <td>31</td>\n",
       "      <td>Monday</td>\n",
       "      <td>5</td>\n",
       "      <td>January</td>\n",
       "      <td>1131.464935</td>\n",
       "    </tr>\n",
       "    <tr>\n",
       "      <th>2</th>\n",
       "      <td>12887.431650</td>\n",
       "      <td>48767.0</td>\n",
       "      <td>108.0</td>\n",
       "      <td>38.0</td>\n",
       "      <td>18</td>\n",
       "      <td>0</td>\n",
       "      <td>2</td>\n",
       "      <td>AI49188</td>\n",
       "      <td>Nevada</td>\n",
       "      <td>0</td>\n",
       "      <td>...</td>\n",
       "      <td>L3</td>\n",
       "      <td>Offer1</td>\n",
       "      <td>Agent</td>\n",
       "      <td>Two-Door Car</td>\n",
       "      <td>2</td>\n",
       "      <td>19</td>\n",
       "      <td>Saturday</td>\n",
       "      <td>7</td>\n",
       "      <td>February</td>\n",
       "      <td>566.472247</td>\n",
       "    </tr>\n",
       "    <tr>\n",
       "      <th>3</th>\n",
       "      <td>7645.861827</td>\n",
       "      <td>0.0</td>\n",
       "      <td>106.0</td>\n",
       "      <td>65.0</td>\n",
       "      <td>18</td>\n",
       "      <td>0</td>\n",
       "      <td>7</td>\n",
       "      <td>WW63253</td>\n",
       "      <td>California</td>\n",
       "      <td>0</td>\n",
       "      <td>...</td>\n",
       "      <td>L2</td>\n",
       "      <td>Offer1</td>\n",
       "      <td>Call Center</td>\n",
       "      <td>SUV</td>\n",
       "      <td>2</td>\n",
       "      <td>20</td>\n",
       "      <td>Thursday</td>\n",
       "      <td>3</td>\n",
       "      <td>January</td>\n",
       "      <td>529.881344</td>\n",
       "    </tr>\n",
       "    <tr>\n",
       "      <th>4</th>\n",
       "      <td>2813.692575</td>\n",
       "      <td>43836.0</td>\n",
       "      <td>73.0</td>\n",
       "      <td>44.0</td>\n",
       "      <td>12</td>\n",
       "      <td>0</td>\n",
       "      <td>1</td>\n",
       "      <td>HB64268</td>\n",
       "      <td>Washington</td>\n",
       "      <td>0</td>\n",
       "      <td>...</td>\n",
       "      <td>L1</td>\n",
       "      <td>Offer1</td>\n",
       "      <td>Agent</td>\n",
       "      <td>Four-Door Car</td>\n",
       "      <td>2</td>\n",
       "      <td>3</td>\n",
       "      <td>Thursday</td>\n",
       "      <td>5</td>\n",
       "      <td>February</td>\n",
       "      <td>138.130879</td>\n",
       "    </tr>\n",
       "  </tbody>\n",
       "</table>\n",
       "<p>5 rows × 27 columns</p>\n",
       "</div>"
      ],
      "text/plain": [
       "   customer_lifetime_value   income  monthly_premium_auto  \\\n",
       "0              2763.519279  56274.0                  69.0   \n",
       "1              6979.535903      0.0                  94.0   \n",
       "2             12887.431650  48767.0                 108.0   \n",
       "3              7645.861827      0.0                 106.0   \n",
       "4              2813.692575  43836.0                  73.0   \n",
       "\n",
       "   months_since_policy_inception  months_since_last_claim  \\\n",
       "0                            5.0                       32   \n",
       "1                           42.0                       13   \n",
       "2                           38.0                       18   \n",
       "3                           65.0                       18   \n",
       "4                           44.0                       12   \n",
       "\n",
       "   number_of_open_complaints  number_of_policies customer       state  \\\n",
       "0                          0                   1  BU79786  Washington   \n",
       "1                          0                   8  QZ44356     Arizona   \n",
       "2                          0                   2  AI49188      Nevada   \n",
       "3                          0                   7  WW63253  California   \n",
       "4                          0                   1  HB64268  Washington   \n",
       "\n",
       "   response  ...  policy renew_offer_type sales_channel  vehicle_class  \\\n",
       "0         0  ...      L3           Offer1         Agent   Two-Door Car   \n",
       "1         0  ...      L3           Offer3         Agent  Four-Door Car   \n",
       "2         0  ...      L3           Offer1         Agent   Two-Door Car   \n",
       "3         0  ...      L2           Offer1   Call Center            SUV   \n",
       "4         0  ...      L1           Offer1         Agent  Four-Door Car   \n",
       "\n",
       "   vehicle_size  day  day_name week     month total_claim_amount  \n",
       "0             2   24  Thursday    8  February         384.811147  \n",
       "1             2   31    Monday    5   January        1131.464935  \n",
       "2             2   19  Saturday    7  February         566.472247  \n",
       "3             2   20  Thursday    3   January         529.881344  \n",
       "4             2    3  Thursday    5  February         138.130879  \n",
       "\n",
       "[5 rows x 27 columns]"
      ]
     },
     "execution_count": 86,
     "metadata": {},
     "output_type": "execute_result"
    }
   ],
   "source": [
    "final_df.head()"
   ]
  },
  {
   "cell_type": "code",
   "execution_count": 87,
   "id": "5dc0afa8",
   "metadata": {},
   "outputs": [
    {
     "data": {
      "text/plain": [
       "Index(['customer_lifetime_value', 'income', 'monthly_premium_auto',\n",
       "       'months_since_policy_inception', 'months_since_last_claim',\n",
       "       'number_of_open_complaints', 'number_of_policies', 'customer', 'state',\n",
       "       'response', 'coverage', 'education', 'effective_to_date',\n",
       "       'employmentstatus', 'gender', 'location_code', 'marital_status',\n",
       "       'policy', 'renew_offer_type', 'sales_channel', 'vehicle_class',\n",
       "       'vehicle_size', 'day', 'day_name', 'week', 'month',\n",
       "       'total_claim_amount'],\n",
       "      dtype='object')"
      ]
     },
     "execution_count": 87,
     "metadata": {},
     "output_type": "execute_result"
    }
   ],
   "source": [
    "final_df.columns"
   ]
  },
  {
   "cell_type": "code",
   "execution_count": 88,
   "id": "b5d8a8d6",
   "metadata": {},
   "outputs": [
    {
     "data": {
      "text/html": [
       "<div>\n",
       "<style scoped>\n",
       "    .dataframe tbody tr th:only-of-type {\n",
       "        vertical-align: middle;\n",
       "    }\n",
       "\n",
       "    .dataframe tbody tr th {\n",
       "        vertical-align: top;\n",
       "    }\n",
       "\n",
       "    .dataframe thead th {\n",
       "        text-align: right;\n",
       "    }\n",
       "</style>\n",
       "<table border=\"1\" class=\"dataframe\">\n",
       "  <thead>\n",
       "    <tr style=\"text-align: right;\">\n",
       "      <th></th>\n",
       "      <th>customer_lifetime_value</th>\n",
       "      <th>income</th>\n",
       "      <th>monthly_premium_auto</th>\n",
       "      <th>months_since_policy_inception</th>\n",
       "      <th>months_since_last_claim</th>\n",
       "      <th>number_of_open_complaints</th>\n",
       "      <th>number_of_policies</th>\n",
       "      <th>state</th>\n",
       "      <th>response</th>\n",
       "      <th>coverage</th>\n",
       "      <th>...</th>\n",
       "      <th>marital_status</th>\n",
       "      <th>policy</th>\n",
       "      <th>renew_offer_type</th>\n",
       "      <th>sales_channel</th>\n",
       "      <th>vehicle_class</th>\n",
       "      <th>vehicle_size</th>\n",
       "      <th>day</th>\n",
       "      <th>day_name</th>\n",
       "      <th>week</th>\n",
       "      <th>month</th>\n",
       "    </tr>\n",
       "  </thead>\n",
       "  <tbody>\n",
       "    <tr>\n",
       "      <th>0</th>\n",
       "      <td>2763.519279</td>\n",
       "      <td>56274.0</td>\n",
       "      <td>69.0</td>\n",
       "      <td>5.0</td>\n",
       "      <td>32</td>\n",
       "      <td>0</td>\n",
       "      <td>1</td>\n",
       "      <td>Washington</td>\n",
       "      <td>0</td>\n",
       "      <td>1</td>\n",
       "      <td>...</td>\n",
       "      <td>Married</td>\n",
       "      <td>L3</td>\n",
       "      <td>Offer1</td>\n",
       "      <td>Agent</td>\n",
       "      <td>Two-Door Car</td>\n",
       "      <td>2</td>\n",
       "      <td>24</td>\n",
       "      <td>Thursday</td>\n",
       "      <td>8</td>\n",
       "      <td>February</td>\n",
       "    </tr>\n",
       "    <tr>\n",
       "      <th>1</th>\n",
       "      <td>6979.535903</td>\n",
       "      <td>0.0</td>\n",
       "      <td>94.0</td>\n",
       "      <td>42.0</td>\n",
       "      <td>13</td>\n",
       "      <td>0</td>\n",
       "      <td>8</td>\n",
       "      <td>Arizona</td>\n",
       "      <td>0</td>\n",
       "      <td>2</td>\n",
       "      <td>...</td>\n",
       "      <td>Single</td>\n",
       "      <td>L3</td>\n",
       "      <td>Offer3</td>\n",
       "      <td>Agent</td>\n",
       "      <td>Four-Door Car</td>\n",
       "      <td>2</td>\n",
       "      <td>31</td>\n",
       "      <td>Monday</td>\n",
       "      <td>5</td>\n",
       "      <td>January</td>\n",
       "    </tr>\n",
       "    <tr>\n",
       "      <th>2</th>\n",
       "      <td>12887.431650</td>\n",
       "      <td>48767.0</td>\n",
       "      <td>108.0</td>\n",
       "      <td>38.0</td>\n",
       "      <td>18</td>\n",
       "      <td>0</td>\n",
       "      <td>2</td>\n",
       "      <td>Nevada</td>\n",
       "      <td>0</td>\n",
       "      <td>3</td>\n",
       "      <td>...</td>\n",
       "      <td>Married</td>\n",
       "      <td>L3</td>\n",
       "      <td>Offer1</td>\n",
       "      <td>Agent</td>\n",
       "      <td>Two-Door Car</td>\n",
       "      <td>2</td>\n",
       "      <td>19</td>\n",
       "      <td>Saturday</td>\n",
       "      <td>7</td>\n",
       "      <td>February</td>\n",
       "    </tr>\n",
       "    <tr>\n",
       "      <th>3</th>\n",
       "      <td>7645.861827</td>\n",
       "      <td>0.0</td>\n",
       "      <td>106.0</td>\n",
       "      <td>65.0</td>\n",
       "      <td>18</td>\n",
       "      <td>0</td>\n",
       "      <td>7</td>\n",
       "      <td>California</td>\n",
       "      <td>0</td>\n",
       "      <td>1</td>\n",
       "      <td>...</td>\n",
       "      <td>Married</td>\n",
       "      <td>L2</td>\n",
       "      <td>Offer1</td>\n",
       "      <td>Call Center</td>\n",
       "      <td>SUV</td>\n",
       "      <td>2</td>\n",
       "      <td>20</td>\n",
       "      <td>Thursday</td>\n",
       "      <td>3</td>\n",
       "      <td>January</td>\n",
       "    </tr>\n",
       "    <tr>\n",
       "      <th>4</th>\n",
       "      <td>2813.692575</td>\n",
       "      <td>43836.0</td>\n",
       "      <td>73.0</td>\n",
       "      <td>44.0</td>\n",
       "      <td>12</td>\n",
       "      <td>0</td>\n",
       "      <td>1</td>\n",
       "      <td>Washington</td>\n",
       "      <td>0</td>\n",
       "      <td>1</td>\n",
       "      <td>...</td>\n",
       "      <td>Single</td>\n",
       "      <td>L1</td>\n",
       "      <td>Offer1</td>\n",
       "      <td>Agent</td>\n",
       "      <td>Four-Door Car</td>\n",
       "      <td>2</td>\n",
       "      <td>3</td>\n",
       "      <td>Thursday</td>\n",
       "      <td>5</td>\n",
       "      <td>February</td>\n",
       "    </tr>\n",
       "  </tbody>\n",
       "</table>\n",
       "<p>5 rows × 24 columns</p>\n",
       "</div>"
      ],
      "text/plain": [
       "   customer_lifetime_value   income  monthly_premium_auto  \\\n",
       "0              2763.519279  56274.0                  69.0   \n",
       "1              6979.535903      0.0                  94.0   \n",
       "2             12887.431650  48767.0                 108.0   \n",
       "3              7645.861827      0.0                 106.0   \n",
       "4              2813.692575  43836.0                  73.0   \n",
       "\n",
       "   months_since_policy_inception  months_since_last_claim  \\\n",
       "0                            5.0                       32   \n",
       "1                           42.0                       13   \n",
       "2                           38.0                       18   \n",
       "3                           65.0                       18   \n",
       "4                           44.0                       12   \n",
       "\n",
       "   number_of_open_complaints  number_of_policies       state  response  \\\n",
       "0                          0                   1  Washington         0   \n",
       "1                          0                   8     Arizona         0   \n",
       "2                          0                   2      Nevada         0   \n",
       "3                          0                   7  California         0   \n",
       "4                          0                   1  Washington         0   \n",
       "\n",
       "   coverage  ... marital_status  policy  renew_offer_type  sales_channel  \\\n",
       "0         1  ...        Married      L3            Offer1          Agent   \n",
       "1         2  ...         Single      L3            Offer3          Agent   \n",
       "2         3  ...        Married      L3            Offer1          Agent   \n",
       "3         1  ...        Married      L2            Offer1    Call Center   \n",
       "4         1  ...         Single      L1            Offer1          Agent   \n",
       "\n",
       "   vehicle_class vehicle_size day  day_name week     month  \n",
       "0   Two-Door Car            2  24  Thursday    8  February  \n",
       "1  Four-Door Car            2  31    Monday    5   January  \n",
       "2   Two-Door Car            2  19  Saturday    7  February  \n",
       "3            SUV            2  20  Thursday    3   January  \n",
       "4  Four-Door Car            2   3  Thursday    5  February  \n",
       "\n",
       "[5 rows x 24 columns]"
      ]
     },
     "execution_count": 88,
     "metadata": {},
     "output_type": "execute_result"
    }
   ],
   "source": [
    "X = final_df.drop(columns=['total_claim_amount','customer','effective_to_date'], axis=1)\n",
    "y = final_df['total_claim_amount']\n",
    "\n",
    "X.head()"
   ]
  },
  {
   "cell_type": "code",
   "execution_count": null,
   "id": "04b22d8c",
   "metadata": {},
   "outputs": [],
   "source": []
  },
  {
   "cell_type": "markdown",
   "id": "3731b70b",
   "metadata": {},
   "source": [
    "2. Import sklearn train_test_split and separate the data. Set test_size=0.30 and random_state=31"
   ]
  },
  {
   "cell_type": "code",
   "execution_count": 89,
   "id": "e3416ffd",
   "metadata": {},
   "outputs": [],
   "source": [
    "X_train, X_test, y_train, y_test = train_test_split(X, y, test_size=0.30, random_state=31)"
   ]
  },
  {
   "cell_type": "markdown",
   "id": "ad42559f",
   "metadata": {},
   "source": [
    "3. Separate X_train and X_test into numerical and categorical (X_train_cat , X_train_num , X_test_cat , X_test_num)"
   ]
  },
  {
   "cell_type": "code",
   "execution_count": 90,
   "id": "f8580f57",
   "metadata": {},
   "outputs": [],
   "source": [
    "# Selecting the categorical columns\n",
    "X_train_cat,X_train_num = X_train.select_dtypes(include=[np.object]),X_train.select_dtypes(exclude=[np.object])\n",
    "X_test_cat, X_test_num= X_test.select_dtypes(include=[np.object]),X_test.select_dtypes(exclude=[np.object])\n",
    "# X_train_num"
   ]
  },
  {
   "cell_type": "markdown",
   "id": "4a4e4b6c",
   "metadata": {},
   "source": [
    "4. Encode the categorical variables X_train_cat and X_test_cat using the OneHotEncoder setup in the previous lab. Remember to use .toarray() after .transform() to endup with a numpy array. Next, cast the resulting numpy arrays into pandas DataFrames. Make sure that the column names of the new dataframes are correctly setup using encoder.get_feature_names_out() and the same indexes of X_train_cat and X_test_cat"
   ]
  },
  {
   "cell_type": "code",
   "execution_count": 91,
   "id": "8b26b831",
   "metadata": {},
   "outputs": [],
   "source": [
    "encoder = OneHotEncoder()\n",
    "encoder.fit(X_train_cat)\n",
    "\n",
    "# encode the categorical variables in the training set\n",
    "X_train_encoded = encoder.transform(X_train_cat).toarray()\n",
    "\n",
    "# encode the categorical variables in the test set\n",
    "X_test_encoded = encoder.transform(X_test_cat).toarray()\n",
    "\n",
    "# convert the numpy arrays into pandas dataframes\n",
    "X_train_encoded_df = pd.DataFrame(X_train_encoded, index=X_train_cat.index)\n",
    "X_test_encoded_df = pd.DataFrame(X_test_encoded, index=X_test_cat.index)\n",
    "\n",
    "# set the column names using the encoder's get_feature_names_out() method\n",
    "X_train_encoded_df.columns = encoder.get_feature_names(X_train_cat.columns)\n",
    "X_test_encoded_df.columns = encoder.get_feature_names(X_test_cat.columns)\n"
   ]
  },
  {
   "cell_type": "markdown",
   "id": "97a621cc",
   "metadata": {},
   "source": [
    "5. Use X_train_num to fit a power transformer. Transform BOTH X_train_num and X_test_num. Next, cast the resulting numpy arrays as pandas dataframes. Make sure to set the correct columns names and to use the same indexes of X_train_num and X_test_num. Name the final resulting dataframes as: X_train_num_transformed_df and X_test_num_transformed_df"
   ]
  },
  {
   "cell_type": "code",
   "execution_count": 92,
   "id": "565f742a",
   "metadata": {},
   "outputs": [],
   "source": [
    "power_transformer = PowerTransformer()\n",
    "power_transformer.fit(X_train_num)\n",
    "\n",
    "# transform the numerical variables in the training set\n",
    "X_train_transformed = power_transformer.transform(X_train_num)\n",
    "\n",
    "# transform the numerical variables in the test set\n",
    "X_test_transformed = power_transformer.transform(X_test_num)\n",
    "\n",
    "# convert the numpy arrays into pandas dataframes\n",
    "X_train_num_transformed_df = pd.DataFrame(X_train_transformed, index=X_train_num.index, columns=X_train_num.columns)\n",
    "X_test_num_transformed_df = pd.DataFrame(X_test_transformed, index=X_test_num.index, columns=X_test_num.columns)\n"
   ]
  },
  {
   "cell_type": "markdown",
   "id": "67a11265",
   "metadata": {},
   "source": [
    "6. Concat X_train_num_transformed_df and X_train_cat_encoded_df into X_train_new and X_test_num_transformed_df and X_test_cat_encoded_df into X_test_new"
   ]
  },
  {
   "cell_type": "code",
   "execution_count": 93,
   "id": "cf3f96e8",
   "metadata": {},
   "outputs": [],
   "source": [
    "X_train_new = pd.concat([X_train_num_transformed_df, X_train_encoded_df], axis=1)\n",
    "\n",
    "X_test_new = pd.concat([X_test_num_transformed_df, X_test_encoded_df], axis=1)"
   ]
  },
  {
   "cell_type": "markdown",
   "id": "93d7b1fa",
   "metadata": {},
   "source": [
    "7. Fit a MinMax scaler using X_train_new and transform X_train_new and X_test_new. Create new pandas dataframes from the resulting numpy arrays. Remember to set the correct columns names and indexes. Name the resulting dataframes as: X_train_new_scaled_df and X_test_new_scaled_df"
   ]
  },
  {
   "cell_type": "code",
   "execution_count": 94,
   "id": "8c192506",
   "metadata": {},
   "outputs": [],
   "source": [
    "scaler = MinMaxScaler()\n",
    "X_train_new_scaled = scaler.fit_transform(X_train_new)\n",
    "X_test_new_scaled = scaler.transform(X_test_new)\n",
    "\n",
    "X_train_new_scaled_df = pd.DataFrame(data=X_train_new_scaled, columns=X_train_new.columns, index=X_train_new.index)\n",
    "X_test_new_scaled_df = pd.DataFrame(data=X_test_new_scaled, columns=X_test_new.columns, index=X_test_new.index)\n"
   ]
  },
  {
   "cell_type": "code",
   "execution_count": null,
   "id": "af953ae5",
   "metadata": {},
   "outputs": [],
   "source": []
  },
  {
   "cell_type": "markdown",
   "id": "1ee48d49",
   "metadata": {},
   "source": [
    "8. Train a simple linear regression model using X_train_new_scaled_df, and get the predictions for the train and test sets"
   ]
  },
  {
   "cell_type": "code",
   "execution_count": 95,
   "id": "505716e9",
   "metadata": {},
   "outputs": [],
   "source": [
    "model = LinearRegression()\n",
    "model.fit(X_train_new_scaled_df, y_train)\n",
    "\n",
    "# train predictions\n",
    "train_predictions = model.predict(X_train_new_scaled_df)\n",
    "# test predictions\n",
    "test_predictions = model.predict(X_test_new_scaled_df)\n",
    "# evaluating the performance of the model"
   ]
  },
  {
   "cell_type": "markdown",
   "id": "2f4b6a70",
   "metadata": {},
   "source": [
    "9. Create a function that given a model prediction and real values returns a pandas dataframe with the following table:"
   ]
  },
  {
   "cell_type": "code",
   "execution_count": 96,
   "id": "96f6682d",
   "metadata": {},
   "outputs": [],
   "source": [
    "def model_evaluation(y_pred,y_test):\n",
    "    MAE = mae(y_pred,y_test)\n",
    "    MAPE = mape(y_test,y_pred)\n",
    "    MSE = mse(y_test,y_pred)\n",
    "    RMSE = np.sqrt(MSE)\n",
    "    R2 = r2_score(y_test,y_pred)\n",
    "    \n",
    "    table_values = {'Error_metric':['MAE','MAPE','MSE','RMSE','R2'], 'Value':[MAE,MAPE,MSE,RMSE,R2]}\n",
    "    df_metrics = pd.DataFrame(table_values).set_index('Error_metric')\n",
    "    \n",
    "    return df_metrics"
   ]
  },
  {
   "cell_type": "markdown",
   "id": "2b48a8ad",
   "metadata": {},
   "source": [
    "10. Evaluate the linear model predictions using the previous function on the TRAIN and TEST sets"
   ]
  },
  {
   "cell_type": "code",
   "execution_count": 97,
   "id": "cffdd161",
   "metadata": {},
   "outputs": [
    {
     "data": {
      "text/html": [
       "<div>\n",
       "<style scoped>\n",
       "    .dataframe tbody tr th:only-of-type {\n",
       "        vertical-align: middle;\n",
       "    }\n",
       "\n",
       "    .dataframe tbody tr th {\n",
       "        vertical-align: top;\n",
       "    }\n",
       "\n",
       "    .dataframe thead th {\n",
       "        text-align: right;\n",
       "    }\n",
       "</style>\n",
       "<table border=\"1\" class=\"dataframe\">\n",
       "  <thead>\n",
       "    <tr style=\"text-align: right;\">\n",
       "      <th></th>\n",
       "      <th>Value</th>\n",
       "    </tr>\n",
       "    <tr>\n",
       "      <th>Error_metric</th>\n",
       "      <th></th>\n",
       "    </tr>\n",
       "  </thead>\n",
       "  <tbody>\n",
       "    <tr>\n",
       "      <th>MAE</th>\n",
       "      <td>118.498022</td>\n",
       "    </tr>\n",
       "    <tr>\n",
       "      <th>MAPE</th>\n",
       "      <td>1.568610</td>\n",
       "    </tr>\n",
       "    <tr>\n",
       "      <th>MSE</th>\n",
       "      <td>22980.747644</td>\n",
       "    </tr>\n",
       "    <tr>\n",
       "      <th>RMSE</th>\n",
       "      <td>151.594022</td>\n",
       "    </tr>\n",
       "    <tr>\n",
       "      <th>R2</th>\n",
       "      <td>0.533807</td>\n",
       "    </tr>\n",
       "  </tbody>\n",
       "</table>\n",
       "</div>"
      ],
      "text/plain": [
       "                     Value\n",
       "Error_metric              \n",
       "MAE             118.498022\n",
       "MAPE              1.568610\n",
       "MSE           22980.747644\n",
       "RMSE            151.594022\n",
       "R2                0.533807"
      ]
     },
     "execution_count": 97,
     "metadata": {},
     "output_type": "execute_result"
    }
   ],
   "source": [
    "train_evaluation_table = model_evaluation(train_predictions,y_train)\n",
    "train_evaluation_table"
   ]
  },
  {
   "cell_type": "code",
   "execution_count": 98,
   "id": "9a4521f0",
   "metadata": {},
   "outputs": [
    {
     "data": {
      "text/html": [
       "<div>\n",
       "<style scoped>\n",
       "    .dataframe tbody tr th:only-of-type {\n",
       "        vertical-align: middle;\n",
       "    }\n",
       "\n",
       "    .dataframe tbody tr th {\n",
       "        vertical-align: top;\n",
       "    }\n",
       "\n",
       "    .dataframe thead th {\n",
       "        text-align: right;\n",
       "    }\n",
       "</style>\n",
       "<table border=\"1\" class=\"dataframe\">\n",
       "  <thead>\n",
       "    <tr style=\"text-align: right;\">\n",
       "      <th></th>\n",
       "      <th>Value</th>\n",
       "    </tr>\n",
       "    <tr>\n",
       "      <th>Error_metric</th>\n",
       "      <th></th>\n",
       "    </tr>\n",
       "  </thead>\n",
       "  <tbody>\n",
       "    <tr>\n",
       "      <th>MAE</th>\n",
       "      <td>119.213162</td>\n",
       "    </tr>\n",
       "    <tr>\n",
       "      <th>MAPE</th>\n",
       "      <td>1.675672</td>\n",
       "    </tr>\n",
       "    <tr>\n",
       "      <th>MSE</th>\n",
       "      <td>23652.858410</td>\n",
       "    </tr>\n",
       "    <tr>\n",
       "      <th>RMSE</th>\n",
       "      <td>153.794858</td>\n",
       "    </tr>\n",
       "    <tr>\n",
       "      <th>R2</th>\n",
       "      <td>0.518068</td>\n",
       "    </tr>\n",
       "  </tbody>\n",
       "</table>\n",
       "</div>"
      ],
      "text/plain": [
       "                     Value\n",
       "Error_metric              \n",
       "MAE             119.213162\n",
       "MAPE              1.675672\n",
       "MSE           23652.858410\n",
       "RMSE            153.794858\n",
       "R2                0.518068"
      ]
     },
     "execution_count": 98,
     "metadata": {},
     "output_type": "execute_result"
    }
   ],
   "source": [
    "test_evaluation_table = model_evaluation(test_predictions,y_test)\n",
    "test_evaluation_table"
   ]
  },
  {
   "cell_type": "markdown",
   "id": "a6bb7a70",
   "metadata": {},
   "source": [
    "11. Now define a function that takes as an input: list of models, X_train and y_train to train several model (with default values) so we can train a lot of them without repeating code. The function must return the list of trained models. "
   ]
  },
  {
   "cell_type": "code",
   "execution_count": 99,
   "id": "dc0350cf",
   "metadata": {},
   "outputs": [],
   "source": [
    "def train_several_models(list_models, X_train, y_train):\n",
    "    trained_models = []\n",
    "    for model in list_models:\n",
    "        Mymodel = model().fit(X_train, y_train)\n",
    "        trained_models.append(Mymodel)\n",
    "    return trained_models"
   ]
  },
  {
   "cell_type": "markdown",
   "id": "7a2aa653",
   "metadata": {},
   "source": [
    "12.     Use the function to train the following models (with default settings):\n",
    "\n",
    "*LinearRegressor\n",
    "\n",
    "*KNeighborsRegressor\n",
    "\n",
    "*MLPRegressor"
   ]
  },
  {
   "cell_type": "code",
   "execution_count": 100,
   "id": "318296e4",
   "metadata": {},
   "outputs": [
    {
     "data": {
      "text/plain": [
       "[LinearRegression(), KNeighborsRegressor(), MLPRegressor()]"
      ]
     },
     "execution_count": 100,
     "metadata": {},
     "output_type": "execute_result"
    }
   ],
   "source": [
    "list_models = [LinearRegression, KNeighborsRegressor, MLPRegressor]\n",
    "trained_models = train_several_models(list_models, X_train_new_scaled_df, y_train)\n",
    "trained_models"
   ]
  },
  {
   "cell_type": "markdown",
   "id": "f579312d",
   "metadata": {},
   "source": [
    "13. Evaluate the models with the function created earlier in the TRAIN and TEST sets. Which model performs best with the default options?"
   ]
  },
  {
   "cell_type": "code",
   "execution_count": 101,
   "id": "9e17c1e1",
   "metadata": {},
   "outputs": [
    {
     "name": "stdout",
     "output_type": "stream",
     "text": [
      "Error metrics for model 0:\n",
      "LinearRegression()\n",
      "\n",
      "Error metrics for model 1:\n",
      "KNeighborsRegressor()\n",
      "\n",
      "Error metrics for model 2:\n",
      "MLPRegressor()\n",
      "\n",
      "Error metrics for model 0:\n",
      "                     Value\n",
      "Error_metric              \n",
      "MAE             119.213162\n",
      "MAPE              0.356087\n",
      "MSE           23652.858410\n",
      "RMSE            153.794858\n",
      "R2                0.069253\n",
      "\n",
      "Error metrics for model 1:\n",
      "                     Value\n",
      "Error_metric              \n",
      "MAE             133.200570\n",
      "MAPE              0.362734\n",
      "MSE           32148.512972\n",
      "RMSE            179.300064\n",
      "R2               -0.699891\n",
      "\n",
      "Error metrics for model 2:\n",
      "                     Value\n",
      "Error_metric              \n",
      "MAE             109.451912\n",
      "MAPE              0.329236\n",
      "MSE           20686.260237\n",
      "RMSE            143.827189\n",
      "R2                0.201299\n",
      "\n"
     ]
    }
   ],
   "source": [
    "# Evaluate the models on the training set\n",
    "train_metrics = {}\n",
    "for model in trained_models:\n",
    "    y_train_pred = model.predict(X_train_new_scaled_df)\n",
    "    metrics = model_evaluation(y_train, y_train_pred)\n",
    "    train_metrics[model] = metrics\n",
    "\n",
    "# Evaluate the models on the test set\n",
    "test_metrics = []\n",
    "for model in trained_models:\n",
    "    y_test_pred = model.predict(X_test_new_scaled_df)\n",
    "    metrics = model_evaluation(y_test, y_test_pred)\n",
    "    test_metrics.append(metrics)\n",
    "\n",
    "# train_metrics\n",
    "\n",
    "# train_metrics.keys()\n",
    "\n",
    "# Print the error metrics for each model on the training set\n",
    "for i, model_metrics in enumerate(train_metrics):\n",
    "    print(f\"Error metrics for model {i}:\")\n",
    "    print(model_metrics)\n",
    "    print()\n",
    "\n",
    "# Print the error metrics for each model on the test set\n",
    "for i, model_metrics in enumerate(test_metrics):\n",
    "    print(f\"Error metrics for model {i}:\")\n",
    "    print(model_metrics)\n",
    "    print()"
   ]
  },
  {
   "cell_type": "code",
   "execution_count": null,
   "id": "4c058e1a",
   "metadata": {},
   "outputs": [],
   "source": []
  },
  {
   "cell_type": "markdown",
   "id": "7d31f824",
   "metadata": {},
   "source": [
    "# LAB4: Random variable distributions"
   ]
  },
  {
   "cell_type": "markdown",
   "id": "4a997383",
   "metadata": {},
   "source": [
    "1. Get the numerical variables from our dataset."
   ]
  },
  {
   "cell_type": "code",
   "execution_count": 113,
   "id": "a53700d2",
   "metadata": {},
   "outputs": [
    {
     "data": {
      "text/html": [
       "<div>\n",
       "<style scoped>\n",
       "    .dataframe tbody tr th:only-of-type {\n",
       "        vertical-align: middle;\n",
       "    }\n",
       "\n",
       "    .dataframe tbody tr th {\n",
       "        vertical-align: top;\n",
       "    }\n",
       "\n",
       "    .dataframe thead th {\n",
       "        text-align: right;\n",
       "    }\n",
       "</style>\n",
       "<table border=\"1\" class=\"dataframe\">\n",
       "  <thead>\n",
       "    <tr style=\"text-align: right;\">\n",
       "      <th></th>\n",
       "      <th>customer_lifetime_value</th>\n",
       "      <th>income</th>\n",
       "      <th>monthly_premium_auto</th>\n",
       "      <th>months_since_last_claim</th>\n",
       "      <th>months_since_policy_inception</th>\n",
       "      <th>number_of_open_complaints</th>\n",
       "      <th>number_of_policies</th>\n",
       "      <th>total_claim_amount</th>\n",
       "    </tr>\n",
       "  </thead>\n",
       "  <tbody>\n",
       "    <tr>\n",
       "      <th>0</th>\n",
       "      <td>2763.519279</td>\n",
       "      <td>56274</td>\n",
       "      <td>69</td>\n",
       "      <td>32</td>\n",
       "      <td>5</td>\n",
       "      <td>0</td>\n",
       "      <td>1</td>\n",
       "      <td>384.811147</td>\n",
       "    </tr>\n",
       "    <tr>\n",
       "      <th>1</th>\n",
       "      <td>6979.535903</td>\n",
       "      <td>0</td>\n",
       "      <td>94</td>\n",
       "      <td>13</td>\n",
       "      <td>42</td>\n",
       "      <td>0</td>\n",
       "      <td>8</td>\n",
       "      <td>1131.464935</td>\n",
       "    </tr>\n",
       "    <tr>\n",
       "      <th>2</th>\n",
       "      <td>12887.431650</td>\n",
       "      <td>48767</td>\n",
       "      <td>108</td>\n",
       "      <td>18</td>\n",
       "      <td>38</td>\n",
       "      <td>0</td>\n",
       "      <td>2</td>\n",
       "      <td>566.472247</td>\n",
       "    </tr>\n",
       "    <tr>\n",
       "      <th>3</th>\n",
       "      <td>7645.861827</td>\n",
       "      <td>0</td>\n",
       "      <td>106</td>\n",
       "      <td>18</td>\n",
       "      <td>65</td>\n",
       "      <td>0</td>\n",
       "      <td>7</td>\n",
       "      <td>529.881344</td>\n",
       "    </tr>\n",
       "    <tr>\n",
       "      <th>4</th>\n",
       "      <td>2813.692575</td>\n",
       "      <td>43836</td>\n",
       "      <td>73</td>\n",
       "      <td>12</td>\n",
       "      <td>44</td>\n",
       "      <td>0</td>\n",
       "      <td>1</td>\n",
       "      <td>138.130879</td>\n",
       "    </tr>\n",
       "    <tr>\n",
       "      <th>...</th>\n",
       "      <td>...</td>\n",
       "      <td>...</td>\n",
       "      <td>...</td>\n",
       "      <td>...</td>\n",
       "      <td>...</td>\n",
       "      <td>...</td>\n",
       "      <td>...</td>\n",
       "      <td>...</td>\n",
       "    </tr>\n",
       "    <tr>\n",
       "      <th>9129</th>\n",
       "      <td>23405.987980</td>\n",
       "      <td>71941</td>\n",
       "      <td>73</td>\n",
       "      <td>18</td>\n",
       "      <td>89</td>\n",
       "      <td>0</td>\n",
       "      <td>2</td>\n",
       "      <td>198.234764</td>\n",
       "    </tr>\n",
       "    <tr>\n",
       "      <th>9130</th>\n",
       "      <td>3096.511217</td>\n",
       "      <td>21604</td>\n",
       "      <td>79</td>\n",
       "      <td>14</td>\n",
       "      <td>28</td>\n",
       "      <td>0</td>\n",
       "      <td>1</td>\n",
       "      <td>379.200000</td>\n",
       "    </tr>\n",
       "    <tr>\n",
       "      <th>9131</th>\n",
       "      <td>8163.890428</td>\n",
       "      <td>0</td>\n",
       "      <td>85</td>\n",
       "      <td>9</td>\n",
       "      <td>37</td>\n",
       "      <td>3</td>\n",
       "      <td>2</td>\n",
       "      <td>790.784983</td>\n",
       "    </tr>\n",
       "    <tr>\n",
       "      <th>9132</th>\n",
       "      <td>7524.442436</td>\n",
       "      <td>21941</td>\n",
       "      <td>96</td>\n",
       "      <td>34</td>\n",
       "      <td>3</td>\n",
       "      <td>0</td>\n",
       "      <td>3</td>\n",
       "      <td>691.200000</td>\n",
       "    </tr>\n",
       "    <tr>\n",
       "      <th>9133</th>\n",
       "      <td>2611.836866</td>\n",
       "      <td>0</td>\n",
       "      <td>77</td>\n",
       "      <td>3</td>\n",
       "      <td>90</td>\n",
       "      <td>0</td>\n",
       "      <td>1</td>\n",
       "      <td>369.600000</td>\n",
       "    </tr>\n",
       "  </tbody>\n",
       "</table>\n",
       "<p>9134 rows × 8 columns</p>\n",
       "</div>"
      ],
      "text/plain": [
       "      customer_lifetime_value  income  monthly_premium_auto  \\\n",
       "0                 2763.519279   56274                    69   \n",
       "1                 6979.535903       0                    94   \n",
       "2                12887.431650   48767                   108   \n",
       "3                 7645.861827       0                   106   \n",
       "4                 2813.692575   43836                    73   \n",
       "...                       ...     ...                   ...   \n",
       "9129             23405.987980   71941                    73   \n",
       "9130              3096.511217   21604                    79   \n",
       "9131              8163.890428       0                    85   \n",
       "9132              7524.442436   21941                    96   \n",
       "9133              2611.836866       0                    77   \n",
       "\n",
       "      months_since_last_claim  months_since_policy_inception  \\\n",
       "0                          32                              5   \n",
       "1                          13                             42   \n",
       "2                          18                             38   \n",
       "3                          18                             65   \n",
       "4                          12                             44   \n",
       "...                       ...                            ...   \n",
       "9129                       18                             89   \n",
       "9130                       14                             28   \n",
       "9131                        9                             37   \n",
       "9132                       34                              3   \n",
       "9133                        3                             90   \n",
       "\n",
       "      number_of_open_complaints  number_of_policies  total_claim_amount  \n",
       "0                             0                   1          384.811147  \n",
       "1                             0                   8         1131.464935  \n",
       "2                             0                   2          566.472247  \n",
       "3                             0                   7          529.881344  \n",
       "4                             0                   1          138.130879  \n",
       "...                         ...                 ...                 ...  \n",
       "9129                          0                   2          198.234764  \n",
       "9130                          0                   1          379.200000  \n",
       "9131                          3                   2          790.784983  \n",
       "9132                          0                   3          691.200000  \n",
       "9133                          0                   1          369.600000  \n",
       "\n",
       "[9134 rows x 8 columns]"
      ]
     },
     "execution_count": 113,
     "metadata": {},
     "output_type": "execute_result"
    }
   ],
   "source": [
    "Numerical_variables = customer_df.select_dtypes(include=['int64', 'float64'])\n",
    "Numerical_variables"
   ]
  },
  {
   "cell_type": "markdown",
   "id": "d2b8ad4c",
   "metadata": {},
   "source": [
    "2. Check using a distribution plot if the variables fit the theoretical normal or exponential distribution."
   ]
  },
  {
   "cell_type": "code",
   "execution_count": 114,
   "id": "0d27ef16",
   "metadata": {
    "scrolled": false
   },
   "outputs": [
    {
     "data": {
      "image/png": "[encoded data removed]",
      "text/plain": [
       "<Figure size 432x288 with 1 Axes>"
      ]
     },
     "metadata": {
      "needs_background": "light"
     },
     "output_type": "display_data"
    },
    {
     "data": {
      "image/png": "[encoded data removed]",
      "text/plain": [
       "<Figure size 432x288 with 1 Axes>"
      ]
     },
     "metadata": {
      "needs_background": "light"
     },
     "output_type": "display_data"
    },
    {
     "data": {
      "image/png": "[encoded data removed]",
      "text/plain": [
       "<Figure size 432x288 with 1 Axes>"
      ]
     },
     "metadata": {
      "needs_background": "light"
     },
     "output_type": "display_data"
    },
    {
     "data": {
      "image/png": "[encoded data removed]",
      "text/plain": [
       "<Figure size 432x288 with 1 Axes>"
      ]
     },
     "metadata": {
      "needs_background": "light"
     },
     "output_type": "display_data"
    },
    {
     "data": {
      "image/png": "[encoded data removed]",
      "text/plain": [
       "<Figure size 432x288 with 1 Axes>"
      ]
     },
     "metadata": {
      "needs_background": "light"
     },
     "output_type": "display_data"
    },
    {
     "data": {
      "image/png": "[encoded data removed]",
      "text/plain": [
       "<Figure size 432x288 with 1 Axes>"
      ]
     },
     "metadata": {
      "needs_background": "light"
     },
     "output_type": "display_data"
    },
    {
     "data": {
      "image/png": "[encoded data removed]",
      "text/plain": [
       "<Figure size 432x288 with 1 Axes>"
      ]
     },
     "metadata": {
      "needs_background": "light"
     },
     "output_type": "display_data"
    },
    {
     "data": {
      "image/png": "[encoded data removed]",
      "text/plain": [
       "<Figure size 432x288 with 1 Axes>"
      ]
     },
     "metadata": {
      "needs_background": "light"
     },
     "output_type": "display_data"
    }
   ],
   "source": [
    "# Plot histograms for the numerical variables\n",
    "for col in Numerical_variables.columns:\n",
    "    sns.histplot(Numerical_variables[col])\n",
    "    plt.show()\n",
    "\n"
   ]
  },
  {
   "cell_type": "code",
   "execution_count": 115,
   "id": "48665c55",
   "metadata": {
    "scrolled": false
   },
   "outputs": [
    {
     "data": {
      "image/png": "[encoded data removed]",
      "text/plain": [
       "<Figure size 360x360 with 1 Axes>"
      ]
     },
     "metadata": {
      "needs_background": "light"
     },
     "output_type": "display_data"
    },
    {
     "data": {
      "image/png": "[encoded data removed]",
      "text/plain": [
       "<Figure size 360x360 with 1 Axes>"
      ]
     },
     "metadata": {
      "needs_background": "light"
     },
     "output_type": "display_data"
    },
    {
     "data": {
      "image/png": "[encoded data removed]",
      "text/plain": [
       "<Figure size 360x360 with 1 Axes>"
      ]
     },
     "metadata": {
      "needs_background": "light"
     },
     "output_type": "display_data"
    },
    {
     "data": {
      "image/png": "[encoded data removed]",
      "text/plain": [
       "<Figure size 360x360 with 1 Axes>"
      ]
     },
     "metadata": {
      "needs_background": "light"
     },
     "output_type": "display_data"
    },
    {
     "data": {
      "image/png": "[encoded data removed]",
      "text/plain": [
       "<Figure size 360x360 with 1 Axes>"
      ]
     },
     "metadata": {
      "needs_background": "light"
     },
     "output_type": "display_data"
    },
    {
     "data": {
      "image/png": "[encoded data removed]",
      "text/plain": [
       "<Figure size 360x360 with 1 Axes>"
      ]
     },
     "metadata": {
      "needs_background": "light"
     },
     "output_type": "display_data"
    },
    {
     "data": {
      "image/png": "[encoded data removed]",
      "text/plain": [
       "<Figure size 360x360 with 1 Axes>"
      ]
     },
     "metadata": {
      "needs_background": "light"
     },
     "output_type": "display_data"
    },
    {
     "data": {
      "image/png": "[encoded data removed]",
      "text/plain": [
       "<Figure size 360x360 with 1 Axes>"
      ]
     },
     "metadata": {
      "needs_background": "light"
     },
     "output_type": "display_data"
    }
   ],
   "source": [
    "# Plot density plots for the numerical variables\n",
    "for col in Numerical_variables.columns:\n",
    "    sns.displot(Numerical_variables[col])\n",
    "    plt.show()\n",
    "\n"
   ]
  },
  {
   "cell_type": "markdown",
   "id": "a724c44b",
   "metadata": {},
   "source": [
    "3. Check if any of the transformations (log-transform, etc.) we have seen up to this point changes the result."
   ]
  },
  {
   "cell_type": "code",
   "execution_count": 129,
   "id": "b84b1cf6",
   "metadata": {},
   "outputs": [
    {
     "data": {
      "text/html": [
       "<div>\n",
       "<style scoped>\n",
       "    .dataframe tbody tr th:only-of-type {\n",
       "        vertical-align: middle;\n",
       "    }\n",
       "\n",
       "    .dataframe tbody tr th {\n",
       "        vertical-align: top;\n",
       "    }\n",
       "\n",
       "    .dataframe thead th {\n",
       "        text-align: right;\n",
       "    }\n",
       "</style>\n",
       "<table border=\"1\" class=\"dataframe\">\n",
       "  <thead>\n",
       "    <tr style=\"text-align: right;\">\n",
       "      <th></th>\n",
       "      <th>customer_lifetime_value</th>\n",
       "      <th>income</th>\n",
       "      <th>monthly_premium_auto</th>\n",
       "      <th>months_since_last_claim</th>\n",
       "      <th>months_since_policy_inception</th>\n",
       "      <th>number_of_open_complaints</th>\n",
       "      <th>number_of_policies</th>\n",
       "      <th>total_claim_amount</th>\n",
       "    </tr>\n",
       "  </thead>\n",
       "  <tbody>\n",
       "    <tr>\n",
       "      <th>0</th>\n",
       "      <td>7.924260</td>\n",
       "      <td>10.937988</td>\n",
       "      <td>4.234107</td>\n",
       "      <td>3.465736</td>\n",
       "      <td>1.609438</td>\n",
       "      <td>0.000000</td>\n",
       "      <td>0.000000</td>\n",
       "      <td>5.952753</td>\n",
       "    </tr>\n",
       "    <tr>\n",
       "      <th>1</th>\n",
       "      <td>8.850738</td>\n",
       "      <td>9.214034</td>\n",
       "      <td>4.543295</td>\n",
       "      <td>2.564949</td>\n",
       "      <td>3.737670</td>\n",
       "      <td>0.000000</td>\n",
       "      <td>2.079442</td>\n",
       "      <td>7.031268</td>\n",
       "    </tr>\n",
       "    <tr>\n",
       "      <th>2</th>\n",
       "      <td>9.464008</td>\n",
       "      <td>10.794809</td>\n",
       "      <td>4.682131</td>\n",
       "      <td>2.890372</td>\n",
       "      <td>3.637586</td>\n",
       "      <td>0.000000</td>\n",
       "      <td>0.693147</td>\n",
       "      <td>6.339428</td>\n",
       "    </tr>\n",
       "    <tr>\n",
       "      <th>3</th>\n",
       "      <td>8.941920</td>\n",
       "      <td>9.214034</td>\n",
       "      <td>4.663439</td>\n",
       "      <td>2.890372</td>\n",
       "      <td>4.174387</td>\n",
       "      <td>0.000000</td>\n",
       "      <td>1.945910</td>\n",
       "      <td>6.272653</td>\n",
       "    </tr>\n",
       "    <tr>\n",
       "      <th>4</th>\n",
       "      <td>7.942253</td>\n",
       "      <td>10.688211</td>\n",
       "      <td>4.290459</td>\n",
       "      <td>2.484907</td>\n",
       "      <td>3.784190</td>\n",
       "      <td>0.000000</td>\n",
       "      <td>0.000000</td>\n",
       "      <td>4.928202</td>\n",
       "    </tr>\n",
       "    <tr>\n",
       "      <th>...</th>\n",
       "      <td>...</td>\n",
       "      <td>...</td>\n",
       "      <td>...</td>\n",
       "      <td>...</td>\n",
       "      <td>...</td>\n",
       "      <td>...</td>\n",
       "      <td>...</td>\n",
       "      <td>...</td>\n",
       "    </tr>\n",
       "    <tr>\n",
       "      <th>9129</th>\n",
       "      <td>10.060747</td>\n",
       "      <td>11.183602</td>\n",
       "      <td>4.290459</td>\n",
       "      <td>2.890372</td>\n",
       "      <td>4.488636</td>\n",
       "      <td>0.000000</td>\n",
       "      <td>0.693147</td>\n",
       "      <td>5.289452</td>\n",
       "    </tr>\n",
       "    <tr>\n",
       "      <th>9130</th>\n",
       "      <td>8.038031</td>\n",
       "      <td>9.980634</td>\n",
       "      <td>4.369448</td>\n",
       "      <td>2.639057</td>\n",
       "      <td>3.332205</td>\n",
       "      <td>0.000000</td>\n",
       "      <td>0.000000</td>\n",
       "      <td>5.938064</td>\n",
       "    </tr>\n",
       "    <tr>\n",
       "      <th>9131</th>\n",
       "      <td>9.007476</td>\n",
       "      <td>9.214034</td>\n",
       "      <td>4.442651</td>\n",
       "      <td>2.197225</td>\n",
       "      <td>3.610918</td>\n",
       "      <td>1.098612</td>\n",
       "      <td>0.693147</td>\n",
       "      <td>6.673026</td>\n",
       "    </tr>\n",
       "    <tr>\n",
       "      <th>9132</th>\n",
       "      <td>8.925912</td>\n",
       "      <td>9.996112</td>\n",
       "      <td>4.564348</td>\n",
       "      <td>3.526361</td>\n",
       "      <td>1.098612</td>\n",
       "      <td>0.000000</td>\n",
       "      <td>1.098612</td>\n",
       "      <td>6.538429</td>\n",
       "    </tr>\n",
       "    <tr>\n",
       "      <th>9133</th>\n",
       "      <td>7.867809</td>\n",
       "      <td>9.214034</td>\n",
       "      <td>4.343805</td>\n",
       "      <td>1.098612</td>\n",
       "      <td>4.499810</td>\n",
       "      <td>0.000000</td>\n",
       "      <td>0.000000</td>\n",
       "      <td>5.912421</td>\n",
       "    </tr>\n",
       "  </tbody>\n",
       "</table>\n",
       "<p>9134 rows × 8 columns</p>\n",
       "</div>"
      ],
      "text/plain": [
       "      customer_lifetime_value     income  monthly_premium_auto  \\\n",
       "0                    7.924260  10.937988              4.234107   \n",
       "1                    8.850738   9.214034              4.543295   \n",
       "2                    9.464008  10.794809              4.682131   \n",
       "3                    8.941920   9.214034              4.663439   \n",
       "4                    7.942253  10.688211              4.290459   \n",
       "...                       ...        ...                   ...   \n",
       "9129                10.060747  11.183602              4.290459   \n",
       "9130                 8.038031   9.980634              4.369448   \n",
       "9131                 9.007476   9.214034              4.442651   \n",
       "9132                 8.925912   9.996112              4.564348   \n",
       "9133                 7.867809   9.214034              4.343805   \n",
       "\n",
       "      months_since_last_claim  months_since_policy_inception  \\\n",
       "0                    3.465736                       1.609438   \n",
       "1                    2.564949                       3.737670   \n",
       "2                    2.890372                       3.637586   \n",
       "3                    2.890372                       4.174387   \n",
       "4                    2.484907                       3.784190   \n",
       "...                       ...                            ...   \n",
       "9129                 2.890372                       4.488636   \n",
       "9130                 2.639057                       3.332205   \n",
       "9131                 2.197225                       3.610918   \n",
       "9132                 3.526361                       1.098612   \n",
       "9133                 1.098612                       4.499810   \n",
       "\n",
       "      number_of_open_complaints  number_of_policies  total_claim_amount  \n",
       "0                      0.000000            0.000000            5.952753  \n",
       "1                      0.000000            2.079442            7.031268  \n",
       "2                      0.000000            0.693147            6.339428  \n",
       "3                      0.000000            1.945910            6.272653  \n",
       "4                      0.000000            0.000000            4.928202  \n",
       "...                         ...                 ...                 ...  \n",
       "9129                   0.000000            0.693147            5.289452  \n",
       "9130                   0.000000            0.000000            5.938064  \n",
       "9131                   1.098612            0.693147            6.673026  \n",
       "9132                   0.000000            1.098612            6.538429  \n",
       "9133                   0.000000            0.000000            5.912421  \n",
       "\n",
       "[9134 rows x 8 columns]"
      ]
     },
     "execution_count": 129,
     "metadata": {},
     "output_type": "execute_result"
    }
   ],
   "source": [
    "min_value = np.min(Numerical_variables[Numerical_variables > 0])\n",
    "numerical_vars_transformed = np.log(np.maximum(min_value, Numerical_variables.values))\n",
    "numerical_vars_transformed = pd.DataFrame(numerical_vars_transformed, columns=Numerical_variables.columns)\n",
    "numerical_vars_transformed"
   ]
  },
  {
   "cell_type": "code",
   "execution_count": 131,
   "id": "df04b4e4",
   "metadata": {
    "scrolled": false
   },
   "outputs": [
    {
     "data": {
      "image/png": "[encoded data removed]",
      "text/plain": [
       "<Figure size 432x288 with 1 Axes>"
      ]
     },
     "metadata": {
      "needs_background": "light"
     },
     "output_type": "display_data"
    },
    {
     "data": {
      "image/png": "[encoded data removed]",
      "text/plain": [
       "<Figure size 432x288 with 1 Axes>"
      ]
     },
     "metadata": {
      "needs_background": "light"
     },
     "output_type": "display_data"
    },
    {
     "data": {
      "image/png": "[encoded data removed]",
      "text/plain": [
       "<Figure size 432x288 with 1 Axes>"
      ]
     },
     "metadata": {
      "needs_background": "light"
     },
     "output_type": "display_data"
    },
    {
     "data": {
      "image/png": "[encoded data removed]",
      "text/plain": [
       "<Figure size 432x288 with 1 Axes>"
      ]
     },
     "metadata": {
      "needs_background": "light"
     },
     "output_type": "display_data"
    },
    {
     "data": {
      "image/png": "[encoded data removed]",
      "text/plain": [
       "<Figure size 432x288 with 1 Axes>"
      ]
     },
     "metadata": {
      "needs_background": "light"
     },
     "output_type": "display_data"
    },
    {
     "data": {
      "image/png": "[encoded data removed]",
      "text/plain": [
       "<Figure size 432x288 with 1 Axes>"
      ]
     },
     "metadata": {
      "needs_background": "light"
     },
     "output_type": "display_data"
    },
    {
     "data": {
      "image/png": "[encoded data removed]",
      "text/plain": [
       "<Figure size 432x288 with 1 Axes>"
      ]
     },
     "metadata": {
      "needs_background": "light"
     },
     "output_type": "display_data"
    },
    {
     "data": {
      "image/png": "[encoded data removed]",
      "text/plain": [
       "<Figure size 432x288 with 1 Axes>"
      ]
     },
     "metadata": {
      "needs_background": "light"
     },
     "output_type": "display_data"
    }
   ],
   "source": [
    "# Plot histograms for the log-transformed variables\n",
    "for col in numerical_vars_transformed.columns:\n",
    "    sns.histplot(numerical_vars_transformed[col])\n",
    "    plt.show()"
   ]
  },
  {
   "cell_type": "code",
   "execution_count": null,
   "id": "10e90913",
   "metadata": {},
   "outputs": [],
   "source": []
  },
  {
   "cell_type": "code",
   "execution_count": null,
   "id": "eb3ee0b2",
   "metadata": {},
   "outputs": [],
   "source": []
  },
  {
   "cell_type": "code",
   "execution_count": null,
   "id": "b3623861",
   "metadata": {},
   "outputs": [],
   "source": []
  }
 ],
 "metadata": {
  "kernelspec": {
   "display_name": "Python 3 (ipykernel)",
   "language": "python",
   "name": "python3"
  },
  "language_info": {
   "codemirror_mode": {
    "name": "ipython",
    "version": 3
   },
   "file_extension": ".py",
   "mimetype": "text/x-python",
   "name": "python",
   "nbconvert_exporter": "python",
   "pygments_lexer": "ipython3",
   "version": "3.9.12"
  }
 },
 "nbformat": 4,
 "nbformat_minor": 5
}
